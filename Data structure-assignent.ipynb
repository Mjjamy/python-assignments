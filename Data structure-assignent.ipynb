{
 "cells": [
  {
   "cell_type": "code",
   "execution_count": 1,
   "id": "43c2248d-a7e8-4b67-b04d-e5f69b06145e",
   "metadata": {},
   "outputs": [
    {
     "data": {
      "text/plain": [
       "'A'"
      ]
     },
     "execution_count": 1,
     "metadata": {},
     "output_type": "execute_result"
    }
   ],
   "source": [
    "#A1-String slicing with examples\n",
    "\n",
    "#Each character in the string can be accessed by its index, or position. Substrings can be extracted using slicing.\n",
    "\n",
    "# examples\n",
    "\n",
    "a=\"Ajay\"\n",
    "a[0]"
   ]
  },
  {
   "cell_type": "code",
   "execution_count": 2,
   "id": "387c6927-992a-42b8-b995-14eacac9ed06",
   "metadata": {},
   "outputs": [
    {
     "data": {
      "text/plain": [
       "'j'"
      ]
     },
     "execution_count": 2,
     "metadata": {},
     "output_type": "execute_result"
    }
   ],
   "source": [
    "a[1]"
   ]
  },
  {
   "cell_type": "code",
   "execution_count": 3,
   "id": "6cb406aa-b210-45fd-a17b-61339ffddccf",
   "metadata": {},
   "outputs": [
    {
     "data": {
      "text/plain": [
       "'a'"
      ]
     },
     "execution_count": 3,
     "metadata": {},
     "output_type": "execute_result"
    }
   ],
   "source": [
    "a[2]"
   ]
  },
  {
   "cell_type": "code",
   "execution_count": 4,
   "id": "4c4ebaf9-76bc-49ef-ac48-5a275037ee19",
   "metadata": {},
   "outputs": [
    {
     "data": {
      "text/plain": [
       "'y'"
      ]
     },
     "execution_count": 4,
     "metadata": {},
     "output_type": "execute_result"
    }
   ],
   "source": [
    "a[3]"
   ]
  },
  {
   "cell_type": "code",
   "execution_count": 5,
   "id": "5d004f19-2507-46f5-b2ae-de9c13c05653",
   "metadata": {},
   "outputs": [
    {
     "data": {
      "text/plain": [
       "'I am'"
      ]
     },
     "execution_count": 5,
     "metadata": {},
     "output_type": "execute_result"
    }
   ],
   "source": [
    "#2nd example\n",
    "string1=\"I am a good student\"\n",
    "string1[0:4] #4 is exclusive"
   ]
  },
  {
   "cell_type": "code",
   "execution_count": 7,
   "id": "0f1ddcb2-b217-4824-8c6b-499398d8426f",
   "metadata": {},
   "outputs": [
    {
     "data": {
      "text/plain": [
       "'a good '"
      ]
     },
     "execution_count": 7,
     "metadata": {},
     "output_type": "execute_result"
    }
   ],
   "source": [
    "string1[5:12]"
   ]
  },
  {
   "cell_type": "code",
   "execution_count": 8,
   "id": "be5a7d2a-2a6e-4a87-8403-081d995ed1a9",
   "metadata": {},
   "outputs": [
    {
     "data": {
      "text/plain": [
       "'I am a good student'"
      ]
     },
     "execution_count": 8,
     "metadata": {},
     "output_type": "execute_result"
    }
   ],
   "source": [
    "string1[0:] #if u do not provide end index it will by defalt give till the last index"
   ]
  },
  {
   "cell_type": "code",
   "execution_count": 9,
   "id": "3e7967e2-eaea-4422-847c-a6d5a62f5bf4",
   "metadata": {},
   "outputs": [
    {
     "data": {
      "text/plain": [
       "'m a good student'"
      ]
     },
     "execution_count": 9,
     "metadata": {},
     "output_type": "execute_result"
    }
   ],
   "source": [
    "string1[3:]\n"
   ]
  },
  {
   "cell_type": "code",
   "execution_count": 11,
   "id": "bc7621f9-7ad0-4c7a-8c75-7f8cb00d9e41",
   "metadata": {},
   "outputs": [
    {
     "data": {
      "text/plain": [
       "'p'"
      ]
     },
     "execution_count": 11,
     "metadata": {},
     "output_type": "execute_result"
    }
   ],
   "source": [
    "#3rd exp\n",
    "string2=\"pwskills\"\n",
    "string2[0]"
   ]
  },
  {
   "cell_type": "code",
   "execution_count": 12,
   "id": "487aa25f-6df5-409d-b3b2-674706d1bb5e",
   "metadata": {},
   "outputs": [
    {
     "data": {
      "text/plain": [
       "'s'"
      ]
     },
     "execution_count": 12,
     "metadata": {},
     "output_type": "execute_result"
    }
   ],
   "source": [
    "string2[-1]"
   ]
  },
  {
   "cell_type": "code",
   "execution_count": 13,
   "id": "15088498-22d4-4ff1-9889-dacc2c71ef6c",
   "metadata": {},
   "outputs": [
    {
     "data": {
      "text/plain": [
       "'l'"
      ]
     },
     "execution_count": 13,
     "metadata": {},
     "output_type": "execute_result"
    }
   ],
   "source": [
    "string2[-2]"
   ]
  },
  {
   "cell_type": "code",
   "execution_count": 14,
   "id": "555db96a-f99a-4df7-81ec-e36ba218bb9c",
   "metadata": {},
   "outputs": [
    {
     "data": {
      "text/plain": [
       "'lls'"
      ]
     },
     "execution_count": 14,
     "metadata": {},
     "output_type": "execute_result"
    }
   ],
   "source": [
    "#when u want only last 3 characters\n",
    "string2[-3:]"
   ]
  },
  {
   "cell_type": "code",
   "execution_count": 15,
   "id": "545e3042-cafe-4e4d-9225-5bfbb8d089fa",
   "metadata": {},
   "outputs": [
    {
     "data": {
      "text/plain": [
       "list"
      ]
     },
     "execution_count": 15,
     "metadata": {},
     "output_type": "execute_result"
    }
   ],
   "source": [
    "#A2-key features of lists in python\n",
    "\n",
    "#lists r ordered collection of items\n",
    "# []\n",
    "#can store any data type\n",
    "#like a shopping bag which can store everything\n",
    "\n",
    "type([])"
   ]
  },
  {
   "cell_type": "code",
   "execution_count": 17,
   "id": "cba427bf-8542-4ed7-8138-1e52bbdcbef0",
   "metadata": {},
   "outputs": [
    {
     "data": {
      "text/plain": [
       "list"
      ]
     },
     "execution_count": 17,
     "metadata": {},
     "output_type": "execute_result"
    }
   ],
   "source": [
    "#A3-Accessing, Modifying and deleting elements in a list\n",
    "#Code\n",
    "grocery_list=[\"milk\" ,\"orange\",1,2.2, True, 3+5j]\n",
    "type(grocery_list)"
   ]
  },
  {
   "cell_type": "code",
   "execution_count": 18,
   "id": "cf4ef1f0-65b5-43db-9793-1a932aa58481",
   "metadata": {},
   "outputs": [
    {
     "data": {
      "text/plain": [
       "'milk'"
      ]
     },
     "execution_count": 18,
     "metadata": {},
     "output_type": "execute_result"
    }
   ],
   "source": [
    "#lists are mutable\n",
    "#accesing elements\n",
    "grocery_list[0]"
   ]
  },
  {
   "cell_type": "code",
   "execution_count": 19,
   "id": "78e0c05a-6f81-4387-aebd-77e01a6927f4",
   "metadata": {},
   "outputs": [
    {
     "data": {
      "text/plain": [
       "(3+5j)"
      ]
     },
     "execution_count": 19,
     "metadata": {},
     "output_type": "execute_result"
    }
   ],
   "source": [
    "grocery_list[-1]"
   ]
  },
  {
   "cell_type": "code",
   "execution_count": 20,
   "id": "4555613e-e9a3-4902-8093-5f39b7d3283b",
   "metadata": {},
   "outputs": [
    {
     "data": {
      "text/plain": [
       "['milk', 'orange', 1, 2.2, True, (3+5j)]"
      ]
     },
     "execution_count": 20,
     "metadata": {},
     "output_type": "execute_result"
    }
   ],
   "source": [
    "grocery_list[0:]"
   ]
  },
  {
   "cell_type": "code",
   "execution_count": 38,
   "id": "a72b1c79-dec5-4771-ae6f-6ae6df21ef4b",
   "metadata": {},
   "outputs": [
    {
     "data": {
      "text/plain": [
       "['milk',\n",
       " 'orange',\n",
       " 1,\n",
       " 2.2,\n",
       " True,\n",
       " (3+5j),\n",
       " 'banana',\n",
       " 'banana',\n",
       " 'banana',\n",
       " 'banana',\n",
       " 'banana',\n",
       " '1',\n",
       " 'False',\n",
       " False,\n",
       " False,\n",
       " False,\n",
       " 2.3,\n",
       " 2.3,\n",
       " 2.3]"
      ]
     },
     "execution_count": 38,
     "metadata": {},
     "output_type": "execute_result"
    }
   ],
   "source": [
    "#modifying elements\n",
    "grocery_list.append(2.3)\n",
    "grocery_list"
   ]
  },
  {
   "cell_type": "code",
   "execution_count": 41,
   "id": "54c8e8d6-3c91-4e7a-ad2f-fda50dc3cd5d",
   "metadata": {},
   "outputs": [
    {
     "data": {
      "text/plain": [
       "['apples', 'milk', True, 'bread']"
      ]
     },
     "execution_count": 41,
     "metadata": {},
     "output_type": "execute_result"
    }
   ],
   "source": [
    "#Operations: You can add, remove, or modify elements within a list using indexing and slicing. Lists are versatile for storing and managing collections that might change.\n",
    "#Example: ```python\n",
    "shopping_list = [\"apples\", 2, \"milk\", True] # Mixed data types \n",
    "shopping_list.append(\"bread\") # Adding an item \n",
    "del shopping_list[1] # Removing the second item\n",
    "\n",
    "shopping_list\n",
    "#Analogy: Imagine a shopping cart where you can add new items, remove unwanted ones, or change quantities. Lists offer this flexibility in data storage."
   ]
  },
  {
   "cell_type": "code",
   "execution_count": 43,
   "id": "409d979e-ea07-415e-b2c1-fb67d6c89b25",
   "metadata": {},
   "outputs": [
    {
     "data": {
      "text/plain": [
       "['apples', 'bread']"
      ]
     },
     "execution_count": 43,
     "metadata": {},
     "output_type": "execute_result"
    }
   ],
   "source": [
    "#deleting elements\n",
    "del shopping_list[1]\n",
    "shopping_list"
   ]
  },
  {
   "cell_type": "code",
   "execution_count": 1,
   "id": "d756e35a-2650-4522-bc5f-c11849bd2fa3",
   "metadata": {},
   "outputs": [
    {
     "data": {
      "text/plain": [
       "list"
      ]
     },
     "execution_count": 1,
     "metadata": {},
     "output_type": "execute_result"
    }
   ],
   "source": [
    "#A4-Lists And Tuples with examples(comparison)\n",
    "\n",
    "#Lists\n",
    "#lists r ordered collection of items\n",
    "# []\n",
    "#can store any data type\n",
    "#like a shopping bag which can store everything\n",
    "#code\n",
    "grocery_list=[\"milk\" ,\"orange\",1,2.2, True, 3+5j]\n",
    "type(grocery_list)"
   ]
  },
  {
   "cell_type": "code",
   "execution_count": 2,
   "id": "3da12874-aef1-4594-8565-9053b7998119",
   "metadata": {},
   "outputs": [
    {
     "data": {
      "text/plain": [
       "'milk'"
      ]
     },
     "execution_count": 2,
     "metadata": {},
     "output_type": "execute_result"
    }
   ],
   "source": [
    "#lists are mutable\n",
    "#accesing elements\n",
    "grocery_list[0]"
   ]
  },
  {
   "cell_type": "code",
   "execution_count": 3,
   "id": "af08b50d-f159-4e2e-8c62-8a6a3de500c3",
   "metadata": {},
   "outputs": [
    {
     "data": {
      "text/plain": [
       "['milk', 'orange', 1, 2.2, True, (3+5j), 2.3]"
      ]
     },
     "execution_count": 3,
     "metadata": {},
     "output_type": "execute_result"
    }
   ],
   "source": [
    "#modifying elements\n",
    "grocery_list.append(2.3)\n",
    "grocery_list"
   ]
  },
  {
   "cell_type": "code",
   "execution_count": 4,
   "id": "0aada84a-ed31-4d77-83c3-22889f5f7e97",
   "metadata": {},
   "outputs": [
    {
     "data": {
      "text/plain": [
       "['apples', 'milk', True, 'bread']"
      ]
     },
     "execution_count": 4,
     "metadata": {},
     "output_type": "execute_result"
    }
   ],
   "source": [
    "#Operations: You can add, remove, or modify elements within a list using indexing and slicing. Lists are versatile for storing and managing collections that might change.\n",
    "#Example: ```python\n",
    "shopping_list = [\"apples\", 2, \"milk\", True] # Mixed data types \n",
    "shopping_list.append(\"bread\") # Adding an item \n",
    "del shopping_list[1] # Removing the second item\n",
    "\n",
    "shopping_list\n",
    "#Analogy: Imagine a shopping cart where you can add new items, remove unwanted ones, or change quantities. Lists offer this flexibility in data storage."
   ]
  },
  {
   "cell_type": "code",
   "execution_count": 5,
   "id": "c71d9cb8-9118-41bf-897f-ab484426f98f",
   "metadata": {},
   "outputs": [
    {
     "data": {
      "text/plain": [
       "tuple"
      ]
     },
     "execution_count": 5,
     "metadata": {},
     "output_type": "execute_result"
    }
   ],
   "source": [
    "#Tuples\n",
    "#examples\n",
    "#Description: Ordered, immutable collections of elements, similar to lists. However, once created, the items in a tuple cannot be changed. They provide a secure way to store data that shouldn't be modified.\n",
    "#Operations: You can access elements using indexing and slicing, but you cannot modify the content. Tuples are useful for representing fixed datasets or configuration\n",
    "#Analogy: Imagine a museum exhibit with artifacts in a fixed display case. These artifacts (data) are fixed in their place (immutable) and cannot be rearranged or removed, ensuring their preservation.\n",
    "#code\n",
    "t=()\n",
    "type(t)\n"
   ]
  },
  {
   "cell_type": "code",
   "execution_count": 6,
   "id": "aeda51d0-df5f-499f-978c-e6a122c82a95",
   "metadata": {},
   "outputs": [
    {
     "data": {
      "text/plain": [
       "tuple"
      ]
     },
     "execution_count": 6,
     "metadata": {},
     "output_type": "execute_result"
    }
   ],
   "source": [
    "t=(\"Ajay\" ,\"pwskills\" ,2 ,2.3, True, 3+5j)\n",
    "type(t)"
   ]
  },
  {
   "cell_type": "code",
   "execution_count": 7,
   "id": "1349135d-24e5-42c9-bb34-a14e045df3dd",
   "metadata": {},
   "outputs": [
    {
     "data": {
      "text/plain": [
       "'Ajay'"
      ]
     },
     "execution_count": 7,
     "metadata": {},
     "output_type": "execute_result"
    }
   ],
   "source": [
    "t[0]"
   ]
  },
  {
   "cell_type": "code",
   "execution_count": 8,
   "id": "65d55666-a2cd-4a59-8f79-d88ac646373f",
   "metadata": {},
   "outputs": [
    {
     "data": {
      "text/plain": [
       "(3+5j)"
      ]
     },
     "execution_count": 8,
     "metadata": {},
     "output_type": "execute_result"
    }
   ],
   "source": [
    "t[5]"
   ]
  },
  {
   "cell_type": "code",
   "execution_count": 9,
   "id": "c69ec454-cbad-4aae-92a4-e79eb9a05b25",
   "metadata": {},
   "outputs": [
    {
     "data": {
      "text/plain": [
       "(3+5j)"
      ]
     },
     "execution_count": 9,
     "metadata": {},
     "output_type": "execute_result"
    }
   ],
   "source": [
    "t[-1]"
   ]
  },
  {
   "cell_type": "code",
   "execution_count": 10,
   "id": "93145ad1-8d1a-40f0-a820-b0ee2816efc8",
   "metadata": {},
   "outputs": [
    {
     "data": {
      "text/plain": [
       "'Ajay'"
      ]
     },
     "execution_count": 10,
     "metadata": {},
     "output_type": "execute_result"
    }
   ],
   "source": [
    "#tuples are immutable\n",
    "t[0]"
   ]
  },
  {
   "cell_type": "code",
   "execution_count": 11,
   "id": "8725b49a-f56e-48a7-bda5-236d110e36d8",
   "metadata": {},
   "outputs": [
    {
     "ename": "TypeError",
     "evalue": "'tuple' object does not support item assignment",
     "output_type": "error",
     "traceback": [
      "\u001b[0;31m---------------------------------------------------------------------------\u001b[0m",
      "\u001b[0;31mTypeError\u001b[0m                                 Traceback (most recent call last)",
      "Cell \u001b[0;32mIn[11], line 1\u001b[0m\n\u001b[0;32m----> 1\u001b[0m \u001b[43mt\u001b[49m\u001b[43m[\u001b[49m\u001b[38;5;241;43m0\u001b[39;49m\u001b[43m]\u001b[49m\u001b[38;5;241m=\u001b[39m\u001b[38;5;241m100\u001b[39m\n",
      "\u001b[0;31mTypeError\u001b[0m: 'tuple' object does not support item assignment"
     ]
    }
   ],
   "source": [
    "t[0]=100"
   ]
  },
  {
   "cell_type": "code",
   "execution_count": 12,
   "id": "f996818a-8481-4cf0-aca9-e985c65e012a",
   "metadata": {},
   "outputs": [
    {
     "ename": "TypeError",
     "evalue": "'tuple' object does not support item assignment",
     "output_type": "error",
     "traceback": [
      "\u001b[0;31m---------------------------------------------------------------------------\u001b[0m",
      "\u001b[0;31mTypeError\u001b[0m                                 Traceback (most recent call last)",
      "Cell \u001b[0;32mIn[12], line 4\u001b[0m\n\u001b[1;32m      1\u001b[0m \u001b[38;5;66;03m#use tuples as a data structure where u do not want to modify the data\u001b[39;00m\n\u001b[1;32m      2\u001b[0m \u001b[38;5;66;03m#code\u001b[39;00m\n\u001b[1;32m      3\u001b[0m emp_id\u001b[38;5;241m=\u001b[39m(\u001b[38;5;241m1\u001b[39m,\u001b[38;5;241m2\u001b[39m,\u001b[38;5;241m3\u001b[39m,\u001b[38;5;241m4\u001b[39m,\u001b[38;5;241m5\u001b[39m)\n\u001b[0;32m----> 4\u001b[0m \u001b[43memp_id\u001b[49m\u001b[43m[\u001b[49m\u001b[38;5;241;43m0\u001b[39;49m\u001b[43m]\u001b[49m\u001b[38;5;241m=\u001b[39m\u001b[38;5;241m100\u001b[39m\n",
      "\u001b[0;31mTypeError\u001b[0m: 'tuple' object does not support item assignment"
     ]
    }
   ],
   "source": [
    "#use tuples as a data structure where u do not want to modify the data\n",
    "#code used case\n",
    "emp_id=(1,2,3,4,5)\n",
    "emp_id[0]=100"
   ]
  },
  {
   "cell_type": "code",
   "execution_count": 15,
   "id": "3b4f61be-e80b-418e-9ded-ed9c222fb817",
   "metadata": {},
   "outputs": [
    {
     "data": {
      "text/plain": [
       "dict"
      ]
     },
     "execution_count": 15,
     "metadata": {},
     "output_type": "execute_result"
    }
   ],
   "source": [
    "#A5-Sets and examples of their use\n",
    "#Sets are unordered and unique collection of elements\n",
    "#unordered -indexing will not work\n",
    "#doesn't allow duplicate elements\n",
    "#code\n",
    "s={}\n",
    "type(s)"
   ]
  },
  {
   "cell_type": "code",
   "execution_count": 16,
   "id": "c18bbf1b-31eb-4045-8573-b86f6cd24e2e",
   "metadata": {},
   "outputs": [
    {
     "data": {
      "text/plain": [
       "set"
      ]
     },
     "execution_count": 16,
     "metadata": {},
     "output_type": "execute_result"
    }
   ],
   "source": [
    "s={1}\n",
    "type(s)"
   ]
  },
  {
   "cell_type": "code",
   "execution_count": 17,
   "id": "b8295850-6a2f-4959-b136-7016faf43ac6",
   "metadata": {},
   "outputs": [
    {
     "data": {
      "text/plain": [
       "set"
      ]
     },
     "execution_count": 17,
     "metadata": {},
     "output_type": "execute_result"
    }
   ],
   "source": [
    "s={1,2,3,4}\n",
    "type(s)"
   ]
  },
  {
   "cell_type": "code",
   "execution_count": 18,
   "id": "a7ba2861-a777-413b-b585-1d95995f5ddd",
   "metadata": {},
   "outputs": [
    {
     "data": {
      "text/plain": [
       "{1, 2, 'Ajay', 'ajay'}"
      ]
     },
     "execution_count": 18,
     "metadata": {},
     "output_type": "execute_result"
    }
   ],
   "source": [
    "s={1,2,1,2,2,\"Ajay\",\"Ajay\",\"Ajay\",\"ajay\",\"ajay\"}\n",
    "s"
   ]
  },
  {
   "cell_type": "code",
   "execution_count": 21,
   "id": "313678c3-8763-4754-87cd-f58882a1601f",
   "metadata": {},
   "outputs": [],
   "source": [
    "#used case\n",
    "list1=[1,2,3,\"brinjal\",\"brinjal\",\"apple\",\"apple\"]\n",
    "s=set(list1)"
   ]
  },
  {
   "cell_type": "code",
   "execution_count": 22,
   "id": "a2aacced-73c2-4178-9bf9-99b07b52989b",
   "metadata": {},
   "outputs": [
    {
     "data": {
      "text/plain": [
       "{1, 2, 3, 'apple', 'brinjal'}"
      ]
     },
     "execution_count": 22,
     "metadata": {},
     "output_type": "execute_result"
    }
   ],
   "source": [
    "s"
   ]
  },
  {
   "cell_type": "code",
   "execution_count": 33,
   "id": "69e5a991-433f-4e07-98a8-82bc14548989",
   "metadata": {},
   "outputs": [
    {
     "data": {
      "text/plain": [
       "2"
      ]
     },
     "execution_count": 33,
     "metadata": {},
     "output_type": "execute_result"
    }
   ],
   "source": [
    "#A6-Used Cases of Tuples and Sets\n",
    "\n",
    "#tuples used cases\n",
    "#code\n",
    "tuple1=(\"pwskills\",1,1,2,2,2,\"pwskills\")\n",
    "tuple1.count(1)"
   ]
  },
  {
   "cell_type": "code",
   "execution_count": 34,
   "id": "7f5e7daa-973b-4cf9-a0a8-201b165e4cd5",
   "metadata": {},
   "outputs": [
    {
     "data": {
      "text/plain": [
       "0"
      ]
     },
     "execution_count": 34,
     "metadata": {},
     "output_type": "execute_result"
    }
   ],
   "source": [
    "tuple1.index(\"pwskills\")"
   ]
  },
  {
   "cell_type": "code",
   "execution_count": 36,
   "id": "620bfbb2-be9c-40b1-960a-25591f48e562",
   "metadata": {},
   "outputs": [
    {
     "name": "stdout",
     "output_type": "stream",
     "text": [
      "('pwskills', 1, 1, 2, 2, 2, 'pwskills', 'pwskills', 1, 1, 2, 2, 2, 'pwskills')\n"
     ]
    }
   ],
   "source": [
    "print(tuple1*2)"
   ]
  },
  {
   "cell_type": "code",
   "execution_count": 37,
   "id": "732af61e-1cc9-477f-9af6-8cccc694c2e7",
   "metadata": {},
   "outputs": [
    {
     "data": {
      "text/plain": [
       "('pwskills', 1, 1, 2)"
      ]
     },
     "execution_count": 37,
     "metadata": {},
     "output_type": "execute_result"
    }
   ],
   "source": [
    "tuple1[0:4] #slicing"
   ]
  },
  {
   "cell_type": "code",
   "execution_count": 38,
   "id": "f238b6e2-ef5c-41e1-b3ae-bddd7c05be59",
   "metadata": {},
   "outputs": [
    {
     "data": {
      "text/plain": [
       "('pwskills', 2, 2, 2, 1, 1, 'pwskills')"
      ]
     },
     "execution_count": 38,
     "metadata": {},
     "output_type": "execute_result"
    }
   ],
   "source": [
    "tuple1[::-1]"
   ]
  },
  {
   "cell_type": "code",
   "execution_count": 39,
   "id": "12b27029-e58b-4bc5-8c61-0d68d0183f99",
   "metadata": {},
   "outputs": [
    {
     "data": {
      "text/plain": [
       "{1, 2, 'Ajay', 'ajay'}"
      ]
     },
     "execution_count": 39,
     "metadata": {},
     "output_type": "execute_result"
    }
   ],
   "source": [
    "#sets used cases\n",
    "#code\n",
    "s={1,2,1,2,2,\"Ajay\",\"Ajay\",\"Ajay\",\"ajay\",\"ajay\"}\n",
    "s"
   ]
  },
  {
   "cell_type": "code",
   "execution_count": 40,
   "id": "95999aa3-f63f-40df-be94-16654ad768b3",
   "metadata": {},
   "outputs": [
    {
     "data": {
      "text/plain": [
       "{1, 2, 3, 'apple', 'brinjal'}"
      ]
     },
     "execution_count": 40,
     "metadata": {},
     "output_type": "execute_result"
    }
   ],
   "source": [
    "#used case\n",
    "list1=[1,2,3,\"brinjal\",\"brinjal\",\"apple\",\"apple\"]\n",
    "s=set(list1)\n",
    "s"
   ]
  },
  {
   "cell_type": "code",
   "execution_count": 43,
   "id": "c15f659f-ee89-40ee-bfec-807658d36582",
   "metadata": {},
   "outputs": [
    {
     "ename": "TypeError",
     "evalue": "'set' object is not subscriptable",
     "output_type": "error",
     "traceback": [
      "\u001b[0;31m---------------------------------------------------------------------------\u001b[0m",
      "\u001b[0;31mTypeError\u001b[0m                                 Traceback (most recent call last)",
      "Cell \u001b[0;32mIn[43], line 1\u001b[0m\n\u001b[0;32m----> 1\u001b[0m \u001b[43ms\u001b[49m\u001b[43m[\u001b[49m\u001b[38;5;241;43m0\u001b[39;49m\u001b[43m]\u001b[49m \u001b[38;5;66;03m#cannot access elemnts\u001b[39;00m\n",
      "\u001b[0;31mTypeError\u001b[0m: 'set' object is not subscriptable"
     ]
    }
   ],
   "source": [
    "s[0] #cannot access elemnts\n"
   ]
  },
  {
   "cell_type": "code",
   "execution_count": 44,
   "id": "03b45adc-2471-4923-9838-4b36d4722291",
   "metadata": {},
   "outputs": [
    {
     "data": {
      "text/plain": [
       "{1, 2, 3, 4, 100}"
      ]
     },
     "execution_count": 44,
     "metadata": {},
     "output_type": "execute_result"
    }
   ],
   "source": [
    "#used case\n",
    "s={1,2,3,4}\n",
    "s.add(100) #set is mutable \n",
    "s"
   ]
  },
  {
   "cell_type": "code",
   "execution_count": 45,
   "id": "3cc048c9-0442-4424-9bef-de38f99f2b47",
   "metadata": {},
   "outputs": [
    {
     "data": {
      "text/plain": [
       "1"
      ]
     },
     "execution_count": 45,
     "metadata": {},
     "output_type": "execute_result"
    }
   ],
   "source": [
    "s.pop() #not compulsory it will remove the last element"
   ]
  },
  {
   "cell_type": "code",
   "execution_count": null,
   "id": "3cea1802-6176-49fb-b0cb-c03961e0c3d2",
   "metadata": {},
   "outputs": [],
   "source": [
    "s.remove(3)"
   ]
  },
  {
   "cell_type": "code",
   "execution_count": 48,
   "id": "8063503e-7c16-4876-9397-3c2d9b6dfd64",
   "metadata": {},
   "outputs": [
    {
     "data": {
      "text/plain": [
       "{2, 4, 100}"
      ]
     },
     "execution_count": 48,
     "metadata": {},
     "output_type": "execute_result"
    }
   ],
   "source": [
    "s"
   ]
  },
  {
   "cell_type": "code",
   "execution_count": 51,
   "id": "57709804-6ce7-40e6-a562-2dbaa3d1270a",
   "metadata": {},
   "outputs": [
    {
     "data": {
      "text/plain": [
       "{100, 2, 4, 'A', 'a', 'j', 'y'}"
      ]
     },
     "execution_count": 51,
     "metadata": {},
     "output_type": "execute_result"
    }
   ],
   "source": [
    "s.update(\"Ajay\")\n",
    "s"
   ]
  },
  {
   "cell_type": "code",
   "execution_count": 52,
   "id": "59de0a2d-3466-42e6-be3c-114b7f803375",
   "metadata": {},
   "outputs": [
    {
     "data": {
      "text/plain": [
       "{100, 2, 4, 'A', 'Ajay', 'a', 'j', 'y'}"
      ]
     },
     "execution_count": 52,
     "metadata": {},
     "output_type": "execute_result"
    }
   ],
   "source": [
    "s.update([\"Ajay\"])\n",
    "s"
   ]
  },
  {
   "cell_type": "code",
   "execution_count": 1,
   "id": "d62570a4-d787-4fe8-a413-08da19e65304",
   "metadata": {},
   "outputs": [
    {
     "data": {
      "text/plain": [
       "dict"
      ]
     },
     "execution_count": 1,
     "metadata": {},
     "output_type": "execute_result"
    }
   ],
   "source": [
    "#A7-add ,modify and delete tems in a dictionary with examples\n",
    "\n",
    "#dictionary is a data structure that stores data as key- value pair\n",
    "#keys are unique and immutable\n",
    "\n",
    "#code\n",
    "d={}\n",
    "type(d)"
   ]
  },
  {
   "cell_type": "code",
   "execution_count": 2,
   "id": "85005ce9-665c-4082-84eb-38e29ca7d190",
   "metadata": {},
   "outputs": [
    {
     "data": {
      "text/plain": [
       "{'Name': 'Ajay', 'Email': 'aj@gmail.com', 'Contact': '1234'}"
      ]
     },
     "execution_count": 2,
     "metadata": {},
     "output_type": "execute_result"
    }
   ],
   "source": [
    "d={\"Name\":\"Ajay\",\"Email\":\"aj@gmail.com\",\"Contact\":\"1234\"}\n",
    "d"
   ]
  },
  {
   "cell_type": "code",
   "execution_count": 3,
   "id": "3849b36c-a921-4361-a79e-cfddd94e29a0",
   "metadata": {},
   "outputs": [
    {
     "data": {
      "text/plain": [
       "{'Name': 'Vijay', 'Email': 'aj@gmail.com', 'Contact': '1234'}"
      ]
     },
     "execution_count": 3,
     "metadata": {},
     "output_type": "execute_result"
    }
   ],
   "source": [
    "#modify the name ajay to vijay\n",
    "d['Name']=\"Vijay\"\n",
    "d"
   ]
  },
  {
   "cell_type": "code",
   "execution_count": 4,
   "id": "c311c89d-c80b-48cd-b049-6f996171acdc",
   "metadata": {},
   "outputs": [
    {
     "data": {
      "text/plain": [
       "{1: 'abc'}"
      ]
     },
     "execution_count": 4,
     "metadata": {},
     "output_type": "execute_result"
    }
   ],
   "source": [
    "#rules for defining keys\n",
    "d={1:\"abc\"}#integer as key\n",
    "d"
   ]
  },
  {
   "cell_type": "code",
   "execution_count": 5,
   "id": "6879f364-de57-4edc-984c-3a588ccf7a64",
   "metadata": {},
   "outputs": [
    {
     "data": {
      "text/plain": [
       "{1.2: 'abc'}"
      ]
     },
     "execution_count": 5,
     "metadata": {},
     "output_type": "execute_result"
    }
   ],
   "source": [
    "d={1.2:\"abc\"}#float as key\n",
    "d"
   ]
  },
  {
   "cell_type": "code",
   "execution_count": null,
   "id": "212d07df-9973-48da-a51a-feed669f7bcc",
   "metadata": {},
   "outputs": [],
   "source": [
    "#only strings and nos can b used as a key\n"
   ]
  },
  {
   "cell_type": "code",
   "execution_count": 6,
   "id": "c342a135-3a0c-41ca-805e-768de6ec8673",
   "metadata": {},
   "outputs": [
    {
     "data": {
      "text/plain": [
       "{'Name': 'Vijay', 'Email': 'aj@gmail.com', 'Contact': '1234'}"
      ]
     },
     "execution_count": 6,
     "metadata": {},
     "output_type": "execute_result"
    }
   ],
   "source": [
    "d={\"Name\":\"Ajay\",\"Email\":\"aj@gmail.com\",\"Contact\":\"1234\",\"Name\":\"Vijay\"}\n",
    "d"
   ]
  },
  {
   "cell_type": "code",
   "execution_count": 9,
   "id": "5ae5f6b6-7aff-4dda-9119-0d83ec76aa0e",
   "metadata": {},
   "outputs": [
    {
     "data": {
      "text/plain": [
       "{'Name': ['Sanjay', 'Ajay', 1, 2],\n",
       " 'Email': 'aj@gmail.com',\n",
       " 'contact': (1234, 5678)}"
      ]
     },
     "execution_count": 9,
     "metadata": {},
     "output_type": "execute_result"
    }
   ],
   "source": [
    "#alwayd the last key value will be used as here name vijay is taken\n",
    "#example\n",
    "d={'Name':['Sanjay','Ajay',1,2],'Email':'aj@gmail.com','contact':(1234,5678)}\n",
    "d"
   ]
  },
  {
   "cell_type": "code",
   "execution_count": 10,
   "id": "2214b879-c4fa-47da-b831-f605fdc7954e",
   "metadata": {},
   "outputs": [
    {
     "data": {
      "text/plain": [
       "'Ajay'"
      ]
     },
     "execution_count": 10,
     "metadata": {},
     "output_type": "execute_result"
    }
   ],
   "source": [
    "d['Name'][1]"
   ]
  },
  {
   "cell_type": "code",
   "execution_count": 11,
   "id": "fb3385e6-dc6e-4964-b447-86e72e09fea3",
   "metadata": {},
   "outputs": [
    {
     "data": {
      "text/plain": [
       "{'Name': ['Sanjay', 'Ajay', 1, 2],\n",
       " 'Email': 'aj@gmail.com',\n",
       " 'contact': (1234, 5678),\n",
       " 'address': 'Bangalore'}"
      ]
     },
     "execution_count": 11,
     "metadata": {},
     "output_type": "execute_result"
    }
   ],
   "source": [
    "#adding another key value pair\n",
    "d[\"address\"]=\"Bangalore\"\n",
    "d"
   ]
  },
  {
   "cell_type": "code",
   "execution_count": 12,
   "id": "52569219-8793-4141-b246-bc2952916419",
   "metadata": {},
   "outputs": [
    {
     "data": {
      "text/plain": [
       "{'Name': ['Sanjay', 'Ajay', 1, 2],\n",
       " 'Email': 'aj@gmail.com',\n",
       " 'contact': (1234, 5678)}"
      ]
     },
     "execution_count": 12,
     "metadata": {},
     "output_type": "execute_result"
    }
   ],
   "source": [
    "#deleting a key-value pair\n",
    "del d[\"address\"]\n",
    "d"
   ]
  },
  {
   "cell_type": "code",
   "execution_count": 13,
   "id": "12414203-9920-4f5c-ad9d-9bb9e5bf1f2b",
   "metadata": {},
   "outputs": [
    {
     "data": {
      "text/plain": [
       "3"
      ]
     },
     "execution_count": 13,
     "metadata": {},
     "output_type": "execute_result"
    }
   ],
   "source": [
    "#A8-importance of dictionary keys being immutable and provide examples\n",
    "#code\n",
    "d={'Name':['Sanjay','Ajay',1,2],'Email':'aj@gmail.com','contact':(1234,5678)}\n",
    "len(d)\n"
   ]
  },
  {
   "cell_type": "code",
   "execution_count": 15,
   "id": "7943dafe-96ca-48ed-a22f-0d4d4221dde3",
   "metadata": {},
   "outputs": [
    {
     "data": {
      "text/plain": [
       "dict_keys(['Name', 'Email', 'contact'])"
      ]
     },
     "execution_count": 15,
     "metadata": {},
     "output_type": "execute_result"
    }
   ],
   "source": [
    "d.keys()"
   ]
  },
  {
   "cell_type": "code",
   "execution_count": 16,
   "id": "9759c7c5-7b41-4715-8cff-ea5ced2859a9",
   "metadata": {},
   "outputs": [
    {
     "data": {
      "text/plain": [
       "dict_values([['Sanjay', 'Ajay', 1, 2], 'aj@gmail.com', (1234, 5678)])"
      ]
     },
     "execution_count": 16,
     "metadata": {},
     "output_type": "execute_result"
    }
   ],
   "source": [
    "d.values()"
   ]
  },
  {
   "cell_type": "code",
   "execution_count": 17,
   "id": "8d56200e-82b5-4b58-a670-1fcd9c21eef7",
   "metadata": {},
   "outputs": [],
   "source": [
    "d1=d.copy()"
   ]
  },
  {
   "cell_type": "code",
   "execution_count": 18,
   "id": "f8744b41-112b-49f9-afb5-8712d12be707",
   "metadata": {},
   "outputs": [
    {
     "data": {
      "text/plain": [
       "{'Name': ['Sanjay', 'Ajay', 1, 2],\n",
       " 'Email': 'aj@gmail.com',\n",
       " 'contact': (1234, 5678)}"
      ]
     },
     "execution_count": 18,
     "metadata": {},
     "output_type": "execute_result"
    }
   ],
   "source": [
    "d1"
   ]
  },
  {
   "cell_type": "code",
   "execution_count": 19,
   "id": "0bbb27eb-9117-4538-91d2-bf8a84ed15b6",
   "metadata": {},
   "outputs": [],
   "source": [
    "del d1"
   ]
  },
  {
   "cell_type": "code",
   "execution_count": 20,
   "id": "de3559d7-6298-4678-bc87-3da614621861",
   "metadata": {},
   "outputs": [
    {
     "ename": "NameError",
     "evalue": "name 'd1' is not defined",
     "output_type": "error",
     "traceback": [
      "\u001b[0;31m---------------------------------------------------------------------------\u001b[0m",
      "\u001b[0;31mNameError\u001b[0m                                 Traceback (most recent call last)",
      "Cell \u001b[0;32mIn[20], line 1\u001b[0m\n\u001b[0;32m----> 1\u001b[0m \u001b[43md1\u001b[49m\n",
      "\u001b[0;31mNameError\u001b[0m: name 'd1' is not defined"
     ]
    }
   ],
   "source": [
    "d1"
   ]
  },
  {
   "cell_type": "code",
   "execution_count": 21,
   "id": "a9bfcb4e-b7ae-4090-b073-463f865ebdf5",
   "metadata": {},
   "outputs": [
    {
     "data": {
      "text/plain": [
       "{'Name': ['Sanjay', 'Ajay', 1, 2],\n",
       " 'Email': 'aj@gmail.com',\n",
       " 'contact': (1234, 5678)}"
      ]
     },
     "execution_count": 21,
     "metadata": {},
     "output_type": "execute_result"
    }
   ],
   "source": [
    "d"
   ]
  },
  {
   "cell_type": "code",
   "execution_count": 22,
   "id": "57669cc8-a771-4c25-b8b0-8cb106b4915b",
   "metadata": {},
   "outputs": [
    {
     "data": {
      "text/plain": [
       "(1234, 5678)"
      ]
     },
     "execution_count": 22,
     "metadata": {},
     "output_type": "execute_result"
    }
   ],
   "source": [
    "d.pop(\"contact\")"
   ]
  },
  {
   "cell_type": "code",
   "execution_count": 23,
   "id": "5ee60a07-6c2b-4784-b054-e357e0c66cda",
   "metadata": {},
   "outputs": [
    {
     "data": {
      "text/plain": [
       "{'Name': ['Sanjay', 'Ajay', 1, 2], 'Email': 'aj@gmail.com'}"
      ]
     },
     "execution_count": 23,
     "metadata": {},
     "output_type": "execute_result"
    }
   ],
   "source": [
    "d"
   ]
  },
  {
   "cell_type": "code",
   "execution_count": 27,
   "id": "9f603667-640b-4b1a-b2f1-d636ed4af2cf",
   "metadata": {},
   "outputs": [
    {
     "data": {
      "text/plain": [
       "{'course': 'ds'}"
      ]
     },
     "execution_count": 27,
     "metadata": {},
     "output_type": "execute_result"
    }
   ],
   "source": [
    "d1={\"course\":\"ds\"}\n",
    "d1"
   ]
  },
  {
   "cell_type": "code",
   "execution_count": 28,
   "id": "e0c4afad-029f-441b-8142-442d7d17435d",
   "metadata": {},
   "outputs": [
    {
     "data": {
      "text/plain": [
       "{'Name': ['Sanjay', 'Ajay', 1, 2], 'Email': 'aj@gmail.com', 'course': 'ds'}"
      ]
     },
     "execution_count": 28,
     "metadata": {},
     "output_type": "execute_result"
    }
   ],
   "source": [
    "d.update(d1)\n",
    "d"
   ]
  },
  {
   "cell_type": "code",
   "execution_count": 29,
   "id": "12a5bc1a-d6f6-454e-8882-a60e07564b67",
   "metadata": {},
   "outputs": [
    {
     "data": {
      "text/plain": [
       "{1: ('a', 'b', 'c'), 2: ('a', 'b', 'c'), 3: ('a', 'b', 'c')}"
      ]
     },
     "execution_count": 29,
     "metadata": {},
     "output_type": "execute_result"
    }
   ],
   "source": [
    "#from keys\n",
    "d.fromkeys((1,2,3),(\"a\",\"b\",\"c\"))"
   ]
  },
  {
   "cell_type": "code",
   "execution_count": null,
   "id": "cdd5efbc-5ba2-42fa-b8a7-d1c85c5bce6b",
   "metadata": {},
   "outputs": [],
   "source": []
  }
 ],
 "metadata": {
  "kernelspec": {
   "display_name": "Python 3 (ipykernel)",
   "language": "python",
   "name": "python3"
  },
  "language_info": {
   "codemirror_mode": {
    "name": "ipython",
    "version": 3
   },
   "file_extension": ".py",
   "mimetype": "text/x-python",
   "name": "python",
   "nbconvert_exporter": "python",
   "pygments_lexer": "ipython3",
   "version": "3.10.8"
  }
 },
 "nbformat": 4,
 "nbformat_minor": 5
}
