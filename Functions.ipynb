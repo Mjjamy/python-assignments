{
 "cells": [
  {
   "cell_type": "code",
   "execution_count": null,
   "id": "86b77d4b-cdd1-4253-abcd-3b35ee6e4dff",
   "metadata": {},
   "outputs": [],
   "source": [
    "#A1-Difference b/w a funtion and a method in a python\n",
    "#Functions\n",
    "#two types of funtions\n",
    "#1-pre-defined functions\n",
    "#2-user -defined funtions"
   ]
  },
  {
   "cell_type": "code",
   "execution_count": 2,
   "id": "b18a04e8-02aa-439c-abe7-b763d11b45bf",
   "metadata": {},
   "outputs": [
    {
     "name": "stdout",
     "output_type": "stream",
     "text": [
      "hello world\n"
     ]
    }
   ],
   "source": [
    "#1-pre-defined functions\n",
    "#Examples\n",
    "print(\"hello world\")\n"
   ]
  },
  {
   "cell_type": "code",
   "execution_count": 3,
   "id": "408c1dfe-4507-4469-8f30-b5aaa6287ab2",
   "metadata": {},
   "outputs": [
    {
     "data": {
      "text/plain": [
       "float"
      ]
     },
     "execution_count": 3,
     "metadata": {},
     "output_type": "execute_result"
    }
   ],
   "source": [
    "type(6.7)"
   ]
  },
  {
   "cell_type": "code",
   "execution_count": 4,
   "id": "e7fd34b8-0f83-4bdf-9cca-ede9f24e172e",
   "metadata": {},
   "outputs": [
    {
     "data": {
      "text/plain": [
       "int"
      ]
     },
     "execution_count": 4,
     "metadata": {},
     "output_type": "execute_result"
    }
   ],
   "source": [
    "type(6)"
   ]
  },
  {
   "cell_type": "code",
   "execution_count": null,
   "id": "cecd65e8-d2e2-4424-ad95-6f42607a4e74",
   "metadata": {},
   "outputs": [],
   "source": [
    "#functions>>print,len,type are in-built python functions\n",
    "#functions are reusable\n"
   ]
  },
  {
   "cell_type": "code",
   "execution_count": 6,
   "id": "b33dc397-278e-4596-b6b6-6042c28dcf5f",
   "metadata": {},
   "outputs": [
    {
     "name": "stdout",
     "output_type": "stream",
     "text": [
      "Welcome to the office\n"
     ]
    }
   ],
   "source": [
    "#User-Defined FUNCTIONS\n",
    "#syntax\n",
    "#def func():\n",
    "    #do something>>body of function\n",
    "\n",
    "#Example\n",
    "#code\n",
    "def greetings():\n",
    "    print(\"Welcome to the office\")\n",
    "   \n",
    "greetings()\n"
   ]
  },
  {
   "cell_type": "code",
   "execution_count": null,
   "id": "8d4d1910-2fa0-4785-8f04-28eb9a1e5972",
   "metadata": {},
   "outputs": [],
   "source": [
    "#A2-Arguements and parameters in python"
   ]
  },
  {
   "cell_type": "code",
   "execution_count": 7,
   "id": "f59bd405-566f-4f64-856f-18174953ecbf",
   "metadata": {},
   "outputs": [
    {
     "name": "stdout",
     "output_type": "stream",
     "text": [
      "Welcome to the office AJAY\n"
     ]
    }
   ],
   "source": [
    "#passing a variable inside a function\n",
    "def greetings(name):\n",
    "    print(\"Welcome to the office\",name)\n",
    "    \n",
    "greetings(\"AJAY\") \n",
    "\n"
   ]
  },
  {
   "cell_type": "code",
   "execution_count": 8,
   "id": "8dbc2e1c-81e1-402f-8867-d51e83a0384f",
   "metadata": {},
   "outputs": [
    {
     "name": "stdout",
     "output_type": "stream",
     "text": [
      "Welcome to the office VIJAY\n"
     ]
    }
   ],
   "source": [
    "greetings(\"VIJAY\")"
   ]
  },
  {
   "cell_type": "code",
   "execution_count": 9,
   "id": "1ffdd13c-8df2-4517-bba5-0a5a94f30ae5",
   "metadata": {},
   "outputs": [
    {
     "name": "stdout",
     "output_type": "stream",
     "text": [
      "Welcome to the office SANJAY\n"
     ]
    }
   ],
   "source": [
    "greetings(\"SANJAY\")"
   ]
  },
  {
   "cell_type": "code",
   "execution_count": 10,
   "id": "03cb3ef2-c92b-4f54-9025-ba674e4b012f",
   "metadata": {},
   "outputs": [
    {
     "data": {
      "text/plain": [
       "'Welcome to the office'"
      ]
     },
     "execution_count": 10,
     "metadata": {},
     "output_type": "execute_result"
    }
   ],
   "source": [
    "def greetings():#>>output of a function\n",
    "    #do something\n",
    "    return(\"Welcome to the office\")\n",
    "greetings()"
   ]
  },
  {
   "cell_type": "code",
   "execution_count": 17,
   "id": "dfd20849-c2b7-4a1d-b8c0-1b37936e1ab6",
   "metadata": {},
   "outputs": [
    {
     "data": {
      "text/plain": [
       "'Welcome to the office-AJAY'"
      ]
     },
     "execution_count": 17,
     "metadata": {},
     "output_type": "execute_result"
    }
   ],
   "source": [
    "greetings() + \"-AJAY\""
   ]
  },
  {
   "cell_type": "code",
   "execution_count": 14,
   "id": "57946477-492b-44cf-ac98-3330a8b7643a",
   "metadata": {},
   "outputs": [
    {
     "data": {
      "text/plain": [
       "25"
      ]
     },
     "execution_count": 14,
     "metadata": {},
     "output_type": "execute_result"
    }
   ],
   "source": [
    "#ARGUEMENTS\n",
    "def sq_no(a):#a is called arguement\n",
    "    return a*a\n",
    "sq_no(5)\n",
    "    "
   ]
  },
  {
   "cell_type": "code",
   "execution_count": 15,
   "id": "1bac1e32-3a39-4e18-b3fa-aca6e3c7dfa6",
   "metadata": {},
   "outputs": [
    {
     "data": {
      "text/plain": [
       "11"
      ]
     },
     "execution_count": 15,
     "metadata": {},
     "output_type": "execute_result"
    }
   ],
   "source": [
    "def addition(a,b):#a and b are positional arguements and treated in order\n",
    "    return a+b\n",
    "addition(5,6)"
   ]
  },
  {
   "cell_type": "code",
   "execution_count": 16,
   "id": "294067a2-8eea-432e-b950-733ad27da3b1",
   "metadata": {},
   "outputs": [
    {
     "data": {
      "text/plain": [
       "6"
      ]
     },
     "execution_count": 16,
     "metadata": {},
     "output_type": "execute_result"
    }
   ],
   "source": [
    "def sum1(a,b,c):\n",
    "    return a+b+c\n",
    "sum1(1,2,3)"
   ]
  },
  {
   "cell_type": "code",
   "execution_count": 17,
   "id": "1ffa200d-c303-4a87-bbda-be9cfe2e7970",
   "metadata": {},
   "outputs": [
    {
     "data": {
      "text/plain": [
       "5"
      ]
     },
     "execution_count": 17,
     "metadata": {},
     "output_type": "execute_result"
    }
   ],
   "source": [
    "#default arguement\n",
    "def sum1(b,c,a=0):#default arguements is passed to function in the last\n",
    "    return a+b+c\n",
    "sum1(b=3,c=2)"
   ]
  },
  {
   "cell_type": "code",
   "execution_count": 18,
   "id": "37aa07d9-c5e6-445a-8a89-876b300bfdc3",
   "metadata": {},
   "outputs": [
    {
     "name": "stdin",
     "output_type": "stream",
     "text": [
      "Enter 1st no. 8\n",
      "Enter 2nd no. 7\n"
     ]
    },
    {
     "data": {
      "text/plain": [
       "15"
      ]
     },
     "execution_count": 18,
     "metadata": {},
     "output_type": "execute_result"
    }
   ],
   "source": [
    "def add():\n",
    "    a=int(input(\"Enter 1st no.\"))\n",
    "    b=int(input(\"Enter 2nd no.\"))\n",
    "    return a+b\n",
    "add()"
   ]
  },
  {
   "cell_type": "code",
   "execution_count": 20,
   "id": "40f2bb76-fc6c-46c6-bcb0-c3215c99bfca",
   "metadata": {},
   "outputs": [
    {
     "data": {
      "text/plain": [
       "('Welcome to the office', 4, 4.6, (3+5j))"
      ]
     },
     "execution_count": 20,
     "metadata": {},
     "output_type": "execute_result"
    }
   ],
   "source": [
    "#A3-Different ways to define and call a function\n",
    "def func():\n",
    "    return(\"Welcome to the office\",4,4.6,3+5j)\n",
    "func()\n"
   ]
  },
  {
   "cell_type": "code",
   "execution_count": 21,
   "id": "80c69ed4-c981-45ea-8a75-1e9c1e493b62",
   "metadata": {},
   "outputs": [
    {
     "data": {
      "text/plain": [
       "tuple"
      ]
     },
     "execution_count": 21,
     "metadata": {},
     "output_type": "execute_result"
    }
   ],
   "source": [
    "type(func())"
   ]
  },
  {
   "cell_type": "code",
   "execution_count": 22,
   "id": "2e552466-4d7c-4e0d-90b5-e1c1e8a341a8",
   "metadata": {},
   "outputs": [],
   "source": [
    "a,b,c,d=func()"
   ]
  },
  {
   "cell_type": "code",
   "execution_count": 23,
   "id": "27dd807a-b427-4bbd-b3ac-c2778b6e275e",
   "metadata": {},
   "outputs": [
    {
     "data": {
      "text/plain": [
       "'Welcome to the office'"
      ]
     },
     "execution_count": 23,
     "metadata": {},
     "output_type": "execute_result"
    }
   ],
   "source": [
    "a"
   ]
  },
  {
   "cell_type": "code",
   "execution_count": 24,
   "id": "6afb679d-baaf-49ed-8999-8395e156d16a",
   "metadata": {},
   "outputs": [
    {
     "data": {
      "text/plain": [
       "4"
      ]
     },
     "execution_count": 24,
     "metadata": {},
     "output_type": "execute_result"
    }
   ],
   "source": [
    "b"
   ]
  },
  {
   "cell_type": "code",
   "execution_count": 25,
   "id": "471dff9d-6895-42ae-8e06-84075d794237",
   "metadata": {},
   "outputs": [
    {
     "data": {
      "text/plain": [
       "4.6"
      ]
     },
     "execution_count": 25,
     "metadata": {},
     "output_type": "execute_result"
    }
   ],
   "source": [
    "c"
   ]
  },
  {
   "cell_type": "code",
   "execution_count": 26,
   "id": "8ef1f0dc-d607-4351-b69e-c53d62be48a0",
   "metadata": {},
   "outputs": [
    {
     "data": {
      "text/plain": [
       "(3+5j)"
      ]
     },
     "execution_count": 26,
     "metadata": {},
     "output_type": "execute_result"
    }
   ],
   "source": [
    "d"
   ]
  },
  {
   "cell_type": "code",
   "execution_count": 27,
   "id": "91ec57af-793c-47f6-810d-3b39ffcc982f",
   "metadata": {},
   "outputs": [
    {
     "data": {
      "text/plain": [
       "'Welcome to the office'"
      ]
     },
     "execution_count": 27,
     "metadata": {},
     "output_type": "execute_result"
    }
   ],
   "source": [
    "a=func()\n",
    "a[0]"
   ]
  },
  {
   "cell_type": "code",
   "execution_count": 28,
   "id": "51e90993-df93-44d3-ab19-1a029e7427cd",
   "metadata": {},
   "outputs": [
    {
     "data": {
      "text/plain": [
       "4"
      ]
     },
     "execution_count": 28,
     "metadata": {},
     "output_type": "execute_result"
    }
   ],
   "source": [
    "a[1]"
   ]
  },
  {
   "cell_type": "code",
   "execution_count": 29,
   "id": "08d6c398-012d-4b2d-9687-ce3ee6b3971c",
   "metadata": {},
   "outputs": [
    {
     "data": {
      "text/plain": [
       "4.6"
      ]
     },
     "execution_count": 29,
     "metadata": {},
     "output_type": "execute_result"
    }
   ],
   "source": [
    "a[2]"
   ]
  },
  {
   "cell_type": "code",
   "execution_count": 30,
   "id": "72d43cef-3579-45ba-8d74-1adb1d1021e2",
   "metadata": {},
   "outputs": [
    {
     "data": {
      "text/plain": [
       "(3+5j)"
      ]
     },
     "execution_count": 30,
     "metadata": {},
     "output_type": "execute_result"
    }
   ],
   "source": [
    "a[3]"
   ]
  },
  {
   "cell_type": "code",
   "execution_count": 1,
   "id": "ca31c225-2448-4ba8-a240-15a211f829bf",
   "metadata": {},
   "outputs": [],
   "source": [
    "def func():\n",
    "    calc=2+2+3*10\n",
    "    return calc"
   ]
  },
  {
   "cell_type": "code",
   "execution_count": 2,
   "id": "7e193ed0-c31f-4c5b-9918-b40a77a42649",
   "metadata": {},
   "outputs": [
    {
     "data": {
      "text/plain": [
       "34"
      ]
     },
     "execution_count": 2,
     "metadata": {},
     "output_type": "execute_result"
    }
   ],
   "source": [
    "func()"
   ]
  },
  {
   "cell_type": "code",
   "execution_count": 3,
   "id": "7ee4ea9d-8338-4050-8563-0565e0914440",
   "metadata": {},
   "outputs": [
    {
     "data": {
      "text/plain": [
       "int"
      ]
     },
     "execution_count": 3,
     "metadata": {},
     "output_type": "execute_result"
    }
   ],
   "source": [
    "type(func())"
   ]
  },
  {
   "cell_type": "code",
   "execution_count": 4,
   "id": "7f25b7a1-0504-47a8-8e23-9a2ff968c039",
   "metadata": {},
   "outputs": [
    {
     "data": {
      "text/plain": [
       "25"
      ]
     },
     "execution_count": 4,
     "metadata": {},
     "output_type": "execute_result"
    }
   ],
   "source": [
    "def sq_no(a):#a is called arguement\n",
    "    return a*a\n",
    "sq_no(5)\n",
    "    "
   ]
  },
  {
   "cell_type": "code",
   "execution_count": 7,
   "id": "fe68f998-179e-4ce1-9c23-057cefc7440a",
   "metadata": {},
   "outputs": [
    {
     "data": {
      "text/plain": [
       "11"
      ]
     },
     "execution_count": 7,
     "metadata": {},
     "output_type": "execute_result"
    }
   ],
   "source": [
    "def addition(a,b):#a and b are positional arguements and treated in order\n",
    "    return a+b\n",
    "addition(5,6)"
   ]
  },
  {
   "cell_type": "code",
   "execution_count": 8,
   "id": "bddefad8-5dfa-4590-ac00-636aa5393754",
   "metadata": {},
   "outputs": [
    {
     "data": {
      "text/plain": [
       "'pwskills'"
      ]
     },
     "execution_count": 8,
     "metadata": {},
     "output_type": "execute_result"
    }
   ],
   "source": [
    "addition(\"pw\",\"skills\")"
   ]
  },
  {
   "cell_type": "code",
   "execution_count": 9,
   "id": "bd6e2144-d7f4-4744-b286-a8c756446c36",
   "metadata": {},
   "outputs": [
    {
     "data": {
      "text/plain": [
       "'pwskills'"
      ]
     },
     "execution_count": 9,
     "metadata": {},
     "output_type": "execute_result"
    }
   ],
   "source": [
    "addition(b=\"skills\",a=\"pw\")"
   ]
  },
  {
   "cell_type": "code",
   "execution_count": 10,
   "id": "050b49e0-01fe-4664-ba51-f2074a9e66c1",
   "metadata": {},
   "outputs": [
    {
     "data": {
      "text/plain": [
       "6"
      ]
     },
     "execution_count": 10,
     "metadata": {},
     "output_type": "execute_result"
    }
   ],
   "source": [
    "def sum1(a,b,c):\n",
    "    return a+b+c\n",
    "sum1(1,2,3)\n"
   ]
  },
  {
   "cell_type": "code",
   "execution_count": 12,
   "id": "4fe619b9-97be-46cc-a6f0-f1a1414afbaa",
   "metadata": {},
   "outputs": [
    {
     "data": {
      "text/plain": [
       "5"
      ]
     },
     "execution_count": 12,
     "metadata": {},
     "output_type": "execute_result"
    }
   ],
   "source": [
    "#default arguement\n",
    "def sum1(b,c,a=0):#default arguements is passed to function in the last\n",
    "    return a+b+c\n",
    "sum1(b=3,c=2)\n"
   ]
  },
  {
   "cell_type": "code",
   "execution_count": 13,
   "id": "5764ce00-161d-4b91-b314-fc9e889230c9",
   "metadata": {},
   "outputs": [
    {
     "name": "stdin",
     "output_type": "stream",
     "text": [
      "Enter 1st no. 5\n",
      "Enter 2nd no. 6\n"
     ]
    },
    {
     "data": {
      "text/plain": [
       "11"
      ]
     },
     "execution_count": 13,
     "metadata": {},
     "output_type": "execute_result"
    }
   ],
   "source": [
    "def add():\n",
    "    a=int(input(\"Enter 1st no.\"))\n",
    "    b=int(input(\"Enter 2nd no.\"))\n",
    "    return a+b\n",
    "add()"
   ]
  },
  {
   "cell_type": "code",
   "execution_count": 19,
   "id": "19d04eaa-69ae-4692-ba52-6f5dd75c2cec",
   "metadata": {},
   "outputs": [
    {
     "data": {
      "text/plain": [
       "('Welcome to the office', 4, 4.6, (3+5j))"
      ]
     },
     "execution_count": 19,
     "metadata": {},
     "output_type": "execute_result"
    }
   ],
   "source": [
    "#A4-Purpose of return statement in a python function\n",
    "#code\n",
    "def func():\n",
    "    return(\"Welcome to the office\",4,4.6,3+5j)\n",
    "func()"
   ]
  },
  {
   "cell_type": "code",
   "execution_count": 20,
   "id": "90d66e8f-7ed0-441d-b210-226f588a0d1f",
   "metadata": {},
   "outputs": [
    {
     "data": {
      "text/plain": [
       "tuple"
      ]
     },
     "execution_count": 20,
     "metadata": {},
     "output_type": "execute_result"
    }
   ],
   "source": [
    "type(func()) #return statement gives the actual value when something is passed in the function body \n",
    "              #whether tuple, int,float"
   ]
  },
  {
   "cell_type": "code",
   "execution_count": 21,
   "id": "1568cbdd-9413-4734-a29c-bf8ea1714273",
   "metadata": {},
   "outputs": [
    {
     "data": {
      "text/plain": [
       "34"
      ]
     },
     "execution_count": 21,
     "metadata": {},
     "output_type": "execute_result"
    }
   ],
   "source": [
    "#example and code\n",
    "def func():\n",
    "    calc=2+2+3*10\n",
    "    return calc\n",
    "func()"
   ]
  },
  {
   "cell_type": "code",
   "execution_count": 22,
   "id": "ee02159e-d32a-416f-a7d2-ccc20bc9a23f",
   "metadata": {},
   "outputs": [
    {
     "data": {
      "text/plain": [
       "int"
      ]
     },
     "execution_count": 22,
     "metadata": {},
     "output_type": "execute_result"
    }
   ],
   "source": [
    "type(func())"
   ]
  },
  {
   "cell_type": "code",
   "execution_count": null,
   "id": "bc67e38e-a758-477c-a17f-c5814318a277",
   "metadata": {},
   "outputs": [],
   "source": [
    "#A5- iterators in Python and how do they differ from iterables"
   ]
  },
  {
   "cell_type": "code",
   "execution_count": 2,
   "id": "91c5f223-0bb2-409b-b786-bd27d96fae3e",
   "metadata": {},
   "outputs": [
    {
     "name": "stdout",
     "output_type": "stream",
     "text": [
      "1\n",
      "2\n",
      "Ajay\n"
     ]
    }
   ],
   "source": [
    "#iterables\n",
    "#An iterable is any python object /sequentialstr/data str that is capable of returning\n",
    "#its members one at a time\n",
    "#using a for loop\n",
    "#example>>list,tuples\n",
    "lis=[1,2,\"Ajay\"]  #lis is an iterable object\n",
    "for i in lis:\n",
    "    print (i)\n",
    "    \n",
    "    \n",
    "    \n",
    "\n"
   ]
  },
  {
   "cell_type": "code",
   "execution_count": 3,
   "id": "36cfe574-6f3b-412f-a7c3-bb80e5bad34e",
   "metadata": {},
   "outputs": [
    {
     "ename": "TypeError",
     "evalue": "'int' object is not iterable",
     "output_type": "error",
     "traceback": [
      "\u001b[0;31m---------------------------------------------------------------------------\u001b[0m",
      "\u001b[0;31mTypeError\u001b[0m                                 Traceback (most recent call last)",
      "Cell \u001b[0;32mIn[3], line 1\u001b[0m\n\u001b[0;32m----> 1\u001b[0m \u001b[38;5;28;01mfor\u001b[39;00m i \u001b[38;5;129;01min\u001b[39;00m \u001b[38;5;241m6\u001b[39m:\n\u001b[1;32m      2\u001b[0m     \u001b[38;5;28mprint\u001b[39m(i)\n",
      "\u001b[0;31mTypeError\u001b[0m: 'int' object is not iterable"
     ]
    }
   ],
   "source": [
    "for i in 6:\n",
    "    print(i)"
   ]
  },
  {
   "cell_type": "code",
   "execution_count": 4,
   "id": "b7004125-389b-4708-aa2a-c93137770824",
   "metadata": {},
   "outputs": [
    {
     "name": "stdout",
     "output_type": "stream",
     "text": [
      "p\n",
      "w\n",
      "s\n",
      "k\n",
      "i\n",
      "l\n",
      "l\n",
      "s\n"
     ]
    }
   ],
   "source": [
    "#iteration is a process of looping through the elements of an iterable(list, string)\n",
    "#using a loop\n",
    "#process of returning the element one by one is iteration\n",
    "#example\n",
    "for i in \"pwskills\":\n",
    "    print(i)"
   ]
  },
  {
   "cell_type": "code",
   "execution_count": null,
   "id": "4f3074bd-ef79-4a59-b39b-a14be2d108d3",
   "metadata": {},
   "outputs": [],
   "source": [
    "#iterator\n",
    "#object representing a stream of data>>return the data one by one\n",
    "#Analogy\n",
    "#potato-iterable-cannot be cooked in original form\n",
    "#chop/wash the potato>>ready for cooking>>iterator\n",
    "#the process of cooking is iteration"
   ]
  },
  {
   "cell_type": "code",
   "execution_count": 7,
   "id": "bedb535e-d266-4da3-b66a-3077186c830e",
   "metadata": {},
   "outputs": [
    {
     "name": "stdout",
     "output_type": "stream",
     "text": [
      "p\n",
      "w\n",
      "s\n",
      "k\n",
      "i\n",
      "l\n",
      "l\n",
      "s\n"
     ]
    }
   ],
   "source": [
    "s= \"pwskills\"  #string is iterable\n",
    "for i in s:     #how python decided that s should b iterated>>then comes the concept of iterator\n",
    "    print(i)"
   ]
  },
  {
   "cell_type": "code",
   "execution_count": 8,
   "id": "0d406691-0b29-4210-8ead-851774c9c212",
   "metadata": {},
   "outputs": [
    {
     "data": {
      "text/plain": [
       "<str_iterator at 0x7633fc5d4700>"
      ]
     },
     "execution_count": 8,
     "metadata": {},
     "output_type": "execute_result"
    }
   ],
   "source": [
    "#python>>can i prepare s for iteration\n",
    "iter(s)   #iterator object >>ready to be iterated"
   ]
  },
  {
   "cell_type": "code",
   "execution_count": 10,
   "id": "35c80d53-bbdd-47e9-98fb-494de200726f",
   "metadata": {},
   "outputs": [
    {
     "data": {
      "text/plain": [
       "<str_iterator at 0x7633fc4a0e80>"
      ]
     },
     "execution_count": 10,
     "metadata": {},
     "output_type": "execute_result"
    }
   ],
   "source": [
    "a=iter(s)\n",
    "a"
   ]
  },
  {
   "cell_type": "code",
   "execution_count": 11,
   "id": "13860a82-936b-4a38-a426-c58edf0b2c6e",
   "metadata": {},
   "outputs": [
    {
     "data": {
      "text/plain": [
       "'p'"
      ]
     },
     "execution_count": 11,
     "metadata": {},
     "output_type": "execute_result"
    }
   ],
   "source": [
    "next(a)"
   ]
  },
  {
   "cell_type": "code",
   "execution_count": 12,
   "id": "8df003f2-d37f-4e64-9210-fcfc4bbc8138",
   "metadata": {},
   "outputs": [
    {
     "data": {
      "text/plain": [
       "'w'"
      ]
     },
     "execution_count": 12,
     "metadata": {},
     "output_type": "execute_result"
    }
   ],
   "source": [
    "next(a)"
   ]
  },
  {
   "cell_type": "code",
   "execution_count": 13,
   "id": "52f1d273-6cf9-4298-8000-bf6d1d501e49",
   "metadata": {},
   "outputs": [
    {
     "data": {
      "text/plain": [
       "'s'"
      ]
     },
     "execution_count": 13,
     "metadata": {},
     "output_type": "execute_result"
    }
   ],
   "source": [
    "next(a)"
   ]
  },
  {
   "cell_type": "code",
   "execution_count": 14,
   "id": "3745cd5f-85e0-4de6-974c-a0935c15ce7d",
   "metadata": {},
   "outputs": [
    {
     "data": {
      "text/plain": [
       "'k'"
      ]
     },
     "execution_count": 14,
     "metadata": {},
     "output_type": "execute_result"
    }
   ],
   "source": [
    "next(a)"
   ]
  },
  {
   "cell_type": "code",
   "execution_count": 15,
   "id": "3738c7d7-47e9-4865-94fc-c6f79d2bc94d",
   "metadata": {},
   "outputs": [
    {
     "data": {
      "text/plain": [
       "'i'"
      ]
     },
     "execution_count": 15,
     "metadata": {},
     "output_type": "execute_result"
    }
   ],
   "source": [
    "next(a)"
   ]
  },
  {
   "cell_type": "code",
   "execution_count": 16,
   "id": "3d2c7afe-2949-48a5-9ec5-75379b58a02c",
   "metadata": {},
   "outputs": [
    {
     "data": {
      "text/plain": [
       "'l'"
      ]
     },
     "execution_count": 16,
     "metadata": {},
     "output_type": "execute_result"
    }
   ],
   "source": [
    "next(a)"
   ]
  },
  {
   "cell_type": "code",
   "execution_count": 17,
   "id": "7e82bf88-d85f-46d7-b055-2eadf4388f9f",
   "metadata": {},
   "outputs": [
    {
     "data": {
      "text/plain": [
       "'l'"
      ]
     },
     "execution_count": 17,
     "metadata": {},
     "output_type": "execute_result"
    }
   ],
   "source": [
    "next(a)"
   ]
  },
  {
   "cell_type": "code",
   "execution_count": 18,
   "id": "f5be08cd-78b8-46fb-8eb9-71ca7cdbb0dc",
   "metadata": {},
   "outputs": [
    {
     "data": {
      "text/plain": [
       "'s'"
      ]
     },
     "execution_count": 18,
     "metadata": {},
     "output_type": "execute_result"
    }
   ],
   "source": [
    "next(a)"
   ]
  },
  {
   "cell_type": "code",
   "execution_count": null,
   "id": "0c27f29d-55ea-495a-9b35-13b09c69badf",
   "metadata": {},
   "outputs": [],
   "source": [
    "s= \"pwskills\"   #first converting the iterable string to iterator object using iter()\n",
    "for i in s:     #and then access using next\n",
    "    print(i)"
   ]
  },
  {
   "cell_type": "code",
   "execution_count": 23,
   "id": "3bc6d77b-4dbe-4867-ad80-cfb88ee93276",
   "metadata": {},
   "outputs": [],
   "source": [
    "l= iter([1,2,3,4])"
   ]
  },
  {
   "cell_type": "code",
   "execution_count": 24,
   "id": "bf49686c-ec86-4d33-b8b6-474e024aeeea",
   "metadata": {},
   "outputs": [
    {
     "data": {
      "text/plain": [
       "<list_iterator at 0x7633fc3b7250>"
      ]
     },
     "execution_count": 24,
     "metadata": {},
     "output_type": "execute_result"
    }
   ],
   "source": [
    "l"
   ]
  },
  {
   "cell_type": "code",
   "execution_count": 25,
   "id": "cfe957c7-8733-4b39-b27f-3de8678c643e",
   "metadata": {},
   "outputs": [
    {
     "data": {
      "text/plain": [
       "1"
      ]
     },
     "execution_count": 25,
     "metadata": {},
     "output_type": "execute_result"
    }
   ],
   "source": [
    "next(l)"
   ]
  },
  {
   "cell_type": "code",
   "execution_count": 26,
   "id": "6c347025-4c66-4f5e-a777-6cd3fd483279",
   "metadata": {},
   "outputs": [
    {
     "data": {
      "text/plain": [
       "2"
      ]
     },
     "execution_count": 26,
     "metadata": {},
     "output_type": "execute_result"
    }
   ],
   "source": [
    "next(l)"
   ]
  },
  {
   "cell_type": "code",
   "execution_count": 27,
   "id": "302c11f9-0d95-42dc-acf7-2d8b962f43a4",
   "metadata": {},
   "outputs": [
    {
     "data": {
      "text/plain": [
       "3"
      ]
     },
     "execution_count": 27,
     "metadata": {},
     "output_type": "execute_result"
    }
   ],
   "source": [
    "next(l)"
   ]
  },
  {
   "cell_type": "code",
   "execution_count": 28,
   "id": "01a9499d-f64c-4545-bd6a-7e44c9f88628",
   "metadata": {},
   "outputs": [
    {
     "data": {
      "text/plain": [
       "4"
      ]
     },
     "execution_count": 28,
     "metadata": {},
     "output_type": "execute_result"
    }
   ],
   "source": [
    "next(l)"
   ]
  },
  {
   "cell_type": "code",
   "execution_count": 29,
   "id": "4ee55aa8-da0c-4939-b777-2647adbdf6bb",
   "metadata": {},
   "outputs": [
    {
     "data": {
      "text/plain": [
       "<tuple_iterator at 0x7633fc547be0>"
      ]
     },
     "execution_count": 29,
     "metadata": {},
     "output_type": "execute_result"
    }
   ],
   "source": [
    "t=iter((1,2,3,4))\n",
    "t"
   ]
  },
  {
   "cell_type": "code",
   "execution_count": 30,
   "id": "326ca53e-47d2-4a2a-82c2-2263060e5a2d",
   "metadata": {},
   "outputs": [
    {
     "data": {
      "text/plain": [
       "1"
      ]
     },
     "execution_count": 30,
     "metadata": {},
     "output_type": "execute_result"
    }
   ],
   "source": [
    "next(t)"
   ]
  },
  {
   "cell_type": "code",
   "execution_count": 31,
   "id": "6a438e55-0788-44a8-bfca-b5c01d44010b",
   "metadata": {},
   "outputs": [
    {
     "data": {
      "text/plain": [
       "2"
      ]
     },
     "execution_count": 31,
     "metadata": {},
     "output_type": "execute_result"
    }
   ],
   "source": [
    "next(t)"
   ]
  },
  {
   "cell_type": "code",
   "execution_count": 32,
   "id": "2b868905-2129-483b-9be9-fbf5a9861787",
   "metadata": {},
   "outputs": [
    {
     "data": {
      "text/plain": [
       "3"
      ]
     },
     "execution_count": 32,
     "metadata": {},
     "output_type": "execute_result"
    }
   ],
   "source": [
    "next(t)"
   ]
  },
  {
   "cell_type": "code",
   "execution_count": 33,
   "id": "14b67c8d-2a5d-4144-a3d9-b377674fad9f",
   "metadata": {},
   "outputs": [
    {
     "data": {
      "text/plain": [
       "4"
      ]
     },
     "execution_count": 33,
     "metadata": {},
     "output_type": "execute_result"
    }
   ],
   "source": [
    "next(t)"
   ]
  },
  {
   "cell_type": "code",
   "execution_count": 34,
   "id": "597400e0-9d08-4f6a-b0fe-e6ee5b964065",
   "metadata": {},
   "outputs": [
    {
     "data": {
      "text/plain": [
       "<set_iterator at 0x7633fc694e00>"
      ]
     },
     "execution_count": 34,
     "metadata": {},
     "output_type": "execute_result"
    }
   ],
   "source": [
    "t=iter({1,2,3,4})\n",
    "t"
   ]
  },
  {
   "cell_type": "code",
   "execution_count": 35,
   "id": "b03dadf0-fef1-480e-a83f-6903674afe4b",
   "metadata": {},
   "outputs": [
    {
     "data": {
      "text/plain": [
       "1"
      ]
     },
     "execution_count": 35,
     "metadata": {},
     "output_type": "execute_result"
    }
   ],
   "source": [
    "next(t)"
   ]
  },
  {
   "cell_type": "code",
   "execution_count": 36,
   "id": "15ac42b2-4436-4b79-9a10-fba52aa57bd8",
   "metadata": {},
   "outputs": [
    {
     "data": {
      "text/plain": [
       "2"
      ]
     },
     "execution_count": 36,
     "metadata": {},
     "output_type": "execute_result"
    }
   ],
   "source": [
    "next(t)"
   ]
  },
  {
   "cell_type": "code",
   "execution_count": 37,
   "id": "1f5a4a76-bee3-4a4f-9324-39b9bb38b94d",
   "metadata": {},
   "outputs": [
    {
     "data": {
      "text/plain": [
       "3"
      ]
     },
     "execution_count": 37,
     "metadata": {},
     "output_type": "execute_result"
    }
   ],
   "source": [
    "next(t)"
   ]
  },
  {
   "cell_type": "code",
   "execution_count": 38,
   "id": "cf9d0549-b5ce-4c94-868e-fae8803c1049",
   "metadata": {},
   "outputs": [
    {
     "data": {
      "text/plain": [
       "4"
      ]
     },
     "execution_count": 38,
     "metadata": {},
     "output_type": "execute_result"
    }
   ],
   "source": [
    "next(t)"
   ]
  },
  {
   "cell_type": "code",
   "execution_count": null,
   "id": "7c5a7699-006e-4013-b97a-737822d777bb",
   "metadata": {},
   "outputs": [],
   "source": [
    "#A6- concept of generators in Python and how they are defined"
   ]
  },
  {
   "cell_type": "code",
   "execution_count": null,
   "id": "f67c25f9-14ec-4d0d-b478-edfd78b81223",
   "metadata": {},
   "outputs": [],
   "source": [
    "#generator function"
   ]
  },
  {
   "cell_type": "code",
   "execution_count": null,
   "id": "32161cf1-3d20-4e5e-b978-4926ad754f80",
   "metadata": {},
   "outputs": [],
   "source": [
    "#regular function>>takes a list and gives square of each of the list"
   ]
  },
  {
   "cell_type": "code",
   "execution_count": 9,
   "id": "376dbabf-ab39-4435-bb36-8b356e715d70",
   "metadata": {},
   "outputs": [
    {
     "data": {
      "text/plain": [
       "[25, 100, 225]"
      ]
     },
     "execution_count": 9,
     "metadata": {},
     "output_type": "execute_result"
    }
   ],
   "source": [
    "def square_no(n):\n",
    "    result=[]\n",
    "    for i in n:\n",
    "        result.append(i ** 2)\n",
    "    return result\n",
    "square_no([5,10,15])\n"
   ]
  },
  {
   "cell_type": "code",
   "execution_count": 10,
   "id": "6e04650c-f5f3-4ecd-833c-b052949830ec",
   "metadata": {},
   "outputs": [
    {
     "data": {
      "text/plain": [
       "[0, 1, 4, 9, 16, 25, 36, 49, 64, 81]"
      ]
     },
     "execution_count": 10,
     "metadata": {},
     "output_type": "execute_result"
    }
   ],
   "source": [
    "#regular function calculates the square of the values and return in one go\n",
    "#since its returning in one go >>memory usage will b more\n",
    "#it will take a lot of execution time if there is a lot of computation as\n",
    "#all the computuation will b done first and then calculation will b returned in one go\n",
    "def square_no(n):\n",
    "    result=[]\n",
    "    for i in range(n):\n",
    "        result.append(i ** 2)\n",
    "    return result\n",
    "square_no(10)"
   ]
  },
  {
   "cell_type": "code",
   "execution_count": 11,
   "id": "e868a214-7723-49ff-9b57-8a53d69f3bab",
   "metadata": {},
   "outputs": [
    {
     "data": {
      "text/plain": [
       "<generator object square_no_generator at 0x75cf88206c00>"
      ]
     },
     "execution_count": 11,
     "metadata": {},
     "output_type": "execute_result"
    }
   ],
   "source": [
    "#can we have something to generate result one by one instead of one go\n",
    "#regular function uses a return statement but a generator function uses yield\n",
    "def square_no_generator(n):\n",
    "    for i in range(n):\n",
    "        yield i**2\n",
    "    \n",
    "square_no_generator(10)  #yield is creating a generator similar to iterator object"
   ]
  },
  {
   "cell_type": "code",
   "execution_count": 13,
   "id": "a8a38d69-284b-41e3-99ff-ba66d897b972",
   "metadata": {},
   "outputs": [
    {
     "data": {
      "text/plain": [
       "0"
      ]
     },
     "execution_count": 13,
     "metadata": {},
     "output_type": "execute_result"
    }
   ],
   "source": [
    "gen=square_no_generator(10)\n",
    "next(gen)"
   ]
  },
  {
   "cell_type": "code",
   "execution_count": 14,
   "id": "10a4a11a-1d61-46b8-889f-caa14b62e9f7",
   "metadata": {},
   "outputs": [
    {
     "data": {
      "text/plain": [
       "1"
      ]
     },
     "execution_count": 14,
     "metadata": {},
     "output_type": "execute_result"
    }
   ],
   "source": [
    "next(gen)"
   ]
  },
  {
   "cell_type": "code",
   "execution_count": 15,
   "id": "34174e55-4f3d-4a05-baed-ae0a83176882",
   "metadata": {},
   "outputs": [
    {
     "data": {
      "text/plain": [
       "4"
      ]
     },
     "execution_count": 15,
     "metadata": {},
     "output_type": "execute_result"
    }
   ],
   "source": [
    "next(gen)"
   ]
  },
  {
   "cell_type": "code",
   "execution_count": 16,
   "id": "4102ce6b-37db-49ff-b584-f5f22a1a9e1b",
   "metadata": {},
   "outputs": [
    {
     "data": {
      "text/plain": [
       "9"
      ]
     },
     "execution_count": 16,
     "metadata": {},
     "output_type": "execute_result"
    }
   ],
   "source": [
    "next(gen)"
   ]
  },
  {
   "cell_type": "code",
   "execution_count": null,
   "id": "36965777-86ec-4fec-9b0b-660c69d3eebb",
   "metadata": {},
   "outputs": [],
   "source": [
    "#keep going til u get all the square nos"
   ]
  },
  {
   "cell_type": "code",
   "execution_count": null,
   "id": "60f3ad63-366c-4cec-b3fc-c1338673612d",
   "metadata": {},
   "outputs": [],
   "source": [
    "#A7- the advantages of using generators over regular functions"
   ]
  },
  {
   "cell_type": "code",
   "execution_count": 17,
   "id": "b6601c76-c290-43e9-8910-03fb430172e2",
   "metadata": {},
   "outputs": [
    {
     "data": {
      "text/plain": [
       "[0, 1, 4, 9, 16, 25, 36, 49, 64, 81]"
      ]
     },
     "execution_count": 17,
     "metadata": {},
     "output_type": "execute_result"
    }
   ],
   "source": [
    "#regular function calculates the square of the values and return in one go\n",
    "#since its returning in one go >>memory usage will b more\n",
    "#it will take a lot of execution time if there is a lot of computation as\n",
    "#all the computuation will b done first and then calculation will b returned in one go\n",
    "def square_no(n):\n",
    "    result=[]\n",
    "    for i in range(n):\n",
    "        result.append(i ** 2)\n",
    "    return result\n",
    "square_no(10)"
   ]
  },
  {
   "cell_type": "code",
   "execution_count": 18,
   "id": "6c970758-6b7e-4983-ae31-2e389674486d",
   "metadata": {},
   "outputs": [
    {
     "data": {
      "text/plain": [
       "<generator object square_no_generator at 0x75cf8051c890>"
      ]
     },
     "execution_count": 18,
     "metadata": {},
     "output_type": "execute_result"
    }
   ],
   "source": [
    "#can we have something to generate result one by one instead of one go\n",
    "#regular function uses a return statement but a generator function uses yield\n",
    "def square_no_generator(n):\n",
    "    for i in range(n):\n",
    "        yield i**2\n",
    "    \n",
    "square_no_generator(10)  #yield is creating a generator similar to iterator object"
   ]
  },
  {
   "cell_type": "code",
   "execution_count": 19,
   "id": "7f1fc73b-d9e1-4efd-af7a-f9a0cea05c40",
   "metadata": {},
   "outputs": [
    {
     "data": {
      "text/plain": [
       "0"
      ]
     },
     "execution_count": 19,
     "metadata": {},
     "output_type": "execute_result"
    }
   ],
   "source": [
    "gen=square_no_generator(10)\n",
    "next(gen)"
   ]
  },
  {
   "cell_type": "code",
   "execution_count": 20,
   "id": "93780501-5754-48aa-a86a-e1d87e46bb61",
   "metadata": {},
   "outputs": [
    {
     "data": {
      "text/plain": [
       "1"
      ]
     },
     "execution_count": 20,
     "metadata": {},
     "output_type": "execute_result"
    }
   ],
   "source": [
    "next(gen)"
   ]
  },
  {
   "cell_type": "code",
   "execution_count": 21,
   "id": "b849c6cd-09a6-48e3-b4e9-6edefc4a0a47",
   "metadata": {},
   "outputs": [
    {
     "data": {
      "text/plain": [
       "4"
      ]
     },
     "execution_count": 21,
     "metadata": {},
     "output_type": "execute_result"
    }
   ],
   "source": [
    "next(gen)"
   ]
  },
  {
   "cell_type": "code",
   "execution_count": 22,
   "id": "e4184e8f-9ddf-4d76-8541-1b6a2240484e",
   "metadata": {},
   "outputs": [
    {
     "data": {
      "text/plain": [
       "9"
      ]
     },
     "execution_count": 22,
     "metadata": {},
     "output_type": "execute_result"
    }
   ],
   "source": [
    "next(gen)"
   ]
  },
  {
   "cell_type": "code",
   "execution_count": 23,
   "id": "fbc6f5e4-d172-4c1c-b916-cf4d93d46d18",
   "metadata": {},
   "outputs": [
    {
     "data": {
      "text/plain": [
       "16"
      ]
     },
     "execution_count": 23,
     "metadata": {},
     "output_type": "execute_result"
    }
   ],
   "source": [
    "next(gen)"
   ]
  },
  {
   "cell_type": "code",
   "execution_count": null,
   "id": "1f13d366-56bf-429e-a1ed-8de24b1166dc",
   "metadata": {},
   "outputs": [],
   "source": [
    "##keep going til u get all the square nos"
   ]
  },
  {
   "cell_type": "code",
   "execution_count": null,
   "id": "fe0b6a0a-630c-4eab-a9cd-5a1a916ddc83",
   "metadata": {},
   "outputs": [],
   "source": [
    "#A8- lambda function in Python and when is it typically used"
   ]
  },
  {
   "cell_type": "code",
   "execution_count": null,
   "id": "a2d7a3a2-10c5-4c82-be78-b3851073cde7",
   "metadata": {},
   "outputs": [],
   "source": [
    "#lambda Function>>anonymous function or short-hand function"
   ]
  },
  {
   "cell_type": "code",
   "execution_count": null,
   "id": "8c7cdbcd-022b-429f-8b97-532ebd2cc664",
   "metadata": {},
   "outputs": [],
   "source": [
    "#syntax\n",
    "#Lambda arguements:expression>>no need of return statement and def keyword"
   ]
  },
  {
   "cell_type": "code",
   "execution_count": 24,
   "id": "f4bbbd8d-d478-4790-a36c-a6bff48d681a",
   "metadata": {},
   "outputs": [
    {
     "data": {
      "text/plain": [
       "4"
      ]
     },
     "execution_count": 24,
     "metadata": {},
     "output_type": "execute_result"
    }
   ],
   "source": [
    "def square(x):\n",
    "    return x**2\n",
    "square(2)"
   ]
  },
  {
   "cell_type": "code",
   "execution_count": 26,
   "id": "5ad84d9f-5868-49e5-8626-ba7d0068e533",
   "metadata": {},
   "outputs": [
    {
     "data": {
      "text/plain": [
       "4"
      ]
     },
     "execution_count": 26,
     "metadata": {},
     "output_type": "execute_result"
    }
   ],
   "source": [
    "#doung above ex using lambda funtion>>lambda converts two lines of code into single code\n",
    "sq_lambda=lambda x:x**2\n",
    "sq_lambda(2)"
   ]
  },
  {
   "cell_type": "code",
   "execution_count": 27,
   "id": "4b98b6a5-2b39-47c9-858c-dfe8bcabd040",
   "metadata": {},
   "outputs": [
    {
     "data": {
      "text/plain": [
       "7"
      ]
     },
     "execution_count": 27,
     "metadata": {},
     "output_type": "execute_result"
    }
   ],
   "source": [
    "#adding 2 nos using lambda\n",
    "add=lambda a,b:a+b\n",
    "add(2,5)"
   ]
  },
  {
   "cell_type": "code",
   "execution_count": null,
   "id": "1c4a7c99-c3f0-43be-a09e-fff77dd2c6bb",
   "metadata": {},
   "outputs": [],
   "source": [
    "#A9- the purpose and usage of the `map()` function in Python."
   ]
  },
  {
   "cell_type": "code",
   "execution_count": null,
   "id": "d655c266-fa13-42cd-a172-8233e2777472",
   "metadata": {},
   "outputs": [],
   "source": [
    "# map()>>executes a specified function for each item of an iterable\n",
    "#syntax>>  map(func ,*iterables)"
   ]
  },
  {
   "cell_type": "code",
   "execution_count": 31,
   "id": "63acbabc-64a8-47b9-b418-c3956ef61419",
   "metadata": {},
   "outputs": [
    {
     "data": {
      "text/plain": [
       "[1, 4, 9, 16, 25]"
      ]
     },
     "execution_count": 31,
     "metadata": {},
     "output_type": "execute_result"
    }
   ],
   "source": [
    "#code\n",
    "l=[1,2,3,4,5]\n",
    "def square(l):\n",
    "    sq=[]\n",
    "    for i in l:\n",
    "        sq.append(i**2)\n",
    "    return sq\n",
    "square(l)\n"
   ]
  },
  {
   "cell_type": "code",
   "execution_count": 34,
   "id": "747c3f7f-135b-4ddf-8038-bf5ea0395a77",
   "metadata": {},
   "outputs": [
    {
     "data": {
      "text/plain": [
       "[1, 2, 3, 4, 5]"
      ]
     },
     "execution_count": 34,
     "metadata": {},
     "output_type": "execute_result"
    }
   ],
   "source": [
    "#Using map()\n",
    "def sq(x):\n",
    "    return x**2\n",
    "l\n"
   ]
  },
  {
   "cell_type": "code",
   "execution_count": 35,
   "id": "b53ed19b-98aa-4560-aaac-cfb0cd82707a",
   "metadata": {},
   "outputs": [
    {
     "data": {
      "text/plain": [
       "[1, 4, 9, 16, 25]"
      ]
     },
     "execution_count": 35,
     "metadata": {},
     "output_type": "execute_result"
    }
   ],
   "source": [
    "#map(func,iterable)\n",
    "list(map(sq,l))"
   ]
  },
  {
   "cell_type": "code",
   "execution_count": null,
   "id": "a9c5b286-848e-44b2-80a8-3c9302870537",
   "metadata": {},
   "outputs": [],
   "source": [
    "#A10-difference between `map()`, `reduce()`, and `filter()` functions in Python"
   ]
  },
  {
   "cell_type": "code",
   "execution_count": null,
   "id": "7d0c11ff-b7dc-4bbe-8934-9c79b0b0f08c",
   "metadata": {},
   "outputs": [],
   "source": [
    "# map()>>executes a specified function for each item of an iterable\n",
    "#syntax>>  map(func ,*iterables)"
   ]
  },
  {
   "cell_type": "code",
   "execution_count": 36,
   "id": "0cc1f456-8528-45e1-90e4-286fec6d5006",
   "metadata": {},
   "outputs": [
    {
     "data": {
      "text/plain": [
       "[1, 4, 9, 16, 25]"
      ]
     },
     "execution_count": 36,
     "metadata": {},
     "output_type": "execute_result"
    }
   ],
   "source": [
    "#code\n",
    "l=[1,2,3,4,5]\n",
    "def square(l):\n",
    "    sq=[]\n",
    "    for i in l:\n",
    "        sq.append(i**2)\n",
    "    return sq\n",
    "square(l)\n"
   ]
  },
  {
   "cell_type": "code",
   "execution_count": 37,
   "id": "e227011a-af92-4ba5-99f9-c856ea04c4e4",
   "metadata": {},
   "outputs": [
    {
     "data": {
      "text/plain": [
       "[1, 2, 3, 4, 5]"
      ]
     },
     "execution_count": 37,
     "metadata": {},
     "output_type": "execute_result"
    }
   ],
   "source": [
    "#Using map()\n",
    "def sq(x):\n",
    "    return x**2\n",
    "l\n"
   ]
  },
  {
   "cell_type": "code",
   "execution_count": 38,
   "id": "4fb2c580-d690-4ef2-94bf-36cabbfaa1d6",
   "metadata": {},
   "outputs": [
    {
     "data": {
      "text/plain": [
       "[1, 4, 9, 16, 25]"
      ]
     },
     "execution_count": 38,
     "metadata": {},
     "output_type": "execute_result"
    }
   ],
   "source": [
    "#map(func,iterable)\n",
    "list(map(sq,l))"
   ]
  },
  {
   "cell_type": "code",
   "execution_count": 41,
   "id": "e4388d38-af32-469b-b0e2-95cf9e0663d2",
   "metadata": {},
   "outputs": [],
   "source": [
    "#reduce>>folding or reduction\n",
    "#syntax>>reduce(func,iterable)\n",
    "#reduce will always take 2 arguement functions\n",
    "from functools import reduce"
   ]
  },
  {
   "cell_type": "code",
   "execution_count": null,
   "id": "afe856ca-9f9d-4949-9a0d-7bcd20e24e18",
   "metadata": {},
   "outputs": [],
   "source": [
    "l=[2,1,3,4,4,5,6]"
   ]
  },
  {
   "cell_type": "code",
   "execution_count": 42,
   "id": "6dc07422-59a5-4da9-9d3f-ccd2bbcb0dde",
   "metadata": {},
   "outputs": [
    {
     "data": {
      "text/plain": [
       "25"
      ]
     },
     "execution_count": 42,
     "metadata": {},
     "output_type": "execute_result"
    }
   ],
   "source": [
    "reduce (lambda x,y:x+y, l)"
   ]
  },
  {
   "cell_type": "code",
   "execution_count": 43,
   "id": "8c2c0de0-5995-40ad-b75d-667df6697cce",
   "metadata": {},
   "outputs": [
    {
     "data": {
      "text/plain": [
       "[2, 1, 3, 4, 4, 5, 6]"
      ]
     },
     "execution_count": 43,
     "metadata": {},
     "output_type": "execute_result"
    }
   ],
   "source": [
    "#filter function>>used to filter elements from an iterable based on some condition\n",
    "#syntax>>filter(func,iterable)\n",
    "#code\n",
    "l"
   ]
  },
  {
   "cell_type": "code",
   "execution_count": 44,
   "id": "9c50e928-7e6e-4691-8d99-2abdef382424",
   "metadata": {},
   "outputs": [
    {
     "data": {
      "text/plain": [
       "[2, 4, 4, 6]"
      ]
     },
     "execution_count": 44,
     "metadata": {},
     "output_type": "execute_result"
    }
   ],
   "source": [
    "#getting even nos. from the list\n",
    "list(filter(lambda x: x%2==0 ,l))"
   ]
  },
  {
   "cell_type": "code",
   "execution_count": 45,
   "id": "4c4ba93b-29ef-4e7d-85f4-3cd79736a286",
   "metadata": {},
   "outputs": [
    {
     "data": {
      "text/plain": [
       "[1, 3, 5]"
      ]
     },
     "execution_count": 45,
     "metadata": {},
     "output_type": "execute_result"
    }
   ],
   "source": [
    "#getting odd nos. from the list\n",
    "list(filter(lambda x: x%2!=0 ,l))"
   ]
  },
  {
   "cell_type": "code",
   "execution_count": 48,
   "id": "ad87baf2-7b5a-4020-aea0-8051a834c258",
   "metadata": {},
   "outputs": [
    {
     "data": {
      "text/plain": [
       "[2, 4, 6, 8, 10]"
      ]
     },
     "execution_count": 48,
     "metadata": {},
     "output_type": "execute_result"
    }
   ],
   "source": [
    "#example\n",
    "def check_even(num):\n",
    "    if num%2==0:\n",
    "        return True\n",
    "    return False\n",
    "num=[1,2,4,6,8,9,10]\n",
    "list(filter(check_even,num))"
   ]
  },
  {
   "cell_type": "code",
   "execution_count": null,
   "id": "231fecfb-4553-493b-a79d-5c401d4034b8",
   "metadata": {},
   "outputs": [],
   "source": [
    "#PRACTICALQUESTIONS"
   ]
  },
  {
   "cell_type": "code",
   "execution_count": 6,
   "id": "37f2bd21-7602-4856-b4da-90b45316c718",
   "metadata": {},
   "outputs": [
    {
     "data": {
      "text/plain": [
       "26"
      ]
     },
     "execution_count": 6,
     "metadata": {},
     "output_type": "execute_result"
    }
   ],
   "source": [
    "#A1-a Python function that takes a list of numbers as input and returns the sum of all even numbers in\n",
    "#the list\n",
    "#code\n",
    "\n",
    "def sum_even(n):\n",
    "    s=0\n",
    "    for i in n:\n",
    "        if i%2==0:\n",
    "            s=s+i\n",
    "    return s\n",
    "sum_even([1,2,5,6,7,8,10])\n",
    "    \n"
   ]
  },
  {
   "cell_type": "code",
   "execution_count": 7,
   "id": "99ab83da-b711-4cff-aeae-398c6d0796aa",
   "metadata": {},
   "outputs": [
    {
     "data": {
      "text/plain": [
       "176"
      ]
     },
     "execution_count": 7,
     "metadata": {},
     "output_type": "execute_result"
    }
   ],
   "source": [
    "#another list\n",
    "sum_even([1,3,6,8,13,16,18,20,24,26,28,30])"
   ]
  },
  {
   "cell_type": "code",
   "execution_count": 5,
   "id": "65415149-16b9-4160-830c-5fcfa84a96ce",
   "metadata": {},
   "outputs": [
    {
     "name": "stdout",
     "output_type": "stream",
     "text": [
      "nihaM si emaN yM\n"
     ]
    }
   ],
   "source": [
    "#A2- Python function that accepts a string and returns the reverse of that string.\n",
    "def str_rev(x):\n",
    "    return x[::-1]\n",
    "txt=str_rev(\"My Name is Mahin\")\n",
    "print(txt)"
   ]
  },
  {
   "cell_type": "code",
   "execution_count": 11,
   "id": "3e097149-d023-448f-852b-ccb0880c366d",
   "metadata": {},
   "outputs": [
    {
     "data": {
      "text/plain": [
       "[0, 1, 4, 9, 16, 25, 36, 49, 64, 81]"
      ]
     },
     "execution_count": 11,
     "metadata": {},
     "output_type": "execute_result"
    }
   ],
   "source": [
    "# A3-Python function that takes a list of integers and returns a new list containing the squares of\n",
    "#each no.\n",
    "#code\n",
    "def square_no(n):\n",
    "    result=[]\n",
    "    for i in range(n):\n",
    "        result.append(i ** 2)\n",
    "    return result\n",
    "square_no(10)\n"
   ]
  },
  {
   "cell_type": "code",
   "execution_count": 2,
   "id": "3fcf908e-a173-4d96-85c5-8f534bb97cd4",
   "metadata": {},
   "outputs": [
    {
     "data": {
      "text/plain": [
       "[0,\n",
       " 1,\n",
       " 4,\n",
       " 9,\n",
       " 16,\n",
       " 25,\n",
       " 36,\n",
       " 49,\n",
       " 64,\n",
       " 81,\n",
       " 100,\n",
       " 121,\n",
       " 144,\n",
       " 169,\n",
       " 196,\n",
       " 225,\n",
       " 256,\n",
       " 289,\n",
       " 324,\n",
       " 361]"
      ]
     },
     "execution_count": 2,
     "metadata": {},
     "output_type": "execute_result"
    }
   ],
   "source": [
    "square_no(20)"
   ]
  },
  {
   "cell_type": "code",
   "execution_count": 25,
   "id": "e3a8d9f6-1606-4df0-a4e9-6132a4439707",
   "metadata": {},
   "outputs": [
    {
     "name": "stdout",
     "output_type": "stream",
     "text": [
      "49 is not a prime no.\n"
     ]
    }
   ],
   "source": [
    "#A4- a Python function that checks if a given number is prime or not from 1 to 200.\n",
    "#code\n",
    "from sympy import isprime\n",
    "\n",
    "number=49\n",
    "\n",
    "if isprime(number):\n",
    "    print(f\"{number} is a prime no.\")\n",
    "else:\n",
    "    print(f\"{number} is not a prime no.\")"
   ]
  },
  {
   "cell_type": "code",
   "execution_count": 12,
   "id": "cfdb7f35-d2c2-4e64-a9df-0ec307ca5c9e",
   "metadata": {},
   "outputs": [
    {
     "data": {
      "text/plain": [
       "<generator object fib at 0x7bf4c943c890>"
      ]
     },
     "execution_count": 12,
     "metadata": {},
     "output_type": "execute_result"
    }
   ],
   "source": [
    "#A5-an iterator class in Python that generates the Fibonacci sequence up to a specified number of\n",
    "#terms\n",
    "#code\n",
    "#fibinacci series>>sum of last two nos>>0,1,1,2,3,5,8....\n",
    "def fib(n):\n",
    "    a=0\n",
    "    b=1\n",
    "    for i in range(n):\n",
    "        yield a \n",
    "        a ,b =b, a+b\n",
    "f=fib(100)\n",
    "f\n",
    "\n",
    "    \n"
   ]
  },
  {
   "cell_type": "code",
   "execution_count": 13,
   "id": "90b2bb15-4596-4296-af4d-e608a2aab265",
   "metadata": {},
   "outputs": [
    {
     "data": {
      "text/plain": [
       "0"
      ]
     },
     "execution_count": 13,
     "metadata": {},
     "output_type": "execute_result"
    }
   ],
   "source": [
    "next(f)\n"
   ]
  },
  {
   "cell_type": "code",
   "execution_count": 14,
   "id": "a128497a-5001-46b1-b621-87e339055b32",
   "metadata": {},
   "outputs": [
    {
     "data": {
      "text/plain": [
       "1"
      ]
     },
     "execution_count": 14,
     "metadata": {},
     "output_type": "execute_result"
    }
   ],
   "source": [
    "next(f)"
   ]
  },
  {
   "cell_type": "code",
   "execution_count": 15,
   "id": "310d7df8-159d-4807-ae63-88081dc25363",
   "metadata": {},
   "outputs": [
    {
     "data": {
      "text/plain": [
       "1"
      ]
     },
     "execution_count": 15,
     "metadata": {},
     "output_type": "execute_result"
    }
   ],
   "source": [
    "next(f)"
   ]
  },
  {
   "cell_type": "code",
   "execution_count": 16,
   "id": "d1acd409-06bf-4238-97b3-666f75ced641",
   "metadata": {},
   "outputs": [
    {
     "data": {
      "text/plain": [
       "2"
      ]
     },
     "execution_count": 16,
     "metadata": {},
     "output_type": "execute_result"
    }
   ],
   "source": [
    "next(f)"
   ]
  },
  {
   "cell_type": "code",
   "execution_count": 17,
   "id": "e474c6a8-be48-4f13-a019-c0986fd92e1a",
   "metadata": {},
   "outputs": [
    {
     "data": {
      "text/plain": [
       "3"
      ]
     },
     "execution_count": 17,
     "metadata": {},
     "output_type": "execute_result"
    }
   ],
   "source": [
    "next(f)"
   ]
  },
  {
   "cell_type": "code",
   "execution_count": 18,
   "id": "bdd83cc4-52d1-42f3-8805-24e207d3a27d",
   "metadata": {},
   "outputs": [
    {
     "data": {
      "text/plain": [
       "5"
      ]
     },
     "execution_count": 18,
     "metadata": {},
     "output_type": "execute_result"
    }
   ],
   "source": [
    "next(f)"
   ]
  },
  {
   "cell_type": "code",
   "execution_count": 19,
   "id": "0e985236-5a9c-4e1f-9d85-3e832efa9c66",
   "metadata": {},
   "outputs": [
    {
     "data": {
      "text/plain": [
       "8"
      ]
     },
     "execution_count": 19,
     "metadata": {},
     "output_type": "execute_result"
    }
   ],
   "source": [
    "next(f)"
   ]
  },
  {
   "cell_type": "code",
   "execution_count": null,
   "id": "c100bdae-2743-4836-8b6c-06770aa6b3eb",
   "metadata": {},
   "outputs": [],
   "source": [
    "#fibonacci series goes so on...."
   ]
  },
  {
   "cell_type": "code",
   "execution_count": 26,
   "id": "f0d11a05-9437-479d-bba8-69fa69b653e9",
   "metadata": {},
   "outputs": [
    {
     "data": {
      "text/plain": [
       "<generator object square_no_generator at 0x78aec10b1e70>"
      ]
     },
     "execution_count": 26,
     "metadata": {},
     "output_type": "execute_result"
    }
   ],
   "source": [
    "#A6- a generator function in Python that yields the powers of 2 up to a given exponent\n",
    "#code\n",
    "def square_no_generator(n):\n",
    "    for i in range(n):\n",
    "        yield i**2\n",
    "    \n",
    "square_no_generator(10)"
   ]
  },
  {
   "cell_type": "code",
   "execution_count": 27,
   "id": "7c501f39-097f-4ef5-841a-603da2bc4241",
   "metadata": {},
   "outputs": [
    {
     "data": {
      "text/plain": [
       "0"
      ]
     },
     "execution_count": 27,
     "metadata": {},
     "output_type": "execute_result"
    }
   ],
   "source": [
    "gen=square_no_generator(10)\n",
    "next(gen)"
   ]
  },
  {
   "cell_type": "code",
   "execution_count": 28,
   "id": "2f831921-0e64-4956-9078-019577aadcc3",
   "metadata": {},
   "outputs": [
    {
     "data": {
      "text/plain": [
       "1"
      ]
     },
     "execution_count": 28,
     "metadata": {},
     "output_type": "execute_result"
    }
   ],
   "source": [
    "next(gen)"
   ]
  },
  {
   "cell_type": "code",
   "execution_count": 29,
   "id": "d6c61ee2-b5a2-4354-902c-dcd50a0706e7",
   "metadata": {},
   "outputs": [
    {
     "data": {
      "text/plain": [
       "4"
      ]
     },
     "execution_count": 29,
     "metadata": {},
     "output_type": "execute_result"
    }
   ],
   "source": [
    "next(gen)"
   ]
  },
  {
   "cell_type": "code",
   "execution_count": 30,
   "id": "f645dea5-e0ea-49e5-a7cc-a3344725485a",
   "metadata": {},
   "outputs": [
    {
     "data": {
      "text/plain": [
       "9"
      ]
     },
     "execution_count": 30,
     "metadata": {},
     "output_type": "execute_result"
    }
   ],
   "source": [
    "next(gen)"
   ]
  },
  {
   "cell_type": "code",
   "execution_count": 31,
   "id": "74ab160c-ef2b-48b9-b1df-9aef18f73325",
   "metadata": {},
   "outputs": [
    {
     "data": {
      "text/plain": [
       "16"
      ]
     },
     "execution_count": 31,
     "metadata": {},
     "output_type": "execute_result"
    }
   ],
   "source": [
    "next(gen)"
   ]
  },
  {
   "cell_type": "code",
   "execution_count": 32,
   "id": "ea50617f-c498-46fa-805c-50c5d1fdcf05",
   "metadata": {},
   "outputs": [
    {
     "data": {
      "text/plain": [
       "25"
      ]
     },
     "execution_count": 32,
     "metadata": {},
     "output_type": "execute_result"
    }
   ],
   "source": [
    "next(gen)"
   ]
  },
  {
   "cell_type": "code",
   "execution_count": 33,
   "id": "7dfbb587-9e9a-4a86-bf76-51e4fbceb445",
   "metadata": {},
   "outputs": [
    {
     "data": {
      "text/plain": [
       "36"
      ]
     },
     "execution_count": 33,
     "metadata": {},
     "output_type": "execute_result"
    }
   ],
   "source": [
    "next(gen)"
   ]
  },
  {
   "cell_type": "code",
   "execution_count": 34,
   "id": "01822b6e-131d-4e19-aa20-884f62f1057f",
   "metadata": {},
   "outputs": [
    {
     "data": {
      "text/plain": [
       "49"
      ]
     },
     "execution_count": 34,
     "metadata": {},
     "output_type": "execute_result"
    }
   ],
   "source": [
    "next(gen)"
   ]
  },
  {
   "cell_type": "code",
   "execution_count": 35,
   "id": "11e02b87-ee4c-40ab-b0b4-0519fbf843aa",
   "metadata": {},
   "outputs": [
    {
     "data": {
      "text/plain": [
       "64"
      ]
     },
     "execution_count": 35,
     "metadata": {},
     "output_type": "execute_result"
    }
   ],
   "source": [
    "next(gen)"
   ]
  },
  {
   "cell_type": "code",
   "execution_count": 36,
   "id": "84292a1c-04c1-4e16-9059-74a571a9f80e",
   "metadata": {},
   "outputs": [
    {
     "data": {
      "text/plain": [
       "81"
      ]
     },
     "execution_count": 36,
     "metadata": {},
     "output_type": "execute_result"
    }
   ],
   "source": [
    "next(gen)"
   ]
  },
  {
   "cell_type": "code",
   "execution_count": null,
   "id": "4065de46-3c18-4df9-a3cf-a6b34cc37a2f",
   "metadata": {},
   "outputs": [],
   "source": [
    "#A7- a generator function that reads a file line by line and yields each line as a string\n"
   ]
  },
  {
   "cell_type": "code",
   "execution_count": 20,
   "id": "3fface77-8609-4736-b7fe-132ae4006aea",
   "metadata": {},
   "outputs": [
    {
     "name": "stdout",
     "output_type": "stream",
     "text": [
      "Original list of tuples:\n",
      "[('English', 88), ('Science', 90), ('Maths', 97), ('Social sciences', 82)]\n",
      "\n",
      "Sorting the List of Tuples:\n",
      "[('Social sciences', 82), ('English', 88), ('Science', 90), ('Maths', 97)]\n"
     ]
    }
   ],
   "source": [
    "#A8-lambda function in Python to sort a list of tuples based on the second element of each tuple\n",
    "#code\n",
    "# Create a list of tuples named 'subject_marks', each tuple containing a subject and its corresponding marks\n",
    "subject_marks = [('English', 88), ('Science', 90), ('Maths', 97), ('Social sciences', 82)]\n",
    "\n",
    "# Display the original list of tuples \n",
    "print(\"Original list of tuples:\")\n",
    "print(subject_marks)\n",
    "\n",
    "# Sort the 'subject_marks' list of tuples based on the second element of each tuple (the marks),\n",
    "# using a lambda function as the sorting key to extract the second element\n",
    "subject_marks.sort(key=lambda x: x[1])\n",
    "\n",
    "# Display the sorted list of tuples to the console\n",
    "print(\"\\nSorting the List of Tuples:\")\n",
    "print(subject_marks) "
   ]
  },
  {
   "cell_type": "code",
   "execution_count": null,
   "id": "b7956c27-c6a3-4993-af78-fc8e2557a3bb",
   "metadata": {},
   "outputs": [],
   "source": [
    "#A9- a Python program that uses `map()` to convert a list of temperatures from Celsius to Fahrenheit"
   ]
  },
  {
   "cell_type": "code",
   "execution_count": null,
   "id": "aa85fe76-4914-4e12-b1f3-8a3f23e59610",
   "metadata": {},
   "outputs": [],
   "source": [
    "#A10-a Python program that uses `filter()` to remove all the vowels from a given string"
   ]
  }
 ],
 "metadata": {
  "kernelspec": {
   "display_name": "Python 3 (ipykernel)",
   "language": "python",
   "name": "python3"
  },
  "language_info": {
   "codemirror_mode": {
    "name": "ipython",
    "version": 3
   },
   "file_extension": ".py",
   "mimetype": "text/x-python",
   "name": "python",
   "nbconvert_exporter": "python",
   "pygments_lexer": "ipython3",
   "version": "3.10.8"
  }
 },
 "nbformat": 4,
 "nbformat_minor": 5
}
