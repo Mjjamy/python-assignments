{
  "nbformat": 4,
  "nbformat_minor": 0,
  "metadata": {
    "colab": {
      "provenance": []
    },
    "kernelspec": {
      "name": "python3",
      "display_name": "Python 3"
    },
    "language_info": {
      "name": "python"
    }
  },
  "cells": [
    {
      "cell_type": "code",
      "execution_count": null,
      "metadata": {
        "id": "BEp56wajaO5k"
      },
      "outputs": [],
      "source": [
        "#1- Explain the properties of the F-distribution.\n",
        "#The F-distribution is a probability distribution used primarily to analyze variances and is often encountered in ANOVA (Analysis of Variance) testing.\n",
        "# Here are three simple key properties:\n",
        "\n",
        "#Shape: The F-distribution is always right-skewed, meaning that it is asymmetrical and has a tail that extends to the right.\n",
        "#The shape of the distribution depends on two parameters—degrees of freedom for the numerator and the denominator—which affect the spread and the peak of the distribution.\n",
        "\n",
        "#Range: The values of the F-distribution are always positive, ranging from 0 to infinity.\n",
        "#This is because it represents a ratio of variances, and variances cannot be negative.\n",
        "\n",
        "#Usage in hypothesis testing: The F-distribution is used to compare two variances and determine whether they are significantly different.\n",
        "#This is crucial in testing hypotheses about group means in experiments, where the variance between group means is compared to the variance within groups."
      ]
    },
    {
      "cell_type": "code",
      "source": [
        "#2-2. In which types of statistical tests is the F-distribution used, and why is it appropriate for these tests.\n",
        "#The F-distribution is used in the following types of statistical tests:\n",
        "\n",
        "#ANOVA (Analysis of Variance): It's used in ANOVA to compare means of three or more groups by analyzing the ratio of variance between groups to variance within groups.\n",
        "#The F-distribution is appropriate here because it effectively measures how much the group means deviate from the overall mean,\n",
        "# helping to determine if any of the group differences are statistically significant.\n",
        "\n",
        "#Regression Analysis: In regression, the F-test assesses the overall significance of the regression model.\n",
        "#It compares the variance explained by the model to the variance of the residuals (errors).\n",
        "#The F-distribution is suitable because it helps to determine if the model provides a better fit to the data than a model with no independent variables."
      ],
      "metadata": {
        "id": "tvknMK4paVPT"
      },
      "execution_count": null,
      "outputs": []
    },
    {
      "cell_type": "code",
      "source": [
        "\n",
        "#3- What are the key assumptions required for conducting an F-test to compare the variances of two\n",
        "#populations\n",
        "#When conducting an F-test to compare the variances of two populations, the key assumptions are:\n",
        "\n",
        "#Normality: Both populations from which the samples are drawn must be normally distributed.\n",
        "#The F-test is sensitive to deviations from normality.\n",
        "\n",
        "#Independence: The samples must be independent of each other.\n",
        "#This means that the data collected from one sample should not influence the data collected from another.\n",
        "\n",
        "#Ratio of Variances: The F-test typically assumes that the larger variance is in the numerator and the smaller in the denominator to avoid inflating the F-value,\n",
        "#which can affect the test's accuracy and the interpretation of results."
      ],
      "metadata": {
        "id": "pUxDEa0LaVST"
      },
      "execution_count": null,
      "outputs": []
    },
    {
      "cell_type": "code",
      "source": [
        "#4-What is the purpose of ANOVA, and how does it differ from a t-test\n",
        "#The purpose of ANOVA (Analysis of Variance) and how it differs from a t-test can be summarized in a few key points:\n",
        "\n",
        "#Purpose of ANOVA: ANOVA is used to determine if there are any statistically significant differences between the means of three or more independent (unrelated) groups.\n",
        "# It helps in testing general rather than specific differences.\n",
        "\n",
        "#Multiple Groups: Unlike the t-test, which is typically used to compare the means between two groups,\n",
        "#ANOVA can handle multiple groups at once, making it ideal for experiments involving more than two treatments or conditions.\n",
        "\n",
        "#Overall Variance: ANOVA decomposes the variances within and between groups to see if the mean differences among groups are greater than would be expected by chance.\n",
        "#It tests one or more factors by comparing the response variable means at the different factor levels.\n",
        "\n",
        "#Assumptions: Both tests assume that the data comes from a normally distributed population and that the data have homogeneity of variances (equal variances across samples).\n",
        "#However, ANOVA is generally more robust to violations of these assumptions with larger sample sizes.\n",
        "\n",
        "#These distinctions make ANOVA a versatile tool for more complex experimental designs compared to the t-test, which is more limited in scope."
      ],
      "metadata": {
        "id": "oavh6NmceCgD"
      },
      "execution_count": null,
      "outputs": []
    },
    {
      "cell_type": "code",
      "source": [
        "#5- Explain when and why you would use a one-way ANOVA instead of multiple t-tests when comparing more\n",
        "#than two groups\n",
        "\n",
        "#You would use a one-way ANOVA instead of multiple t-tests in certain situations for these main reasons:\n",
        "\n",
        "#Risk of Type I Errors: When comparing more than two groups,\n",
        "#conducting multiple t-tests increases the chance of making a Type I error—that is,\n",
        "#incorrectly rejecting the null hypothesis. ANOVA analyzes the differences among group means in one go,\n",
        "#maintaining the error rate at the desired level (usually 0.05).\n",
        "\n",
        "#Efficiency and Simplicity:\n",
        "# ANOVA provides a single,\n",
        "#comprehensive analysis that can test differences across all groups simultaneously,\n",
        "#which is more efficient and simpler than running and interpreting multiple pairwise t-tests.\n",
        "#This avoids the complexity and redundancy of multiple individual tests."
      ],
      "metadata": {
        "id": "y8B7dpxkeCsM"
      },
      "execution_count": null,
      "outputs": []
    },
    {
      "cell_type": "code",
      "source": [
        "#6-Explain how variance is partitioned in ANOVA into between-group variance and within-group variance.\n",
        "#How does this partitioning contribute to the calculation of the F-statistic.\n",
        "\n",
        "#-In ANOVA, variance is partitioned into between-group variance and within-group variance as follows:\n",
        "#Partitioning Variance:\n",
        "#Between-Group Variance: This measures how much the group means deviate from the overall mean of all groups combined.\n",
        "# It reflects the variation due to the interaction between different treatments or conditions applied to the groups.\n",
        "\n",
        "#Within-Group Variance: This measures the variation within each group,\n",
        "#accounting for the natural variability in the data that is not due to the treatment effects. It essentially captures random noise and individual differences within each group.\n",
        "\n",
        "\n",
        "#Contribution to F-Statistic:\n",
        "#The F-statistic in ANOVA is calculated by taking the ratio of the between-group variance to the within-group variance.\n",
        "# A higher ratio suggests that a significant portion of the overall variance is due to the differences between group means (i.e., due to treatment effects),\n",
        "# rather than random variation within groups. This ratio is what the F-test uses to determine if the observed differences in means across groups are statistically significant"
      ],
      "metadata": {
        "id": "iweKuElOghWB"
      },
      "execution_count": null,
      "outputs": []
    },
    {
      "cell_type": "code",
      "source": [
        "#7- Compare the classical (frequentist) approach to ANOVA with the Bayesian approach. What are the key\n",
        "#differences in terms of how they handle uncertainty, parameter estimation, and hypothesis testing\n",
        "\n",
        "#When we use ANOVA to see if different groups are similar or different, there are two main ways to do it:\n",
        "\n",
        "#Classical Way (like using a fixed ruler): We use specific rules and a ruler that never changes to measure and decide if the groups are different.\n",
        "#Bayesian Way (like guessing with clues): We guess what might be true by using clues from what we already know and what we see,\n",
        "#and then see how likely our guess is right.\n",
        "\n",
        "#It's like choosing between measuring something with a ruler every time, or making an educated guess with a little help from what you know already"
      ],
      "metadata": {
        "id": "WXTiutObghcG"
      },
      "execution_count": null,
      "outputs": []
    },
    {
      "cell_type": "code",
      "source": [
        "#8-Question: You have two sets of data representing the incomes of two different professions1\n",
        "# Profession A: [48, 52, 55, 60, 62]\n",
        "# Profession B: [45, 50, 55, 52, 47]\n",
        "#Perform an F-test to determine if the variances of the two professions'\n",
        "#incomes are equal. What are your conclusions based on the F-test?\n",
        "\n",
        "#Task: Use Python to calculate the F-statistic and p-value for the given data.\n",
        "\n",
        "#Objective: Gain experience in performing F-tests and interpreting the results in terms of variance comparison"
      ],
      "metadata": {
        "id": "vzfmXgn8jOZ2"
      },
      "execution_count": null,
      "outputs": []
    },
    {
      "cell_type": "code",
      "source": [
        "#8-\n",
        "import numpy as np\n",
        "import scipy.stats as stats\n",
        "\n",
        "# Given data\n",
        "income_A = [48, 52, 55, 60, 62]\n",
        "income_B = [45, 50, 55, 52, 47]\n",
        "\n",
        "# Calculate the variances\n",
        "var_A = np.var(income_A, ddof=1)\n",
        "var_B = np.var(income_B, ddof=1)\n",
        "\n",
        "# Perform F-test\n",
        "F_statistic = var_A / var_B\n",
        "\n",
        "# Degrees of freedom for each sample\n",
        "dfn = len(income_A) - 1\n",
        "dfd = len(income_B) - 1\n",
        "\n",
        "# Calculate the p-value\n",
        "p_value = stats.f.cdf(F_statistic, dfn, dfd) if var_A > var_B else stats.f.cdf(1/F_statistic, dfd, dfn)\n",
        "\n",
        "F_statistic, p_value\n",
        "\n"
      ],
      "metadata": {
        "colab": {
          "base_uri": "https://localhost:8080/"
        },
        "id": "ohN6kLz5jOdO",
        "outputId": "b1c5fd8c-e018-4860-9d54-50af1f30ad5b"
      },
      "execution_count": null,
      "outputs": [
        {
          "output_type": "execute_result",
          "data": {
            "text/plain": [
              "(2.089171974522293, 0.7534757004973305)"
            ]
          },
          "metadata": {},
          "execution_count": 1
        }
      ]
    },
    {
      "cell_type": "code",
      "source": [
        "#The F-statistic calculated from the incomes of the two professions is approximately 2.09, and the p-value is about 0.753.\n",
        "\n",
        "#Conclusion:\n",
        "\n",
        "#1-The p-value is much higher than the typical significance level (e.g., 0.05),\n",
        "#indicating that there is no significant evidence to reject the null hypothesis that the variances of the two professions' incomes are equal.\n",
        "\n",
        "#2-Based on the F-test, we conclude that the incomes for Profession A and Profession B do not show statistically significant differences in their variances"
      ],
      "metadata": {
        "id": "siR4iJBWaVVw"
      },
      "execution_count": null,
      "outputs": []
    },
    {
      "cell_type": "code",
      "source": [
        "#9-Question: Conduct a one-way ANOVA to test whether there are any statistically significant differences in\n",
        "#average heights between three different regions with the following data1\n",
        "# Region A: [160, 162, 165, 158, 164]\n",
        "# Region B: [172, 175, 170, 168, 174]\n",
        "# Region C: [180, 182, 179, 185, 183]\n",
        "# Task: Write Python code to perform the one-way ANOVA and interpret the results\n",
        "# Objective: Learn how to perform one-way ANOVA using Python and interpret F-statistic and p-value"
      ],
      "metadata": {
        "id": "y80Bj0vIoqFb"
      },
      "execution_count": null,
      "outputs": []
    },
    {
      "cell_type": "code",
      "source": [
        "#-\n",
        "import scipy.stats as stats\n",
        "\n",
        "# Data for the three regions\n",
        "heights_A = [160, 162, 165, 158, 164]\n",
        "heights_B = [172, 175, 170, 168, 174]\n",
        "heights_C = [180, 182, 179, 185, 183]\n",
        "\n",
        "# Perform one-way ANOVA\n",
        "F_statistic, p_value = stats.f_oneway(heights_A, heights_B, heights_C)\n",
        "\n",
        "F_statistic, p_value\n",
        "\n"
      ],
      "metadata": {
        "colab": {
          "base_uri": "https://localhost:8080/"
        },
        "id": "vAuZCE6DoqSk",
        "outputId": "96bf120a-a90f-4b26-f5e5-4b8f5a2cfd69"
      },
      "execution_count": null,
      "outputs": [
        {
          "output_type": "execute_result",
          "data": {
            "text/plain": [
              "(67.87330316742101, 2.870664187937026e-07)"
            ]
          },
          "metadata": {},
          "execution_count": 2
        }
      ]
    },
    {
      "cell_type": "code",
      "source": [
        "#The one-way ANOVA conducted on the average heights from three different regions resulted in an F-statistic of approximately 67.87\n",
        "#with a corresponding p-value of about  2.870664187937026e-07\n",
        "\n",
        "#Interpretation:\n",
        "#The very small p-value (much less than the common significance level of 0.05) indicates that we can reject the null hypothesis,\n",
        "# Thus, the results imply that there are statistically significant differences in the average heights across the three regions.\n",
        "#This means the average height is likely to vary depending on the region."
      ],
      "metadata": {
        "id": "IUnr-NDftzOa"
      },
      "execution_count": null,
      "outputs": []
    },
    {
      "cell_type": "code",
      "source": [],
      "metadata": {
        "id": "bMiWSRdAt9Mr"
      },
      "execution_count": null,
      "outputs": []
    },
    {
      "cell_type": "code",
      "source": [],
      "metadata": {
        "id": "bk1f6xt3t9PC"
      },
      "execution_count": null,
      "outputs": []
    }
  ]
}