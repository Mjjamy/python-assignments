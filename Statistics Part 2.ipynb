{
 "cells": [
  {
   "cell_type": "code",
   "execution_count": 2,
   "metadata": {},
   "outputs": [],
   "source": [
    "#1-What is hypothesis testing in statistics\n",
    "\n",
    "#Hypothesis testing is a statistical method used to make decisions or inferences about a population based on sample data.\n",
    "\n",
    "#It involves comparing a null hypothesis (H₀) against an alternative hypothesis (H₁) using a test statistic and p-value."
   ]
  },
  {
   "cell_type": "code",
   "execution_count": 3,
   "metadata": {},
   "outputs": [],
   "source": [
    "#2-What is the null hypothesis, and how does it differ from the alternative hypothesis\n",
    "\n",
    "#The null hypothesis (H₀) states that there is no effect or no difference between groups or variables.\n",
    "\n",
    "#The alternative hypothesis (H₁) claims that there is an effect or a significant difference."
   ]
  },
  {
   "cell_type": "code",
   "execution_count": 4,
   "metadata": {},
   "outputs": [],
   "source": [
    "#3-What is the significance level in hypothesis testing, and why is it important\n",
    "\n",
    "#The significance level (α) is the threshold probability (commonly 0.05) for rejecting the null hypothesis.\n",
    "\n",
    "#It’s important because it controls the risk of a Type I error—incorrectly rejecting a true null hypothesis."
   ]
  },
  {
   "cell_type": "code",
   "execution_count": 5,
   "metadata": {},
   "outputs": [],
   "source": [
    "#4- What does a P-value represent in hypothesis testing\n",
    "\n",
    "#A p-value is the probability of observing the data—or something more extreme—assuming the null hypothesis is true.\n",
    "\n",
    "#It helps determine whether the observed effect is statistically significant."
   ]
  },
  {
   "cell_type": "code",
   "execution_count": 6,
   "metadata": {},
   "outputs": [],
   "source": [
    "#5-How do you interpret the P-value in hypothesis testing.\n",
    "\n",
    "# If the p-value ≤ significance level (α), you reject the null hypothesis, indicating a significant result.\n",
    "\n",
    "#If the p-value > α, you fail to reject the null hypothesis, meaning the result is not statistically significant."
   ]
  },
  {
   "cell_type": "code",
   "execution_count": 7,
   "metadata": {},
   "outputs": [],
   "source": [
    "#6-What are Type 1 and Type 2 errors in hypothesis testing\n",
    "\n",
    "#A Type I error occurs when you reject a true null hypothesis (false positive).\n",
    "\n",
    "#A Type II error happens when you fail to reject a false null hypothesis (false negative)."
   ]
  },
  {
   "cell_type": "code",
   "execution_count": 8,
   "metadata": {},
   "outputs": [],
   "source": [
    "#7-What is the difference between a one-tailed and a two-tailed test in hypothesis testing\n",
    "\n",
    "#A one-tailed test checks for an effect in only one direction (e.g., greater than or less than).\n",
    "\n",
    "#A two-tailed test checks for an effect in both directions, testing for any significant difference.\n"
   ]
  },
  {
   "cell_type": "code",
   "execution_count": 9,
   "metadata": {},
   "outputs": [],
   "source": [
    "#8-What is the Z-test, and when is it used in hypothesis testing\n",
    "\n",
    "#A Z-test is used to test hypotheses about a population mean \n",
    "# when the population standard deviation is known and the sample size is large (n > 30).\n",
    "\n",
    "#It helps determine if a sample mean significantly differs from the population mean"
   ]
  },
  {
   "cell_type": "code",
   "execution_count": 10,
   "metadata": {},
   "outputs": [],
   "source": [
    "#9-How do you calculate the Z-score, and what does it represent in hypothesis testing\n",
    "\n",
    "#The Z-score is calculated as:\n",
    "\n",
    "#Z = (sample mean − population mean) / (population standard deviation / √n).\n",
    "\n",
    "#It represents how many standard deviations the sample mean is from the population mean under the null hypothesis."
   ]
  },
  {
   "cell_type": "code",
   "execution_count": 11,
   "metadata": {},
   "outputs": [],
   "source": [
    "#10-What is the T-distribution, and when should it be used instead of the normal distribution\n",
    "\n",
    "#The T-distribution is a probability distribution used for hypothesis testing when the population \n",
    "# standard deviation is unknown and the sample size is small (n ≤ 30).\n",
    "\n",
    "#It is used instead of the normal distribution because it accounts for increased variability in small samples."
   ]
  },
  {
   "cell_type": "code",
   "execution_count": 12,
   "metadata": {},
   "outputs": [],
   "source": [
    "#11-What is the difference between a Z-test and a T-test\n",
    "\n",
    "#A Z-test is used when the population standard deviation is known and the sample size is large (n > 30).\n",
    "\n",
    "#A T-test is used when the population standard deviation is unknown or the sample size is small (n ≤ 30)."
   ]
  },
  {
   "cell_type": "code",
   "execution_count": 13,
   "metadata": {},
   "outputs": [],
   "source": [
    "#12-What is the T-test, and how is it used in hypothesis testing\n",
    "\n",
    "#A T-test is used to compare the means of two groups or a sample mean to a population mean when the population standard deviation is unknown.\n",
    "\n",
    "#It helps determine if there is a significant difference between the groups based on the sample data."
   ]
  },
  {
   "cell_type": "code",
   "execution_count": 14,
   "metadata": {},
   "outputs": [],
   "source": [
    "#13-What is the relationship between Z-test and T-test in hypothesis testing\n",
    "\n",
    "#Both the Z-test and T-test are used to test hypotheses about population means, \n",
    "# but the Z-test is used when the population standard deviation is known and the sample size is large.\n",
    "\n",
    "#The T-test is used when the population standard deviation is unknown or the sample size is small, \n",
    "# with the T-distribution accounting for increased variability."
   ]
  },
  {
   "cell_type": "code",
   "execution_count": 15,
   "metadata": {},
   "outputs": [],
   "source": [
    "#14- What is a confidence interval, and how is it used to interpret statistical results\n",
    "\n",
    "#A confidence interval is a range of values that is likely to contain \n",
    "# the true population parameter with a certain level of confidence (e.g., 95%).\n",
    "\n",
    "#It helps interpret statistical results by showing the uncertainty or precision of an estimate"
   ]
  },
  {
   "cell_type": "code",
   "execution_count": 16,
   "metadata": {},
   "outputs": [],
   "source": [
    "#15-What is the margin of error, and how does it affect the confidence interval\n",
    "\n",
    "#The margin of error is the range around the sample estimate that accounts for uncertainty, \n",
    "# reflecting the potential error in estimating the true population parameter.\n",
    "\n",
    "#It affects the confidence interval by expanding or shrinking the interval, with a larger margin of error leading to a wider confidence interval."
   ]
  },
  {
   "cell_type": "code",
   "execution_count": 17,
   "metadata": {},
   "outputs": [],
   "source": [
    "#16-How is Bayes' Theorem used in statistics, and what is its significance\n",
    "\n",
    "#Bayes' Theorem is used in statistics to update \n",
    "# the probability of a hypothesis based on new evidence or data.\n",
    "\n",
    "#Its significance lies in providing a probabilistic framework for revising predictions and making decisions under uncertainty."
   ]
  },
  {
   "cell_type": "code",
   "execution_count": 18,
   "metadata": {},
   "outputs": [],
   "source": [
    "#17-What is the Chi-square distribution, and when is it used\n",
    "\n",
    "#The Chi-square distribution is a probability distribution used to analyze variances and the goodness of fit in categorical data.\n",
    "\n",
    "#It is used in tests like the Chi-square test for independence and Chi-square goodness of fit test when the data is categorical."
   ]
  },
  {
   "cell_type": "code",
   "execution_count": 19,
   "metadata": {},
   "outputs": [],
   "source": [
    "#18- What is the Chi-square goodness of fit test, and how is it applied\n",
    "\n",
    "#The Chi-square goodness of fit test compares the observed frequency distribution of categorical data to an expected distribution.\n",
    "\n",
    "#It is applied to determine if there is a significant difference between the observed and expected frequencies in a single categorical variable."
   ]
  },
  {
   "cell_type": "code",
   "execution_count": 20,
   "metadata": {},
   "outputs": [],
   "source": [
    "#19-What is the F-distribution, and when is it used in hypothesis testing\n",
    "\n",
    "#The F-distribution is a probability distribution that compares the variances of two populations, \n",
    "# often used in ANOVA and regression analysis.\n",
    "\n",
    "#It is used in hypothesis testing to assess if the variances between two or more groups are significantly different"
   ]
  },
  {
   "cell_type": "code",
   "execution_count": 21,
   "metadata": {},
   "outputs": [],
   "source": [
    "#20-What is an ANOVA test, and what are its assumptions\n",
    "\n",
    "#An ANOVA test (Analysis of Variance) is used to determine if there are significant differences in the means of three or more groups.\n",
    "\n",
    "#Its assumptions include independence of samples, normality of data, and homogeneity of variances (equal variances across groups)."
   ]
  },
  {
   "cell_type": "code",
   "execution_count": 22,
   "metadata": {},
   "outputs": [],
   "source": [
    "#21- What are the different types of ANOVA tests\n",
    "\n",
    "#The main types of ANOVA tests are One-Way ANOVA (comparing means of three or more groups based on one factor)\n",
    "\n",
    "#  and Two-Way ANOVA (comparing means across two factors).\n",
    "\n",
    "#Other variations include Repeated Measures ANOVA and Multivariate Analysis of Variance (MANOVA"
   ]
  },
  {
   "cell_type": "code",
   "execution_count": 23,
   "metadata": {},
   "outputs": [],
   "source": [
    "#22-What is the F-test, and how does it relate to hypothesis testing\n",
    "\n",
    "#The F-test is used to compare the variances of two or more groups to determine if they are significantly different.\n",
    "\n",
    "#In hypothesis testing, it helps test the null hypothesis that the group variances are equal, commonly used in ANOVA and regression analysis."
   ]
  },
  {
   "cell_type": "code",
   "execution_count": 24,
   "metadata": {},
   "outputs": [],
   "source": [
    "#PRACTICAL"
   ]
  },
  {
   "cell_type": "code",
   "execution_count": 47,
   "metadata": {},
   "outputs": [
    {
     "data": {
      "text/plain": [
       "(0.45635689750475994, 0.6481333552637427)"
      ]
     },
     "execution_count": 47,
     "metadata": {},
     "output_type": "execute_result"
    }
   ],
   "source": [
    "#1- Write a Python program to perform a Z-test for comparing a sample mean to a known population mean and\n",
    "#interpret the results\n",
    "\n",
    "import numpy as np\n",
    "import scipy.stats as stats\n",
    "\n",
    "\n",
    "sample_data = [60, 62, 65, 67, 70, 72, 75, 78, 80, 82]\n",
    "sample_mean = np.mean(sample_data)\n",
    "sample_size = len(sample_data)\n",
    "sample_std_dev = np.std(sample_data, ddof=1)\n",
    "\n",
    "# Known population mean\n",
    "population_mean = 70\n",
    "\n",
    "z_score = (sample_mean - population_mean) / (sample_std_dev / np.sqrt(sample_size))\n",
    "\n",
    "p_value = stats.norm.sf(abs(z_score)) * 2  # two-tailed test\n",
    "\n",
    "\n",
    "z_score, p_value\n"
   ]
  },
  {
   "cell_type": "code",
   "execution_count": 26,
   "metadata": {},
   "outputs": [],
   "source": [
    "# p-value is greater than 0.05, you fail to reject the null hypothesis, \n",
    "# meaning there is no significant difference between the sample and population mean."
   ]
  },
  {
   "cell_type": "code",
   "execution_count": 27,
   "metadata": {},
   "outputs": [
    {
     "data": {
      "text/plain": [
       "(-4.232083105379163, 2.3153681870672257e-05)"
      ]
     },
     "execution_count": 27,
     "metadata": {},
     "output_type": "execute_result"
    }
   ],
   "source": [
    "#2- Simulate random data to perform hypothesis testing and calculate the corresponding P-value using Python\n",
    "\n",
    "import numpy as np\n",
    "import scipy.stats as stats\n",
    "\n",
    "\n",
    "np.random.seed(42)\n",
    "sample_data = np.random.normal(loc=100, scale=15, size=50)  # mean=100, std=15, n=50\n",
    "\n",
    "\n",
    "population_mean = 105\n",
    "\n",
    "sample_mean = np.mean(sample_data)\n",
    "sample_std_dev = np.std(sample_data, ddof=1)\n",
    "sample_size = len(sample_data)\n",
    "\n",
    "\n",
    "z_score = (sample_mean - population_mean) / (sample_std_dev / np.sqrt(sample_size))\n",
    "\n",
    "# p-value (two-tailed test)\n",
    "p_value = stats.norm.sf(abs(z_score)) * 2\n",
    "\n",
    "z_score, p_value\n"
   ]
  },
  {
   "cell_type": "code",
   "execution_count": 28,
   "metadata": {},
   "outputs": [],
   "source": [
    "#Since the p-value (2.32 × 10⁻⁵) is much smaller than the significance level of 0.05, we reject the null hypothesis.\n",
    "\n",
    "#This suggests that the sample mean is significantly different from the population mean of 105"
   ]
  },
  {
   "cell_type": "code",
   "execution_count": 29,
   "metadata": {},
   "outputs": [],
   "source": [
    "#3-Implement a one-sample Z-test using Python to compare the sample mean with the population mean"
   ]
  },
  {
   "cell_type": "code",
   "execution_count": 30,
   "metadata": {},
   "outputs": [
    {
     "data": {
      "text/plain": [
       "(-1.1700427342623014, 0.24198377184733466)"
      ]
     },
     "execution_count": 30,
     "metadata": {},
     "output_type": "execute_result"
    }
   ],
   "source": [
    "import numpy as np\n",
    "import scipy.stats as stats\n",
    "\n",
    "\n",
    "sample_data = [85, 88, 90, 92, 95, 98, 100, 102, 105, 108]\n",
    "sample_mean = np.mean(sample_data)\n",
    "sample_size = len(sample_data)\n",
    "population_mean = 100  \n",
    "population_std_dev = 10  \n",
    "\n",
    "\n",
    "z_score = (sample_mean - population_mean) / (population_std_dev / np.sqrt(sample_size))\n",
    "\n",
    "\n",
    "p_value = stats.norm.sf(abs(z_score)) * 2  \n",
    "\n",
    "z_score, p_value\n"
   ]
  },
  {
   "cell_type": "code",
   "execution_count": 31,
   "metadata": {},
   "outputs": [],
   "source": [
    "#the p-value is greater than 0.05, fail to reject the null hypothesis, meaning there's no significant difference."
   ]
  },
  {
   "cell_type": "code",
   "execution_count": 32,
   "metadata": {},
   "outputs": [],
   "source": [
    "#4-Perform a two-tailed Z-test using Python and visualize the decision region on a plot\n"
   ]
  },
  {
   "cell_type": "code",
   "execution_count": 33,
   "metadata": {},
   "outputs": [],
   "source": [
    "#5-Create a Python function that calculates and visualizes Type 1 and Type 2 errors during hypothesis testing"
   ]
  },
  {
   "cell_type": "code",
   "execution_count": 46,
   "metadata": {},
   "outputs": [
    {
     "data": {
      "text/plain": [
       "(1.7980516373902198, 0.10987970118946531)"
      ]
     },
     "execution_count": 46,
     "metadata": {},
     "output_type": "execute_result"
    }
   ],
   "source": [
    "#6- Write a Python program to perform an independent T-test and interpret the results\n",
    "\n",
    "import numpy as np\n",
    "from scipy import stats\n",
    "\n",
    "\n",
    "group_A = [48, 52, 55, 60, 62]\n",
    "group_B = [45, 50, 55, 52, 47]\n",
    "\n",
    "\n",
    "t_stat, p_value = stats.ttest_ind(group_A, group_B)\n",
    "\n",
    "\n",
    "t_stat, p_value\n",
    "\n"
   ]
  },
  {
   "cell_type": "code",
   "execution_count": 35,
   "metadata": {},
   "outputs": [],
   "source": [
    "#T-statistic: Measures the difference between the means of the two groups, adjusted for sample size.\n",
    "\n",
    "# p-value > significance level, fail to reject the null hypothesis, meaning there is no significant difference between the groups."
   ]
  },
  {
   "cell_type": "code",
   "execution_count": 45,
   "metadata": {},
   "outputs": [
    {
     "name": "stdout",
     "output_type": "stream",
     "text": [
      "T-statistic: -7.483314773547883\n",
      "P-value: 0.0017051574847275648\n"
     ]
    }
   ],
   "source": [
    "#7- Perform a paired sample T-test using Python \n",
    "\n",
    "import numpy as np\n",
    "from scipy import stats\n",
    "import matplotlib.pyplot as plt\n",
    "\n",
    "before_treatment = [78, 85, 88, 92, 94]\n",
    "after_treatment = [81, 87, 90, 95, 98]\n",
    "\n",
    "t_stat, p_value = stats.ttest_rel(before_treatment, after_treatment)\n",
    "\n",
    "\n",
    "print(f\"T-statistic: {t_stat}\")\n",
    "print(f\"P-value: {p_value}\")\n"
   ]
  },
  {
   "cell_type": "code",
   "execution_count": 37,
   "metadata": {},
   "outputs": [
    {
     "data": {
      "text/plain": [
       "(-1.0305229898218904,\n",
       " 0.3027645658813294,\n",
       " -1.1450173670383383,\n",
       " 0.26156414618801166)"
      ]
     },
     "execution_count": 37,
     "metadata": {},
     "output_type": "execute_result"
    }
   ],
   "source": [
    "#8- Simulate data and perform both Z-test and T-test, then compare the results using Python\n",
    "\n",
    "\n",
    "import numpy as np\n",
    "from scipy import stats\n",
    "\n",
    "np.random.seed(42)\n",
    "\n",
    "sample_size = 30\n",
    "population_mean = 100\n",
    "population_std_dev = 15\n",
    "\n",
    "sample_data = np.random.normal(loc=population_mean, scale=population_std_dev, size=sample_size)\n",
    "\n",
    "z_score = (np.mean(sample_data) - population_mean) / (population_std_dev / np.sqrt(sample_size))\n",
    "p_value_z = stats.norm.sf(abs(z_score)) * 2  \n",
    "\n",
    "t_stat, p_value_t = stats.ttest_1samp(sample_data, population_mean)\n",
    "\n",
    "\n",
    "z_score, p_value_z, t_stat, p_value_t\n"
   ]
  },
  {
   "cell_type": "code",
   "execution_count": 38,
   "metadata": {},
   "outputs": [],
   "source": [
    "#Both the Z-test and T-test have similar results, with p-values above 0.05, meaning we fail to reject the null hypothesis in both tests.\n",
    "\n",
    "#This suggests that the sample mean is not significantly different from the population mean (100) based on both tests."
   ]
  },
  {
   "cell_type": "code",
   "execution_count": 39,
   "metadata": {},
   "outputs": [],
   "source": [
    "#9-Write a Python function to calculate the confidence interval for a sample mean and explain its significance\n",
    "\n",
    "import numpy as np\n",
    "from scipy import stats\n",
    "\n",
    "def confidence_interval(data, confidence=0.95):\n",
    "    sample_mean = np.mean(data)\n",
    "    sample_std = np.std(data, ddof=1)  # Sample standard deviation\n",
    "    n = len(data)\n",
    "    \n",
    "    margin_of_error = stats.t.ppf((1 + confidence) / 2, df=n-1) * (sample_std / np.sqrt(n))\n",
    "    \n",
    "    lower_bound = sample_mean - margin_of_error\n",
    "    upper_bound = sample_mean + margin_of_error\n",
    "    \n",
    "    return (lower_bound, upper_bound)\n",
    "\n"
   ]
  },
  {
   "cell_type": "code",
   "execution_count": 43,
   "metadata": {},
   "outputs": [
    {
     "name": "stdout",
     "output_type": "stream",
     "text": [
      "95% Confidence Interval: (90.87239397923909, 101.7276060207609)\n"
     ]
    }
   ],
   "source": [
    "sample_data = [85, 88, 90, 92, 95, 98, 100, 102, 105, 108]\n",
    "ci = confidence_interval(sample_data, confidence=0.95)\n",
    "print(\"95% Confidence Interval:\", ci)\n",
    "\n",
    "# a 95% confidence interval means that if we took 100 different samples and calculated intervals, about 95 of them would contain the true population mean.\n"
   ]
  },
  {
   "cell_type": "code",
   "execution_count": 41,
   "metadata": {},
   "outputs": [],
   "source": [
    "#10-Write a Python program to calculate the margin of error for a given confidence level using sample data\n",
    "\n",
    "import numpy as np\n",
    "from scipy import stats\n",
    "\n",
    "def calculate_margin_of_error(data, confidence=0.95):\n",
    "    n = len(data)\n",
    "    sample_std = np.std(data, ddof=1)  # Sample standard deviation\n",
    "    critical_value = stats.t.ppf((1 + confidence) / 2, df=n-1)  # t-critical value\n",
    "    \n",
    "    margin_of_error = critical_value * (sample_std / np.sqrt(n))\n",
    "    return margin_of_error\n",
    "\n"
   ]
  },
  {
   "cell_type": "code",
   "execution_count": 44,
   "metadata": {},
   "outputs": [
    {
     "name": "stdout",
     "output_type": "stream",
     "text": [
      "Margin of Error (95% confidence): 5.43\n"
     ]
    }
   ],
   "source": [
    "sample_data = [85, 88, 90, 92, 95, 98, 100, 102, 105, 108]\n",
    "moe = calculate_margin_of_error(sample_data, confidence=0.95)\n",
    "print(f\"Margin of Error (95% confidence): {moe:.2f}\")\n",
    "\n",
    "#Margin of Error (MoE) tells us how much the sample mean is expected to vary from the true population mean.\n"
   ]
  },
  {
   "cell_type": "code",
   "execution_count": null,
   "metadata": {},
   "outputs": [],
   "source": []
  }
 ],
 "metadata": {
  "kernelspec": {
   "display_name": "Python 3",
   "language": "python",
   "name": "python3"
  },
  "language_info": {
   "codemirror_mode": {
    "name": "ipython",
    "version": 3
   },
   "file_extension": ".py",
   "mimetype": "text/x-python",
   "name": "python",
   "nbconvert_exporter": "python",
   "pygments_lexer": "ipython3",
   "version": "3.11.4"
  }
 },
 "nbformat": 4,
 "nbformat_minor": 2
}
