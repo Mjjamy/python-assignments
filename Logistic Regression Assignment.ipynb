{
 "cells": [
  {
   "cell_type": "code",
   "execution_count": 72,
   "metadata": {},
   "outputs": [],
   "source": [
    "#1What is Logistic Regression, and how does it differ from Linear Regression.\n",
    "\n",
    "#Logistic Regression is a statistical model used for classification tasks,\n",
    "\n",
    "#  predicting probabilities of categorical outcomes (e.g., spam or not spam). \n",
    "\n",
    "# Linear Regression, which predicts continuous values, Logistic Regression outputs probabilities using the sigmoid function to map values between 0 and 1"
   ]
  },
  {
   "cell_type": "code",
   "execution_count": 73,
   "metadata": {},
   "outputs": [],
   "source": [
    "#2-What is the mathematical equation of Logistic Regression?\n",
    "\n",
    "# P(Y=1)=1/(1+e^-(b0+b1x1+b2x2+...+bnxn))\n",
    "\n",
    "#P(Y=1) is the probability of the positive class (output = 1).\n",
    "\n",
    "#The term inside the exponent is the linear combination of inputs.\n",
    "\n",
    "#b1,b2,....,bn are the coefficients for the input features x1,x2,x3.....xn.\n"
   ]
  },
  {
   "cell_type": "code",
   "execution_count": 74,
   "metadata": {},
   "outputs": [],
   "source": [
    "#3-Why do we use the Sigmoid function in Logistic Regression\n",
    "\n",
    "#We use the Sigmoid function in Logistic Regression to map predictions between 0 and 1,\n",
    "\n",
    "#  making it suitable for probability estimation. \n",
    "\n",
    "# It helps classify data by converting any real number into a probability value."
   ]
  },
  {
   "cell_type": "code",
   "execution_count": 75,
   "metadata": {},
   "outputs": [],
   "source": [
    "#4-What is the cost function of Logistic Regression\n",
    "\n",
    "#The cost function of Logistic Regression is the Log Loss (Binary Cross-Entropy)\n",
    "\n",
    "#It measures how well the model's predicted probabilities (\n",
    "\n",
    "#It measures how well the model's predicted probabilities (yi hat) match the actual labels (yi) penalizing incorrect predictions more.\n",
    "\n"
   ]
  },
  {
   "cell_type": "code",
   "execution_count": 76,
   "metadata": {},
   "outputs": [],
   "source": [
    "#5-What is Regularization in Logistic Regression? Why is it needed\n",
    "\n",
    "#Regularization in Logistic Regression prevents overfitting by adding a penalty to the cost function,\n",
    "\n",
    "# usually L1 (Lasso) or L2 (Ridge) regularization.\n",
    "\n",
    "# It helps keep the model simple by reducing unnecessary complexity and controlling large coefficient values."
   ]
  },
  {
   "cell_type": "code",
   "execution_count": 77,
   "metadata": {},
   "outputs": [],
   "source": [
    "#6- Explain the difference between Lasso, Ridge, and Elastic Net regression.\n",
    "\n",
    "#Lasso Regression (L1): Shrinks some coefficients to zero, performing feature selection.\n",
    "\n",
    "#Ridge Regression (L2): Shrinks coefficients toward zero but does not eliminate them.\n",
    "\n",
    "#Elastic Net: Combines L1 and L2, balancing feature selection and shrinkage."
   ]
  },
  {
   "cell_type": "code",
   "execution_count": 78,
   "metadata": {},
   "outputs": [],
   "source": [
    "#7-When should we use Elastic Net instead of Lasso or Ridge.\n",
    "\n",
    "#Use Elastic Net when you have highly correlated features because it combines Lasso’s feature selection and Ridge’s coefficient shrinkage,\n",
    " \n",
    "# preventing Lasso’s tendency to select only one feature from a group of correlated features."
   ]
  },
  {
   "cell_type": "code",
   "execution_count": 79,
   "metadata": {},
   "outputs": [],
   "source": [
    "#8-What is the impact of the regularization parameter (λ) in Logistic Regression\n",
    "\n",
    "#The regularization parameter (λ) controls the strength of penalty in Logistic Regression:\n",
    "\n",
    "#Higher λ → More regularization, smaller coefficients, prevents overfitting.\n",
    "\n",
    "#Lower λ → Less regularization, larger coefficients, may lead to overfitting."
   ]
  },
  {
   "cell_type": "code",
   "execution_count": 80,
   "metadata": {},
   "outputs": [],
   "source": [
    "#9-What are the key assumptions of Logistic Regression.\n",
    "\n",
    "#Linear relationship: The independent variables should have a linear relationship with the log-odds of the dependent variable.\n",
    "\n",
    "#Independent observations: Data points should be independent of each other .\n",
    "\n",
    "#No multicollinearity: Independent variables should not be highly correlated with each other.\n",
    "\n",
    "#Large sample size: Works best with enough data"
   ]
  },
  {
   "cell_type": "code",
   "execution_count": 81,
   "metadata": {},
   "outputs": [],
   "source": [
    "#10-What are some alternatives to Logistic Regression for classification tasks.\n",
    "\n",
    "#Some alternatives to Logistic Regression for classification are:\n",
    "\n",
    "#Decision Trees – Simple, rule-based model for non-linear patterns.\n",
    "\n",
    "#Random Forest – Ensemble of trees for better accuracy.\n",
    "\n",
    "#Support Vector Machine (SVM) – Works well for high-dimensional data.\n",
    "\n",
    "#Naïve Bayes – Good for text classification and probabilistic predictions.\n",
    "\n",
    "#Neural Networks – Powerful for complex and large datasets."
   ]
  },
  {
   "cell_type": "code",
   "execution_count": 82,
   "metadata": {},
   "outputs": [],
   "source": [
    "#11- What are Classification Evaluation Metrics.\n",
    "\n",
    "#Classification Evaluation Metrics measure a model’s performance:\n",
    "\n",
    "#Accuracy – Overall correct predictions.\n",
    "\n",
    "#Precision – Correct positive predictions out of total predicted positives.\n",
    "\n",
    "#Recall (Sensitivity) – Correct positive predictions out of actual positives.\n",
    "\n",
    "#F1-Score – Balance between Precision and Recall.\n",
    "\n",
    "#ROC-AUC – Measures how well the model separates classes."
   ]
  },
  {
   "cell_type": "code",
   "execution_count": 83,
   "metadata": {},
   "outputs": [],
   "source": [
    "#12-How does class imbalance affect Logistic Regression.\n",
    "\n",
    "#Class imbalance makes Logistic Regression biased towards the majority class,\n",
    "\n",
    "# leading to poor prediction for the minority class. \n",
    "\n",
    "# This can be fixed using resampling techniques (oversampling/undersampling) or adjusting class weights."
   ]
  },
  {
   "cell_type": "code",
   "execution_count": 84,
   "metadata": {},
   "outputs": [],
   "source": [
    "#13-What is Hyperparameter Tuning in Logistic Regression\n",
    "\n",
    "# Hyperparameter tuning in Logistic Regression means optimizing parameters like regularization strength (λ) to improve model performance.\n",
    "\n",
    "# This is done using techniques like Grid Search or Random Search with cross-validation."
   ]
  },
  {
   "cell_type": "code",
   "execution_count": 85,
   "metadata": {},
   "outputs": [],
   "source": [
    "#14-What are different solvers in Logistic Regression? Which one should be used\n",
    "\n",
    "#Different solvers in Logistic Regression:\n",
    "\n",
    "#liblinear – Good for small datasets, supports L1 & L2 regularization.\n",
    "\n",
    "#saga – Best for large datasets, supports L1, L2, and Elastic Net.\n",
    "\n",
    "#lbfgs & newton-cg – Work well for multiclass problems, support L2.\n",
    "\n",
    "#sag – Efficient for large datasets, supports L2.\n",
    "\n",
    "#Use liblinear for small data, saga for large/regularized models, and lbfgs/newton-cg for multiclass."
   ]
  },
  {
   "cell_type": "code",
   "execution_count": 86,
   "metadata": {},
   "outputs": [],
   "source": [
    "#15- How is Logistic Regression extended for multiclass classification\n",
    "\n",
    "#Logistic Regression is extended for multiclass classification using:\n",
    "\n",
    "#One-vs-Rest (OvR) – Trains one classifier per class against all other classes.\n",
    "\n",
    "#Softmax (Multinomial) – Uses the softmax function to assign probabilities to multiple classes at once.\n",
    "\n",
    "#Use OvR for simplicity and Softmax for better performance on balanced data.\n"
   ]
  },
  {
   "cell_type": "code",
   "execution_count": 87,
   "metadata": {},
   "outputs": [],
   "source": [
    "#16-What are the advantages and disadvantages of Logistic Regression.\n",
    "\n",
    "#Advantages:\n",
    "\n",
    "#Simple & interpretable – Easy to understand and implement.\n",
    "#Works well with small data – Effective when features are independent.\n",
    "\n",
    "#Disadvantages:\n",
    "\n",
    "#Struggles with non-linearity – Doesn't capture complex patterns.\n",
    "#Sensitive to outliers & multicollinearity – Can affect predictions."
   ]
  },
  {
   "cell_type": "code",
   "execution_count": 88,
   "metadata": {},
   "outputs": [],
   "source": [
    "#17- What are some use cases of Logistic Regression\n",
    "\n",
    "#Use cases of Logistic Regression:\n",
    "\n",
    "#Medical Diagnosis – Predict diseases (e.g. cancer detection).\n",
    "\n",
    "#Spam Detection – Classify emails as spam or not spam.\n",
    "\n",
    "#Customer Churn Prediction – Identify customers likely to leave a service.\n",
    "\n",
    "#Fraud Detection – Detect fraudulent transactions in banking.\n",
    "\n",
    "#Credit Scoring – Assess loan approval risk"
   ]
  },
  {
   "cell_type": "code",
   "execution_count": 89,
   "metadata": {},
   "outputs": [],
   "source": [
    "#18-What is the difference between Softmax Regression and Logistic Regression.\n",
    "\n",
    "#Logistic Regression is used for binary classification (two classes) by applying the sigmoid function.\n",
    "\n",
    "#Softmax Regression is used for multiclass classification by applying the softmax function to assign probabilities across multiple classes."
   ]
  },
  {
   "cell_type": "code",
   "execution_count": 90,
   "metadata": {},
   "outputs": [],
   "source": [
    "#19-How do we choose between One-vs-Rest (OvR) and Softmax for multiclass classification\n",
    "\n",
    "#Choose One-vs-Rest (OvR) when you have fewer classes or need interpretability, as it trains separate models for each class.\n",
    "\n",
    "#Choose Softmax (Multinomial) when you have balanced multiclass data, as it considers all classes at once for better performance."
   ]
  },
  {
   "cell_type": "code",
   "execution_count": 91,
   "metadata": {},
   "outputs": [],
   "source": [
    "#20- How do we interpret coefficients in Logistic Regression\n",
    "\n",
    "#In Logistic Regression, each coefficient (𝛽) represents the log-odds change for a one-unit increase in the feature.\n",
    "\n",
    "#Exponentiating (𝑒^𝛽)gives the odds ratio, showing how the probability of the outcome changes with that feature."
   ]
  },
  {
   "cell_type": "code",
   "execution_count": 92,
   "metadata": {},
   "outputs": [],
   "source": [
    "#PRACTICAL\n",
    "\n",
    "#1- Write a Python program that loads a dataset, splits it into training and testing sets, applies Logistic\n",
    "#Regression, and prints the model accuracy\n",
    "\n",
    "\n",
    "\n",
    "\n",
    "import pandas as pd\n",
    "import numpy as np\n",
    "from sklearn.model_selection import train_test_split\n",
    "from sklearn.preprocessing import StandardScaler\n",
    "from sklearn.linear_model import LogisticRegression\n",
    "from sklearn.metrics import accuracy_score\n",
    "\n",
    "# Load dataset (Example: Using sklearn's breast cancer dataset)\n",
    "from sklearn.datasets import load_breast_cancer\n",
    "data = load_breast_cancer()\n",
    "df = pd.DataFrame(data.data, columns=data.feature_names)\n",
    "y = data.target  # Target variable\n",
    "\n",
    "\n"
   ]
  },
  {
   "cell_type": "code",
   "execution_count": 93,
   "metadata": {},
   "outputs": [
    {
     "name": "stdout",
     "output_type": "stream",
     "text": [
      "Model Accuracy: 0.97\n"
     ]
    }
   ],
   "source": [
    "# Split data into training and testing sets\n",
    "X_train, X_test, y_train, y_test = train_test_split(df, y, test_size=0.2, random_state=1)\n",
    "\n",
    "# Standardize features for better performance\n",
    "scaler = StandardScaler()\n",
    "X_train = scaler.fit_transform(X_train)\n",
    "X_test = scaler.transform(X_test)\n",
    "\n",
    "# Apply Logistic Regression\n",
    "model = LogisticRegression()\n",
    "model.fit(X_train, y_train)\n",
    "\n",
    "# Predict on test set\n",
    "y_pred = model.predict(X_test)\n",
    "\n",
    "# Print model accuracy\n",
    "accuracy = accuracy_score(y_test, y_pred)\n",
    "print(f\"Model Accuracy: {accuracy:.2f}\")"
   ]
  },
  {
   "cell_type": "code",
   "execution_count": 94,
   "metadata": {},
   "outputs": [],
   "source": [
    "#2-Write a Python program to apply L1 regularization (Lasso) on a dataset using LogisticRegression(penalty='l1')\n",
    "#and print the model accuracy.\n",
    "\n",
    "import pandas as pd\n",
    "import numpy as np\n",
    "from sklearn.model_selection import train_test_split\n",
    "from sklearn.preprocessing import StandardScaler\n",
    "from sklearn.linear_model import LogisticRegression\n",
    "from sklearn.metrics import accuracy_score\n",
    "\n",
    "# Load dataset (Example: Using sklearn's breast cancer dataset)\n",
    "from sklearn.datasets import load_breast_cancer\n",
    "data = load_breast_cancer()\n",
    "df = pd.DataFrame(data.data, columns=data.feature_names)\n",
    "y = data.target  # Target variable\n",
    "\n"
   ]
  },
  {
   "cell_type": "code",
   "execution_count": 95,
   "metadata": {},
   "outputs": [
    {
     "name": "stdout",
     "output_type": "stream",
     "text": [
      "Model Accuracy with L1 Regularization: 0.97\n"
     ]
    }
   ],
   "source": [
    "# Split data into training and testing sets\n",
    "X_train, X_test, y_train, y_test = train_test_split(df, y, test_size=0.2, random_state=1)\n",
    "\n",
    "# Standardize features for better performance\n",
    "scaler = StandardScaler()\n",
    "X_train = scaler.fit_transform(X_train)\n",
    "X_test = scaler.transform(X_test)\n",
    "\n",
    "# Apply Logistic Regression with L1 Regularization (Lasso)\n",
    "model = LogisticRegression(penalty='l1', solver='liblinear')\n",
    "model.fit(X_train, y_train)\n",
    "\n",
    "# Predict on test set\n",
    "y_pred = model.predict(X_test)\n",
    "\n",
    "# Print model accuracy\n",
    "accuracy = accuracy_score(y_test, y_pred)\n",
    "print(f\"Model Accuracy with L1 Regularization: {accuracy:.2f}\")\n"
   ]
  },
  {
   "cell_type": "code",
   "execution_count": 96,
   "metadata": {},
   "outputs": [],
   "source": [
    "#3-Write a Python program to train Logistic Regression with L2 regularization (Ridge) using\n",
    "#LogisticRegression(penalty='l2'). Print model accuracy and coefficients\n",
    "\n",
    "import pandas as pd\n",
    "import numpy as np\n",
    "from sklearn.model_selection import train_test_split\n",
    "from sklearn.preprocessing import StandardScaler\n",
    "from sklearn.linear_model import LogisticRegression\n",
    "from sklearn.metrics import accuracy_score\n",
    "\n",
    "# Load dataset (Example: Using sklearn's breast cancer dataset)\n",
    "from sklearn.datasets import load_breast_cancer\n",
    "data = load_breast_cancer()\n",
    "df = pd.DataFrame(data.data, columns=data.feature_names)\n",
    "y = data.target  # Target variable\n",
    "\n"
   ]
  },
  {
   "cell_type": "code",
   "execution_count": 97,
   "metadata": {},
   "outputs": [
    {
     "name": "stdout",
     "output_type": "stream",
     "text": [
      "Model Accuracy with L2 Regularization: 0.97\n",
      "Model Coefficients:\n",
      "[[-0.40865789 -0.3880742  -0.37216057 -0.47593186 -0.05621001  0.55288093\n",
      "  -0.81832262 -1.13051016  0.23127935  0.05175125 -1.28311708  0.19201101\n",
      "  -0.6192275  -0.94486144 -0.32131092  0.7005157   0.18800666 -0.28520703\n",
      "   0.4816535   0.59252458 -0.88104186 -1.33565057 -0.59192813 -0.88294937\n",
      "  -0.55048787  0.01340672 -0.94215042 -0.76690406 -1.19608675 -0.16261776]]\n"
     ]
    }
   ],
   "source": [
    "# Split data into training and testing sets\n",
    "X_train, X_test, y_train, y_test = train_test_split(df, y, test_size=0.2, random_state=42)\n",
    "\n",
    "# Standardize features for better performance\n",
    "scaler = StandardScaler()\n",
    "X_train = scaler.fit_transform(X_train)\n",
    "X_test = scaler.transform(X_test)\n",
    "\n",
    "# Apply Logistic Regression with L2 Regularization (Ridge)\n",
    "model = LogisticRegression(penalty='l2', solver='liblinear')\n",
    "model.fit(X_train, y_train)\n",
    "\n",
    "# Predict on test set\n",
    "y_pred = model.predict(X_test)\n",
    "\n",
    "# Print model accuracy\n",
    "accuracy = accuracy_score(y_test, y_pred)\n",
    "print(f\"Model Accuracy with L2 Regularization: {accuracy:.2f}\")\n",
    "\n",
    "# Print model coefficients\n",
    "print(\"Model Coefficients:\")\n",
    "print(model.coef_)"
   ]
  },
  {
   "cell_type": "code",
   "execution_count": 98,
   "metadata": {},
   "outputs": [],
   "source": [
    "#4-Write a Python program to train Logistic Regression with Elastic Net Regularization (penalty='elasticnet')\n",
    "\n",
    "import pandas as pd\n",
    "import numpy as np\n",
    "from sklearn.model_selection import train_test_split\n",
    "from sklearn.preprocessing import StandardScaler\n",
    "from sklearn.linear_model import LogisticRegression\n",
    "from sklearn.metrics import accuracy_score\n",
    "\n",
    "# Load dataset (Example: Using sklearn's breast cancer dataset)\n",
    "from sklearn.datasets import load_breast_cancer\n",
    "data = load_breast_cancer()\n",
    "df = pd.DataFrame(data.data, columns=data.feature_names)\n",
    "y = data.target  # Target variable\n",
    "\n"
   ]
  },
  {
   "cell_type": "code",
   "execution_count": 99,
   "metadata": {},
   "outputs": [
    {
     "name": "stdout",
     "output_type": "stream",
     "text": [
      "Model Accuracy with Elastic Net Regularization: 0.97\n",
      "Model Coefficients:\n",
      "[[-0.47870941 -0.46480388 -0.45870614 -0.48447457 -0.04528951  0.03011912\n",
      "  -0.63811208 -0.73947227  0.03603265  0.26772967 -0.83964327  0.00376501\n",
      "  -0.50636174 -0.59949745 -0.11702123  0.63268622  0.         -0.19127722\n",
      "   0.0833131   0.43504722 -1.01076421 -0.91351622 -0.89281791 -0.91268183\n",
      "  -0.72484478  0.         -0.75259052 -0.94015314 -0.63986306 -0.1425954 ]]\n"
     ]
    },
    {
     "name": "stderr",
     "output_type": "stream",
     "text": [
      "c:\\Users\\Dell\\AppData\\Local\\Programs\\Python\\Python311\\Lib\\site-packages\\sklearn\\linear_model\\_sag.py:350: ConvergenceWarning: The max_iter was reached which means the coef_ did not converge\n",
      "  warnings.warn(\n"
     ]
    }
   ],
   "source": [
    "# Split data into training and testing sets\n",
    "X_train, X_test, y_train, y_test = train_test_split(df, y, test_size=0.2, random_state=1)\n",
    "\n",
    "# Standardize features for better performance\n",
    "scaler = StandardScaler()\n",
    "X_train = scaler.fit_transform(X_train)\n",
    "X_test = scaler.transform(X_test)\n",
    "\n",
    "# Apply Logistic Regression with Elastic Net Regularization\n",
    "model = LogisticRegression(penalty='elasticnet', solver='saga', l1_ratio=0.5)\n",
    "model.fit(X_train, y_train)\n",
    "\n",
    "# Predict on test set\n",
    "y_pred = model.predict(X_test)\n",
    "\n",
    "# Print model accuracy\n",
    "accuracy = accuracy_score(y_test, y_pred)\n",
    "print(f\"Model Accuracy with Elastic Net Regularization: {accuracy:.2f}\")\n",
    "\n",
    "# Print model coefficients\n",
    "print(\"Model Coefficients:\")\n",
    "print(model.coef_)\n"
   ]
  },
  {
   "cell_type": "code",
   "execution_count": 100,
   "metadata": {},
   "outputs": [],
   "source": [
    "#5-Write a Python program to train a Logistic Regression model for multiclass classification using\n",
    "#multi_class='ovr'\n",
    "\n",
    "import pandas as pd\n",
    "import numpy as np\n",
    "from sklearn.model_selection import train_test_split\n",
    "from sklearn.preprocessing import StandardScaler\n",
    "from sklearn.linear_model import LogisticRegression\n",
    "from sklearn.metrics import accuracy_score\n",
    "from sklearn.datasets import load_digits\n",
    "\n",
    "# Load dataset (Example: Using sklearn's digits dataset for multiclass classification)\n",
    "data = load_digits()\n",
    "df = pd.DataFrame(data.data, columns=[f'pixel_{i}' for i in range(data.data.shape[1])])\n",
    "y = data.target  # Target variable\n"
   ]
  },
  {
   "cell_type": "code",
   "execution_count": 101,
   "metadata": {},
   "outputs": [
    {
     "name": "stdout",
     "output_type": "stream",
     "text": [
      "Model Accuracy with One-vs-Rest (OvR): 0.97\n",
      "Model Coefficients:\n",
      "[[ 0.00000000e+00 -1.48571472e-01  2.92488879e-02  1.69307326e-01\n",
      "  -5.07291469e-02 -6.54852877e-01 -2.33681411e-01  1.33584498e-02\n",
      "  -2.38571943e-02 -1.98089613e-01  1.18657147e-01  4.75237395e-01\n",
      "   5.02119511e-01  8.39775043e-01  2.62377161e-03 -6.79832863e-02\n",
      "  -3.88637264e-02  2.04561589e-01  7.71230032e-02 -1.24394958e-01\n",
      "  -8.08535693e-01  7.38215524e-01  1.86854624e-02 -8.38755108e-02\n",
      "  -2.88374589e-02  3.41809719e-01  6.37668151e-02 -4.22670519e-01\n",
      "  -1.44224002e+00 -4.05322553e-02  1.94297552e-01 -1.07339282e-02\n",
      "   0.00000000e+00  4.41730316e-01  4.81733235e-01 -7.11613578e-01\n",
      "  -1.15902279e+00 -2.49820396e-01  2.47114703e-01  0.00000000e+00\n",
      "  -4.95694122e-02 -1.18555581e-01  8.89943367e-01 -7.00294360e-01\n",
      "  -1.12660402e+00  1.10689642e-02  1.17449925e-01  5.19425535e-02\n",
      "  -3.73708515e-02 -1.88467160e-01  4.19986959e-01 -3.40171516e-02\n",
      "   4.38165662e-01  1.25061321e-01 -3.82709648e-01 -4.07189646e-01\n",
      "   3.12964778e-02 -3.54593290e-01 -3.00406795e-01  3.63274109e-01\n",
      "  -2.63817912e-01 -4.15913239e-02 -1.11381602e-01 -1.31375491e-01]\n",
      " [ 0.00000000e+00  1.92605898e-01  2.24264357e-01  4.50335238e-01\n",
      "  -1.50654356e+00  1.56319919e+00 -1.45817819e-01 -2.04808997e-01\n",
      "   3.30615389e-03 -1.46660334e+00 -1.46543979e+00 -4.46220500e-01\n",
      "   5.05118563e-01  6.33349394e-01 -9.24982757e-01 -1.12274171e-01\n",
      "   2.75766075e-01  8.98104097e-01  3.68850233e-01  2.15769435e+00\n",
      "   1.36573220e+00 -9.15804745e-01  4.73600256e-01 -1.73366579e-01\n",
      "  -1.51175191e-01 -1.47550698e-01  2.40592017e-01  5.96835743e-01\n",
      "   3.05746110e-01  6.19903369e-01 -5.31220252e-01  5.29435034e-02\n",
      "   0.00000000e+00 -3.79518849e-01  2.04087072e-01 -5.09438231e-01\n",
      "   4.97917578e-01 -2.10791061e-01 -7.64735709e-01  0.00000000e+00\n",
      "   5.12735409e-02 -8.34973340e-01 -5.25450660e-02  5.49828611e-01\n",
      "   1.74443042e-03 -6.18299496e-01 -5.52634643e-01 -1.99268629e-01\n",
      "   4.61622792e-02 -4.02593263e-01 -4.57210133e-01  4.03082719e-01\n",
      "   4.11446601e-01 -1.42170607e-01 -8.17907871e-01  3.72952377e-01\n",
      "  -1.41993793e-02 -3.25928587e-01 -4.36672516e-01  6.35463861e-02\n",
      "   3.01699873e-01  5.74033393e-01  2.37980172e-02  1.37544886e-01]\n",
      " [ 0.00000000e+00 -2.08096183e-01 -5.39198116e-03  1.04336864e-01\n",
      "   9.25079587e-02 -4.59494342e-01 -2.77096551e-01 -4.14237096e-02\n",
      "  -9.14454092e-02  4.63281939e-01  4.96180416e-01 -6.67079801e-02\n",
      "   5.94021442e-01 -1.95714810e-01 -5.01401076e-04  9.24009318e-02\n",
      "   2.72755452e-02 -6.97014763e-02  2.06699034e-01 -5.20355120e-01\n",
      "   4.04325349e-01  9.49148889e-02  2.25499277e-01  2.09006828e-01\n",
      "  -9.11967648e-03 -4.38268626e-01 -1.19243493e+00 -1.36810976e+00\n",
      "  -3.87195283e-01  4.30749911e-01 -9.45892036e-02  1.72956757e-02\n",
      "   0.00000000e+00 -4.41967350e-01 -8.83931392e-01 -2.36209506e-01\n",
      "  -2.44484831e-01 -6.17381771e-01 -9.50903052e-01  0.00000000e+00\n",
      "   8.82956099e-04  3.18875361e-01  3.13084421e-01  1.22763798e+00\n",
      "  -9.55406323e-01 -1.23143764e+00 -7.43393957e-01  1.89099944e-01\n",
      "  -1.06890481e-02  3.50429272e-01  9.56165282e-02  1.23227609e+00\n",
      "   7.16662171e-01  8.96344571e-01  5.81418627e-01  9.72625853e-03\n",
      "   8.54232497e-02  2.53020139e-01  1.09864049e-01  1.37449113e-01\n",
      "   4.16510116e-02  6.61220406e-01  8.32363780e-01  2.42375765e-02]\n",
      " [ 0.00000000e+00  1.28296887e-01 -9.81302784e-01  9.80982080e-02\n",
      "   7.83044295e-01 -2.45688912e-01 -3.29645357e-01 -1.18435922e-01\n",
      "   7.28802230e-02 -2.38456698e-01  4.16091601e-01  3.32471751e-02\n",
      "   3.97505373e-01  8.12111978e-01  1.01993191e+00 -1.22763022e-02\n",
      "  -9.35617163e-02  8.34466709e-02 -1.35142689e+00 -9.66181514e-01\n",
      "   4.44521569e-01 -4.32555457e-01  2.21140416e-02  6.17687900e-02\n",
      "   8.64313491e-02 -4.56042263e-01 -1.38279063e+00 -2.34904173e-01\n",
      "   4.45234759e-01 -1.40761166e+00 -1.59653161e+00  6.26774631e-02\n",
      "   0.00000000e+00 -3.60715010e-01 -6.34129936e-01  6.37659529e-02\n",
      "   2.04156176e-01  2.49695899e-01 -1.07551975e-01  0.00000000e+00\n",
      "   1.11110658e-01  1.78651732e-01 -9.75865621e-01 -2.06567714e+00\n",
      "   4.41331697e-01  1.07667324e+00  9.22343693e-01 -3.14446718e-02\n",
      "   5.05895466e-02 -7.41644202e-02  5.80130377e-02 -6.64224334e-01\n",
      "   3.38676471e-01 -5.68210442e-02  6.14992679e-01 -3.05862833e-01\n",
      "   3.86681967e-02 -2.96320124e-02  5.65771172e-01  2.65962068e-01\n",
      "   8.92989431e-02  6.38757482e-02 -9.00871780e-02 -3.50647450e-01]\n",
      " [ 0.00000000e+00 -2.93241247e-02 -4.93278828e-01 -1.06611911e+00\n",
      "  -5.75978964e-01 -1.09478032e+00 -7.68628280e-01  7.13383093e-02\n",
      "   8.53492897e-03  1.88140816e-01 -2.96860883e-01 -5.80991832e-01\n",
      "  -8.83542213e-01 -6.23530505e-01 -5.58254883e-01  2.45186809e-02\n",
      "  -1.96358996e-01  5.22870350e-02  8.23443103e-01  3.69148487e-01\n",
      "  -4.12804665e-02  5.97558495e-01 -2.59972248e-03  2.61933103e-01\n",
      "   1.90697147e-01 -1.00063328e-01  8.51971573e-01  1.56592987e-02\n",
      "  -2.56983834e-01  1.31681915e-01  8.94756267e-01  9.21970973e-02\n",
      "   0.00000000e+00  3.84192172e-01  4.82648896e-02  2.13127914e-01\n",
      "   4.71255737e-01  3.42595066e-01  4.76590494e-01  0.00000000e+00\n",
      "   1.42612348e-01  8.42111366e-01 -3.63799474e-01  1.09490523e+00\n",
      "   5.69261772e-01  3.10594900e-01  4.91010966e-03 -3.18101356e-02\n",
      "   4.51899817e-02  6.52916591e-01 -7.61129983e-01  1.47916480e-02\n",
      "   1.31595725e-01 -9.50145733e-01 -8.15214127e-01  9.41773488e-03\n",
      "  -9.05648936e-02 -3.33931523e-01 -2.80763875e-01 -5.48347565e-01\n",
      "  -4.17731449e-01 -8.20466544e-01 -1.57339198e-01  8.42314543e-02]\n",
      " [ 0.00000000e+00  1.36911938e-01  1.38914885e+00 -6.14665851e-01\n",
      "   7.41243607e-02  1.01033757e+00  9.13992068e-01 -3.83550604e-01\n",
      "   1.15405241e-01 -3.02646105e-01  6.08290073e-01  3.88893612e-01\n",
      "   1.38548917e-01 -3.07036563e-01 -3.08610392e-02 -1.72582543e-01\n",
      "  -4.08432827e-02  1.66689410e-01  7.07699024e-01 -1.17505970e-01\n",
      "  -1.02814488e+00 -1.80281467e+00 -1.18919070e+00  1.11909050e-01\n",
      "  -1.36744202e-01  2.35083340e-01  1.03026821e+00 -5.46742827e-03\n",
      "   4.10790237e-01 -1.46010507e-02 -9.76019796e-01  4.09164831e-02\n",
      "   0.00000000e+00 -3.57432323e-01  5.77284078e-01 -4.56579308e-01\n",
      "  -5.39022146e-01  4.77873647e-02  2.82866631e-01  0.00000000e+00\n",
      "   3.26948754e-02 -2.90692757e-01 -9.49041084e-01 -6.28576538e-01\n",
      "  -1.90830830e-01  1.10131182e-01  8.76262141e-02 -8.37562262e-02\n",
      "   5.33202862e-02  5.37576743e-02 -4.44561385e-01 -1.11339837e-01\n",
      "  -1.31666499e-02 -9.55632941e-02 -5.99356390e-01  4.47461329e-02\n",
      "   2.40915265e-02  2.72416490e-02  5.19313166e-01  6.94887071e-01\n",
      "  -2.05487437e-02 -2.23492505e-02 -4.10183361e-01 -4.48477177e-01]\n",
      " [ 0.00000000e+00 -9.17010954e-02 -5.78712280e-01 -7.57337512e-02\n",
      "  -1.59473908e-01 -3.09248420e-01 -1.64282623e-01  1.68449238e-01\n",
      "   7.68726677e-02 -5.19038402e-01 -1.65413802e-01 -1.42562801e-01\n",
      "  -6.49566270e-01 -2.98152653e-01  2.76256149e-01  7.62486369e-02\n",
      "  -1.42826801e-03 -2.86270225e-01  2.25387232e-01  1.75516545e-01\n",
      "  -8.04015857e-01 -1.73364425e+00 -2.72888116e-01  1.01766588e-02\n",
      "  -2.83651443e-02  1.97482841e-01  1.01380788e-01  2.63711523e-01\n",
      "  -2.10315187e-01 -1.49837344e-01 -9.24095892e-01  4.72952752e-02\n",
      "   0.00000000e+00  4.56741749e-01  6.80607229e-01  6.07527961e-01\n",
      "  -3.15290043e-02  1.04615480e-01 -4.77785095e-02  0.00000000e+00\n",
      "  -7.00933290e-02 -7.09698493e-01  1.08873642e+00  2.74350723e-02\n",
      "   2.18671996e-01  1.13798670e-01  7.15769045e-01  3.09739159e-01\n",
      "   3.73709695e-02 -3.55899253e-01  9.10275133e-01  6.97234923e-01\n",
      "  -4.40866820e-01  8.44096286e-01  4.01351141e-01 -4.47493696e-01\n",
      "   4.95033670e-02 -7.89786886e-02 -4.22081015e-01 -4.03187815e-01\n",
      "  -9.40294914e-02  6.44406686e-01 -4.27822682e-02 -2.04564464e-01]\n",
      " [ 0.00000000e+00  1.23749072e-01  6.13691625e-02  4.66814011e-01\n",
      "   2.89485306e-01  4.29618629e-01  4.91600692e-01  1.64551680e-01\n",
      "   4.98339242e-02 -5.56062233e-02  4.53462534e-01 -7.34530299e-02\n",
      "   1.20812819e+00  1.68784535e-01 -4.65715797e-03  9.11341783e-02\n",
      "   3.43074397e-02 -3.97597379e-01 -8.42240447e-01 -7.27604705e-01\n",
      "  -5.02939667e-01  9.55153161e-03  6.03198197e-01 -2.13903701e-01\n",
      "   5.73443564e-02 -1.10099866e+00 -4.75474526e-01 -6.90390672e-01\n",
      "  -2.62791460e-01  2.89300281e-01  2.58211093e-01  4.16574411e-02\n",
      "   0.00000000e+00  3.70215933e-01  3.74636503e-01  3.06050497e-01\n",
      "   4.71451007e-01  6.79263056e-01  7.95608183e-01  0.00000000e+00\n",
      "   2.09422180e-03 -5.47963333e-01  6.99818087e-02  2.84950059e-01\n",
      "   4.12644691e-01 -2.36786132e-01 -2.42480191e-02 -2.06650428e-02\n",
      "   4.28048397e-02 -2.70061873e-01  1.80630213e-01  2.93197902e-01\n",
      "  -1.54461560e+00 -1.24760675e+00 -1.66551824e-01  7.85365270e-02\n",
      "   3.59342507e-02 -4.25718219e-01 -5.31901671e-02 -4.43461647e-01\n",
      "  -9.91549183e-01 -7.94413650e-01 -3.31338905e-01  9.02162545e-02]\n",
      " [ 0.00000000e+00 -1.18314205e-01  3.37045589e-01 -8.72458997e-01\n",
      "   2.24601897e-01 -2.05996514e-02 -1.39763461e+00 -6.23419090e-02\n",
      "   5.17823193e-02 -1.93619663e-01  7.19637468e-01 -3.90631668e-02\n",
      "  -6.91557763e-01  6.03738785e-01  5.01240153e-01 -1.27990777e-01\n",
      "  -9.57081715e-02  4.72699988e-01  8.92985727e-01  2.65105647e-01\n",
      "   4.34635032e-02  7.16533664e-01  2.75503186e-01 -2.15975191e-01\n",
      "  -1.00738994e-01 -1.48461200e-01 -2.67331216e-01  8.80901668e-01\n",
      "  -5.25959576e-02  5.36011886e-02 -2.13940447e-01  1.26850867e-02\n",
      "   0.00000000e+00 -1.01181664e+00 -4.18662590e-01  1.61184869e+00\n",
      "   1.26425752e-01 -4.33996840e-01 -1.68647942e+00  0.00000000e+00\n",
      "   2.34279415e-02  2.30470656e-01  1.04572309e+00  3.11628627e-01\n",
      "   2.06818240e-01  5.32707539e-01 -3.62366168e-01 -1.76140924e-01\n",
      "   1.70750113e-02 -1.90064767e-01  7.48688847e-01 -9.04636929e-01\n",
      "  -9.64489612e-01  2.09166265e-01  6.28748693e-02  2.73748135e-02\n",
      "  -4.54746182e-02 -2.64368203e-02 -1.21827189e+00  1.76767717e-01\n",
      "   5.09437984e-01 -7.37055624e-01 -4.20690076e-01 -7.58163440e-02]\n",
      " [ 0.00000000e+00 -4.80785859e-01 -3.39125660e-01  5.77323198e-01\n",
      "   2.20163585e-01 -6.61231588e-01 -1.14142420e-01 -6.11778769e-02\n",
      "  -1.55622194e-01  4.05007189e-01  6.17065351e-01  8.41908267e-02\n",
      "   3.02554261e-01  5.60230113e-02  4.22899804e-01  6.55549515e-02\n",
      "  -1.04074764e-01  1.52728664e-01  9.00451084e-01  6.64928130e-01\n",
      "   1.53379515e-01  2.22993955e+00  3.93648057e-02 -5.26587155e-01\n",
      "  -3.21043527e-02 -1.27588296e-01  8.35497592e-01  8.26279628e-01\n",
      "   1.05742158e-01  1.20204159e+00 -4.77172076e-02 -6.64896939e-03\n",
      "   0.00000000e+00 -1.12444069e+00 -4.30308123e-01  1.41974840e+00\n",
      "  -1.21468124e+00 -2.35344939e-01 -1.59955240e-01  0.00000000e+00\n",
      "   1.17840052e-01 -1.37030360e-02 -1.96434746e+00 -2.78602333e+00\n",
      "  -1.10970778e+00 -5.49588104e-01 -2.71815933e-01  5.45566992e-02\n",
      "   6.17851604e-02  2.36869330e-01 -4.23660980e-01 -1.04827387e-01\n",
      "  -4.51263915e-01 -8.21312529e-01  2.97060215e-02  5.97262587e-01\n",
      "   2.68223015e-02 -3.27648997e-01 -1.42536721e-01 -3.10358435e-01\n",
      "   4.17060574e-01 -2.35392270e-01 -1.87489904e-01 -2.79034060e-01]]\n"
     ]
    }
   ],
   "source": [
    "# Split data into training and testing sets\n",
    "X_train, X_test, y_train, y_test = train_test_split(df, y, test_size=0.2, random_state=1)\n",
    "\n",
    "# Standardize features for better performance\n",
    "scaler = StandardScaler()\n",
    "X_train = scaler.fit_transform(X_train)\n",
    "X_test = scaler.transform(X_test)\n",
    "\n",
    "# Apply Logistic Regression for Multiclass Classification using One-vs-Rest (OvR)\n",
    "model = LogisticRegression(multi_class='ovr', solver='saga', max_iter=5000)\n",
    "model.fit(X_train, y_train)\n",
    "\n",
    "# Predict on test set\n",
    "y_pred = model.predict(X_test)\n",
    "\n",
    "# Print model accuracy\n",
    "accuracy = accuracy_score(y_test, y_pred)\n",
    "print(f\"Model Accuracy with One-vs-Rest (OvR): {accuracy:.2f}\")\n",
    "\n",
    "# Print model coefficients\n",
    "print(\"Model Coefficients:\")\n",
    "print(model.coef_)\n",
    "\n"
   ]
  },
  {
   "cell_type": "code",
   "execution_count": 102,
   "metadata": {},
   "outputs": [],
   "source": [
    "#6-Write a Python program to apply GridSearchCV to tune \n",
    "\n",
    "import pandas as pd\n",
    "import numpy as np\n",
    "from sklearn.model_selection import train_test_split, GridSearchCV\n",
    "from sklearn.preprocessing import StandardScaler\n",
    "from sklearn.linear_model import LogisticRegression\n",
    "from sklearn.metrics import accuracy_score\n",
    "from sklearn.datasets import load_digits\n",
    "\n",
    "# Load dataset (Example: Using sklearn's digits dataset for multiclass classification)\n",
    "data = load_digits()\n",
    "df = pd.DataFrame(data.data, columns=[f'pixel_{i}' for i in range(data.data.shape[1])])\n",
    "y = data.target  # Target variable\n",
    "\n"
   ]
  },
  {
   "cell_type": "code",
   "execution_count": 107,
   "metadata": {},
   "outputs": [],
   "source": [
    "# Split data into training and testing sets\n",
    "X_train, X_test, y_train, y_test = train_test_split(df, y, test_size=0.2, random_state=1)\n",
    "\n",
    "# Standardize features for better performance\n",
    "scaler = StandardScaler()\n",
    "X_train = scaler.fit_transform(X_train)\n",
    "X_test = scaler.transform(X_test)\n",
    "\n",
    "# Define the model\n",
    "model = LogisticRegression(multi_class='ovr', solver='saga', max_iter=5000)\n",
    "\n",
    "# Define hyperparameter grid\n",
    "param_grid = {\n",
    "    'C': [0.01, 0.1, 1, 10],  # Regularization strength\n",
    "    'penalty': ['l1', 'l2', 'elasticnet'],  # Regularization type\n",
    "    'l1_ratio': [0.1, 0.5, 0.9]  # Only used for elasticnet\n",
    "}\n",
    "\n"
   ]
  },
  {
   "cell_type": "code",
   "execution_count": null,
   "metadata": {},
   "outputs": [],
   "source": [
    "# Get best model and parameters\n",
    "best_model = grid_search.best_estimator_\n",
    "best_params = grid_search.best_params_\n",
    "\n",
    "# Predict on test set\n",
    "y_pred = best_model.predict(X_test)"
   ]
  },
  {
   "cell_type": "code",
   "execution_count": null,
   "metadata": {},
   "outputs": [],
   "source": [
    "# Get best model and parameters\n",
    "best_model = grid_search.best_estimator_\n",
    "best_params = grid_search.best_params_\n",
    "\n",
    "# Predict on test set\n",
    "y_pred = best_model.predict(X_test)"
   ]
  },
  {
   "cell_type": "code",
   "execution_count": 108,
   "metadata": {},
   "outputs": [
    {
     "name": "stdout",
     "output_type": "stream",
     "text": [
      "Best Parameters: {'C': 3.052422429595377, 'penalty': 'l2', 'solver': 'liblinear'}\n",
      "Model Accuracy with GridSearchCV: 0.12\n",
      "Best Model Coefficients:\n",
      "[[-0.29660406 -0.18813922 -0.21387879 -0.38938237  0.02255011  1.20593363\n",
      "  -1.09852242 -1.87141905  0.47901121 -0.27770411 -2.02553915  0.3605753\n",
      "  -0.53442109 -1.46445312 -0.51718017  0.67920856  0.57137422 -0.52074422\n",
      "   0.76016764  0.87852271 -1.19853581 -1.92399714 -0.51229809 -1.23655078\n",
      "  -0.4436754   0.11303927 -1.44711752 -0.87937928 -1.74236221 -0.12138292]]\n"
     ]
    }
   ],
   "source": [
    "# Print best parameters and model accuracy\n",
    "accuracy = accuracy_score(y_test, y_pred)\n",
    "print(f\"Best Parameters: {best_params}\")\n",
    "print(f\"Model Accuracy with GridSearchCV: {accuracy:.2f}\")\n",
    "\n",
    "# Print best model coefficients\n",
    "print(\"Best Model Coefficients:\")\n",
    "print(best_model.coef_)"
   ]
  },
  {
   "cell_type": "code",
   "execution_count": 109,
   "metadata": {},
   "outputs": [],
   "source": [
    "#7-Write a Python program to evaluate Logistic Regression using Stratified K-Fold Cross-Validation. Print the\n",
    "#average accuracy\n",
    "\n",
    "import pandas as pd\n",
    "import numpy as np\n",
    "from sklearn.model_selection import train_test_split, StratifiedKFold, cross_val_score\n",
    "from sklearn.preprocessing import StandardScaler\n",
    "from sklearn.linear_model import LogisticRegression\n",
    "from sklearn.metrics import accuracy_score\n",
    "from sklearn.datasets import load_digits\n",
    "\n",
    "# Load dataset (Example: Using sklearn's digits dataset for multiclass classification)\n",
    "data = load_digits()\n",
    "df = pd.DataFrame(data.data, columns=[f'pixel_{i}' for i in range(data.data.shape[1])])\n",
    "y = data.target  # Target variable\n",
    "\n"
   ]
  },
  {
   "cell_type": "code",
   "execution_count": 110,
   "metadata": {},
   "outputs": [],
   "source": [
    "\n",
    "# Standardize features for better performance\n",
    "scaler = StandardScaler()\n",
    "X = scaler.fit_transform(df)\n",
    "\n",
    "# Define the model\n",
    "model = LogisticRegression(multi_class='ovr', solver='saga', max_iter=5000)\n",
    "\n"
   ]
  },
  {
   "cell_type": "code",
   "execution_count": null,
   "metadata": {},
   "outputs": [],
   "source": [
    "# Apply Stratified K-Fold Cross-Validation\n",
    "kf = StratifiedKFold(n_splits=5, shuffle=True, random_state=42)\n",
    "cv_scores = cross_val_score(model, X, y, cv=kf, scoring='accuracy')\n",
    "\n",
    "# Print average accuracy\n",
    "average_accuracy = np.mean(cv_scores)\n",
    "print(f\"Average Accuracy with Stratified K-Fold Cross-Validation: {average_accuracy:.2f}\")"
   ]
  },
  {
   "cell_type": "code",
   "execution_count": 112,
   "metadata": {},
   "outputs": [],
   "source": [
    "#9-M Write a Python program to apply RandomizedSearchCV for tuning hyperparameters (C, penalty, solver) in\n",
    "#Logistic Regression. Print the best parameters and accuracy\n",
    "\n",
    "import pandas as pd\n",
    "import numpy as np\n",
    "from sklearn.model_selection import train_test_split, RandomizedSearchCV\n",
    "from sklearn.preprocessing import StandardScaler\n",
    "from sklearn.linear_model import LogisticRegression\n",
    "from sklearn.metrics import accuracy_score\n",
    "from sklearn.datasets import load_breast_cancer\n",
    "from scipy.stats import uniform\n",
    "\n",
    "# Load dataset from sklearn (Breast Cancer dataset)\n",
    "data = load_breast_cancer()\n",
    "df = pd.DataFrame(data.data, columns=data.feature_names)\n",
    "y = data.target  # Target variable\n",
    "\n"
   ]
  },
  {
   "cell_type": "code",
   "execution_count": 113,
   "metadata": {},
   "outputs": [],
   "source": [
    "\n",
    "\n",
    "# Split data into training and testing sets\n",
    "X_train, X_test, y_train, y_test = train_test_split(df, y, test_size=0.2, random_state=42)\n",
    "\n",
    "# Standardize features for better performance\n",
    "scaler = StandardScaler()\n",
    "X_train = scaler.fit_transform(X_train)\n",
    "X_test = scaler.transform(X_test)\n",
    "\n",
    "# Define the model\n",
    "model = LogisticRegression(max_iter=5000)\n",
    "\n",
    "# Define hyperparameter grid\n",
    "param_dist = {\n",
    "    'C': uniform(0.01, 10),  # Regularization strength\n",
    "    'penalty': ['l1', 'l2', 'elasticnet', 'none'],  # Regularization type\n",
    "    'solver': ['liblinear', 'saga']  # Compatible solvers\n",
    "}\n",
    "\n",
    "\n"
   ]
  },
  {
   "cell_type": "code",
   "execution_count": null,
   "metadata": {},
   "outputs": [
    {
     "name": "stdout",
     "output_type": "stream",
     "text": [
      "Best Parameters: {'C': 3.052422429595377, 'penalty': 'l2', 'solver': 'liblinear'}\n",
      "Model Accuracy with RandomizedSearchCV: 0.97\n"
     ]
    },
    {
     "name": "stderr",
     "output_type": "stream",
     "text": [
      "c:\\Users\\Dell\\AppData\\Local\\Programs\\Python\\Python311\\Lib\\site-packages\\sklearn\\model_selection\\_validation.py:547: FitFailedWarning: \n",
      "45 fits failed out of a total of 100.\n",
      "The score on these train-test partitions for these parameters will be set to nan.\n",
      "If these failures are not expected, you can try to debug them by setting error_score='raise'.\n",
      "\n",
      "Below are more details about the failures:\n",
      "--------------------------------------------------------------------------------\n",
      "10 fits failed with the following error:\n",
      "Traceback (most recent call last):\n",
      "  File \"c:\\Users\\Dell\\AppData\\Local\\Programs\\Python\\Python311\\Lib\\site-packages\\sklearn\\model_selection\\_validation.py\", line 895, in _fit_and_score\n",
      "    estimator.fit(X_train, y_train, **fit_params)\n",
      "  File \"c:\\Users\\Dell\\AppData\\Local\\Programs\\Python\\Python311\\Lib\\site-packages\\sklearn\\base.py\", line 1474, in wrapper\n",
      "    return fit_method(estimator, *args, **kwargs)\n",
      "           ^^^^^^^^^^^^^^^^^^^^^^^^^^^^^^^^^^^^^^\n",
      "  File \"c:\\Users\\Dell\\AppData\\Local\\Programs\\Python\\Python311\\Lib\\site-packages\\sklearn\\linear_model\\_logistic.py\", line 1172, in fit\n",
      "    solver = _check_solver(self.solver, self.penalty, self.dual)\n",
      "             ^^^^^^^^^^^^^^^^^^^^^^^^^^^^^^^^^^^^^^^^^^^^^^^^^^^\n",
      "  File \"c:\\Users\\Dell\\AppData\\Local\\Programs\\Python\\Python311\\Lib\\site-packages\\sklearn\\linear_model\\_logistic.py\", line 75, in _check_solver\n",
      "    raise ValueError(\n",
      "ValueError: Only 'saga' solver supports elasticnet penalty, got solver=liblinear.\n",
      "\n",
      "--------------------------------------------------------------------------------\n",
      "15 fits failed with the following error:\n",
      "Traceback (most recent call last):\n",
      "  File \"c:\\Users\\Dell\\AppData\\Local\\Programs\\Python\\Python311\\Lib\\site-packages\\sklearn\\model_selection\\_validation.py\", line 895, in _fit_and_score\n",
      "    estimator.fit(X_train, y_train, **fit_params)\n",
      "  File \"c:\\Users\\Dell\\AppData\\Local\\Programs\\Python\\Python311\\Lib\\site-packages\\sklearn\\base.py\", line 1467, in wrapper\n",
      "    estimator._validate_params()\n",
      "  File \"c:\\Users\\Dell\\AppData\\Local\\Programs\\Python\\Python311\\Lib\\site-packages\\sklearn\\base.py\", line 666, in _validate_params\n",
      "    validate_parameter_constraints(\n",
      "  File \"c:\\Users\\Dell\\AppData\\Local\\Programs\\Python\\Python311\\Lib\\site-packages\\sklearn\\utils\\_param_validation.py\", line 95, in validate_parameter_constraints\n",
      "    raise InvalidParameterError(\n",
      "sklearn.utils._param_validation.InvalidParameterError: The 'penalty' parameter of LogisticRegression must be a str among {'l1', 'elasticnet', 'l2'} or None. Got 'none' instead.\n",
      "\n",
      "--------------------------------------------------------------------------------\n",
      "3 fits failed with the following error:\n",
      "Traceback (most recent call last):\n",
      "  File \"c:\\Users\\Dell\\AppData\\Local\\Programs\\Python\\Python311\\Lib\\site-packages\\sklearn\\model_selection\\_validation.py\", line 895, in _fit_and_score\n",
      "    estimator.fit(X_train, y_train, **fit_params)\n",
      "  File \"c:\\Users\\Dell\\AppData\\Local\\Programs\\Python\\Python311\\Lib\\site-packages\\sklearn\\base.py\", line 1467, in wrapper\n",
      "    estimator._validate_params()\n",
      "  File \"c:\\Users\\Dell\\AppData\\Local\\Programs\\Python\\Python311\\Lib\\site-packages\\sklearn\\base.py\", line 666, in _validate_params\n",
      "    validate_parameter_constraints(\n",
      "  File \"c:\\Users\\Dell\\AppData\\Local\\Programs\\Python\\Python311\\Lib\\site-packages\\sklearn\\utils\\_param_validation.py\", line 95, in validate_parameter_constraints\n",
      "    raise InvalidParameterError(\n",
      "sklearn.utils._param_validation.InvalidParameterError: The 'penalty' parameter of LogisticRegression must be a str among {'l2', 'elasticnet', 'l1'} or None. Got 'none' instead.\n",
      "\n",
      "--------------------------------------------------------------------------------\n",
      "2 fits failed with the following error:\n",
      "Traceback (most recent call last):\n",
      "  File \"c:\\Users\\Dell\\AppData\\Local\\Programs\\Python\\Python311\\Lib\\site-packages\\sklearn\\model_selection\\_validation.py\", line 895, in _fit_and_score\n",
      "    estimator.fit(X_train, y_train, **fit_params)\n",
      "  File \"c:\\Users\\Dell\\AppData\\Local\\Programs\\Python\\Python311\\Lib\\site-packages\\sklearn\\base.py\", line 1467, in wrapper\n",
      "    estimator._validate_params()\n",
      "  File \"c:\\Users\\Dell\\AppData\\Local\\Programs\\Python\\Python311\\Lib\\site-packages\\sklearn\\base.py\", line 666, in _validate_params\n",
      "    validate_parameter_constraints(\n",
      "  File \"c:\\Users\\Dell\\AppData\\Local\\Programs\\Python\\Python311\\Lib\\site-packages\\sklearn\\utils\\_param_validation.py\", line 95, in validate_parameter_constraints\n",
      "    raise InvalidParameterError(\n",
      "sklearn.utils._param_validation.InvalidParameterError: The 'penalty' parameter of LogisticRegression must be a str among {'elasticnet', 'l1', 'l2'} or None. Got 'none' instead.\n",
      "\n",
      "--------------------------------------------------------------------------------\n",
      "15 fits failed with the following error:\n",
      "Traceback (most recent call last):\n",
      "  File \"c:\\Users\\Dell\\AppData\\Local\\Programs\\Python\\Python311\\Lib\\site-packages\\sklearn\\model_selection\\_validation.py\", line 895, in _fit_and_score\n",
      "    estimator.fit(X_train, y_train, **fit_params)\n",
      "  File \"c:\\Users\\Dell\\AppData\\Local\\Programs\\Python\\Python311\\Lib\\site-packages\\sklearn\\base.py\", line 1474, in wrapper\n",
      "    return fit_method(estimator, *args, **kwargs)\n",
      "           ^^^^^^^^^^^^^^^^^^^^^^^^^^^^^^^^^^^^^^\n",
      "  File \"c:\\Users\\Dell\\AppData\\Local\\Programs\\Python\\Python311\\Lib\\site-packages\\sklearn\\linear_model\\_logistic.py\", line 1182, in fit\n",
      "    raise ValueError(\"l1_ratio must be specified when penalty is elasticnet.\")\n",
      "ValueError: l1_ratio must be specified when penalty is elasticnet.\n",
      "\n",
      "  warnings.warn(some_fits_failed_message, FitFailedWarning)\n",
      "c:\\Users\\Dell\\AppData\\Local\\Programs\\Python\\Python311\\Lib\\site-packages\\sklearn\\model_selection\\_search.py:1051: UserWarning: One or more of the test scores are non-finite: [0.97142857 0.96483516        nan        nan        nan 0.97142857\n",
      " 0.97582418 0.97582418 0.97802198 0.97142857 0.97802198        nan\n",
      "        nan        nan        nan 0.97142857        nan 0.97582418\n",
      " 0.97802198        nan]\n",
      "  warnings.warn(\n"
     ]
    }
   ],
   "source": [
    "# Apply RandomizedSearchCV\n",
    "random_search = RandomizedSearchCV(model, param_distributions=param_dist, n_iter=20, cv=5, scoring='accuracy', n_jobs=-1, random_state=42)\n",
    "random_search.fit(X_train, y_train)\n",
    "\n",
    "# Get best model and parameters\n",
    "best_model = random_search.best_estimator_\n",
    "best_params = random_search.best_params_\n",
    "\n",
    "# Predict on test set\n",
    "y_pred = best_model.predict(X_test)\n",
    "\n",
    "# Print best parameters and model accuracy\n",
    "accuracy = accuracy_score(y_test, y_pred)\n",
    "print(f\"Best Parameters: {best_params}\")\n",
    "print(f\"Model Accuracy with RandomizedSearchCV: {accuracy:.2f}\")"
   ]
  },
  {
   "cell_type": "code",
   "execution_count": 114,
   "metadata": {},
   "outputs": [],
   "source": [
    "#10-Write a Python program to implement One-vs-One (OvO) Multiclass Logistic Regression and print accuracy\n",
    "\n",
    "import pandas as pd\n",
    "import numpy as np\n",
    "from sklearn.model_selection import train_test_split\n",
    "from sklearn.preprocessing import StandardScaler\n",
    "from sklearn.linear_model import LogisticRegression\n",
    "from sklearn.multiclass import OneVsOneClassifier\n",
    "from sklearn.metrics import accuracy_score\n",
    "from sklearn.datasets import load_digits\n",
    "\n",
    "# Load dataset from sklearn (Digits dataset for multiclass classification)\n",
    "data = load_digits()\n",
    "df = pd.DataFrame(data.data, columns=[f'pixel_{i}' for i in range(data.data.shape[1])])\n",
    "y = data.target  # Target variable\n",
    "\n",
    "\n"
   ]
  },
  {
   "cell_type": "code",
   "execution_count": 115,
   "metadata": {},
   "outputs": [
    {
     "name": "stdout",
     "output_type": "stream",
     "text": [
      "Model Accuracy with One-vs-One (OvO): 0.98\n"
     ]
    }
   ],
   "source": [
    "# Split data into training and testing sets\n",
    "X_train, X_test, y_train, y_test = train_test_split(df, y, test_size=0.2, random_state=42)\n",
    "\n",
    "# Standardize features for better performance\n",
    "scaler = StandardScaler()\n",
    "X_train = scaler.fit_transform(X_train)\n",
    "X_test = scaler.transform(X_test)\n",
    "\n",
    "# Apply One-vs-One (OvO) Logistic Regression\n",
    "model = OneVsOneClassifier(LogisticRegression(max_iter=5000, solver='saga'))\n",
    "model.fit(X_train, y_train)\n",
    "\n",
    "# Predict on test set\n",
    "y_pred = model.predict(X_test)\n",
    "\n",
    "# Print model accuracy\n",
    "accuracy = accuracy_score(y_test, y_pred)\n",
    "print(f\"Model Accuracy with One-vs-One (OvO): {accuracy:.2f}\")"
   ]
  },
  {
   "cell_type": "code",
   "execution_count": 1,
   "metadata": {},
   "outputs": [],
   "source": [
    "#11-M Write a Python program to train a Logistic Regression model and visualize the confusion matrix for binary classification"
   ]
  },
  {
   "cell_type": "code",
   "execution_count": 2,
   "metadata": {},
   "outputs": [],
   "source": [
    "import pandas as pd\n",
    "import numpy as np\n",
    "import matplotlib.pyplot as plt\n",
    "import seaborn as sns\n",
    "from sklearn.model_selection import train_test_split\n",
    "from sklearn.preprocessing import StandardScaler\n",
    "from sklearn.linear_model import LogisticRegression\n",
    "from sklearn.metrics import accuracy_score, confusion_matrix\n",
    "from sklearn.datasets import load_breast_cancer\n",
    "\n",
    "# Load dataset from sklearn (Breast Cancer dataset for binary classification)\n",
    "data = load_breast_cancer()\n",
    "df = pd.DataFrame(data.data, columns=data.feature_names)\n",
    "y = data.target  # Target variable\n",
    "\n",
    "\n"
   ]
  },
  {
   "cell_type": "code",
   "execution_count": 3,
   "metadata": {},
   "outputs": [
    {
     "data": {
      "image/png": "[encoded data removed]",
      "text/plain": [
       "<Figure size 600x400 with 2 Axes>"
      ]
     },
     "metadata": {},
     "output_type": "display_data"
    },
    {
     "name": "stdout",
     "output_type": "stream",
     "text": [
      "Model Accuracy: 0.97\n"
     ]
    }
   ],
   "source": [
    "# Split data into training and testing sets\n",
    "X_train, X_test, y_train, y_test = train_test_split(df, y, test_size=0.2, random_state=42)\n",
    "\n",
    "# Standardize features for better performance\n",
    "scaler = StandardScaler()\n",
    "X_train = scaler.fit_transform(X_train)\n",
    "X_test = scaler.transform(X_test)\n",
    "\n",
    "# Train Logistic Regression model\n",
    "model = LogisticRegression(max_iter=5000)\n",
    "model.fit(X_train, y_train)\n",
    "\n",
    "# Predict on test set\n",
    "y_pred = model.predict(X_test)\n",
    "\n",
    "# Compute confusion matrix\n",
    "conf_matrix = confusion_matrix(y_test, y_pred)\n",
    "\n",
    "# Visualize confusion matrix\n",
    "plt.figure(figsize=(6, 4))\n",
    "sns.heatmap(conf_matrix, annot=True, fmt='d', cmap='Blues', xticklabels=['Negative', 'Positive'], yticklabels=['Negative', 'Positive'])\n",
    "plt.xlabel('Predicted')\n",
    "plt.ylabel('Actual')\n",
    "plt.title('Confusion Matrix')\n",
    "plt.show()\n",
    "\n",
    "# Print model accuracy\n",
    "accuracy = accuracy_score(y_test, y_pred)\n",
    "print(f\"Model Accuracy: {accuracy:.2f}\")\n"
   ]
  },
  {
   "cell_type": "code",
   "execution_count": 5,
   "metadata": {},
   "outputs": [],
   "source": [
    "#12-Write a Python program to train a Logistic Regression model and evaluate its performance using Precision,\n",
    "#Recall, and F1-Score"
   ]
  },
  {
   "cell_type": "code",
   "execution_count": 6,
   "metadata": {},
   "outputs": [],
   "source": [
    "import pandas as pd\n",
    "import numpy as np\n",
    "import matplotlib.pyplot as plt\n",
    "import seaborn as sns\n",
    "from sklearn.model_selection import train_test_split\n",
    "from sklearn.preprocessing import StandardScaler\n",
    "from sklearn.linear_model import LogisticRegression\n",
    "from sklearn.metrics import accuracy_score, confusion_matrix, precision_score, recall_score, f1_score\n",
    "from sklearn.datasets import load_breast_cancer\n",
    "\n",
    "# Load dataset from sklearn (Breast Cancer dataset for binary classification)\n",
    "data = load_breast_cancer()\n",
    "df = pd.DataFrame(data.data, columns=data.feature_names)\n",
    "y = data.target  # Target variable\n",
    "\n"
   ]
  },
  {
   "cell_type": "code",
   "execution_count": 7,
   "metadata": {},
   "outputs": [
    {
     "data": {
      "image/png": "[encoded data removed]",
      "text/plain": [
       "<Figure size 600x400 with 2 Axes>"
      ]
     },
     "metadata": {},
     "output_type": "display_data"
    },
    {
     "name": "stdout",
     "output_type": "stream",
     "text": [
      "Model Accuracy: 0.97\n",
      "Precision: 0.97\n",
      "Recall: 0.99\n",
      "F1-Score: 0.98\n"
     ]
    }
   ],
   "source": [
    "# Split data into training and testing sets\n",
    "X_train, X_test, y_train, y_test = train_test_split(df, y, test_size=0.2, random_state=42)\n",
    "\n",
    "# Standardize features for better performance\n",
    "scaler = StandardScaler()\n",
    "X_train = scaler.fit_transform(X_train)\n",
    "X_test = scaler.transform(X_test)\n",
    "\n",
    "# Train Logistic Regression model\n",
    "model = LogisticRegression(max_iter=5000)\n",
    "model.fit(X_train, y_train)\n",
    "\n",
    "# Predict on test set\n",
    "y_pred = model.predict(X_test)\n",
    "\n",
    "# Compute confusion matrix\n",
    "conf_matrix = confusion_matrix(y_test, y_pred)\n",
    "\n",
    "# Visualize confusion matrix\n",
    "plt.figure(figsize=(6, 4))\n",
    "sns.heatmap(conf_matrix, annot=True, fmt='d', cmap='Blues', xticklabels=['Negative', 'Positive'], yticklabels=['Negative', 'Positive'])\n",
    "plt.xlabel('Predicted')\n",
    "plt.ylabel('Actual')\n",
    "plt.title('Confusion Matrix')\n",
    "plt.show()\n",
    "\n",
    "# Compute evaluation metrics\n",
    "precision = precision_score(y_test, y_pred)\n",
    "recall = recall_score(y_test, y_pred)\n",
    "f1 = f1_score(y_test, y_pred)\n",
    "\n",
    "# Print model performance metrics\n",
    "accuracy = accuracy_score(y_test, y_pred)\n",
    "print(f\"Model Accuracy: {accuracy:.2f}\")\n",
    "print(f\"Precision: {precision:.2f}\")\n",
    "print(f\"Recall: {recall:.2f}\")\n",
    "print(f\"F1-Score: {f1:.2f}\")\n"
   ]
  },
  {
   "cell_type": "code",
   "execution_count": 8,
   "metadata": {},
   "outputs": [
    {
     "name": "stdout",
     "output_type": "stream",
     "text": [
      "Class distribution: Counter({0: 900, 1: 100})\n"
     ]
    }
   ],
   "source": [
    "#13-Write a Python program to train a Logistic Regression model on imbalanced data and apply class weights to\n",
    "#improve model performance\n",
    "\n",
    "\n",
    "import pandas as pd\n",
    "import numpy as np\n",
    "import matplotlib.pyplot as plt\n",
    "import seaborn as sns\n",
    "from sklearn.model_selection import train_test_split\n",
    "from sklearn.preprocessing import StandardScaler\n",
    "from sklearn.linear_model import LogisticRegression\n",
    "from sklearn.metrics import accuracy_score, confusion_matrix, precision_score, recall_score, f1_score\n",
    "from sklearn.datasets import make_classification\n",
    "from collections import Counter\n",
    "\n",
    "# Generate imbalanced dataset\n",
    "X, y = make_classification(n_classes=2, class_sep=2, weights=[0.9, 0.1], \n",
    "n_informative=3, n_redundant=1, flip_y=0, \n",
    "n_features=10, n_clusters_per_class=1, n_samples=1000, random_state=1)\n",
    "\n",
    "# Convert to DataFrame\n",
    "df = pd.DataFrame(X, columns=[f'feature_{i}' for i in range(X.shape[1])])\n",
    "\n",
    "# Check class distribution\n",
    "print(f\"Class distribution: {Counter(y)}\")\n",
    "\n",
    "\n"
   ]
  },
  {
   "cell_type": "code",
   "execution_count": 9,
   "metadata": {},
   "outputs": [
    {
     "data": {
      "image/png": "[encoded data removed]",
      "text/plain": [
       "<Figure size 600x400 with 2 Axes>"
      ]
     },
     "metadata": {},
     "output_type": "display_data"
    },
    {
     "name": "stdout",
     "output_type": "stream",
     "text": [
      "Model Accuracy: 1.00\n",
      "Precision: 1.00\n",
      "Recall: 1.00\n",
      "F1-Score: 1.00\n"
     ]
    }
   ],
   "source": [
    "# Split data into training and testing sets\n",
    "X_train, X_test, y_train, y_test = train_test_split(df, y, test_size=0.2, random_state=42, stratify=y)\n",
    "\n",
    "# Standardize features for better performance\n",
    "scaler = StandardScaler()\n",
    "X_train = scaler.fit_transform(X_train)\n",
    "X_test = scaler.transform(X_test)\n",
    "\n",
    "# Train Logistic Regression model with class weights\n",
    "model = LogisticRegression(class_weight='balanced', max_iter=5000)\n",
    "model.fit(X_train, y_train)\n",
    "\n",
    "# Predict on test set\n",
    "y_pred = model.predict(X_test)\n",
    "\n",
    "# Compute confusion matrix\n",
    "conf_matrix = confusion_matrix(y_test, y_pred)\n",
    "\n",
    "# Visualize confusion matrix\n",
    "plt.figure(figsize=(6, 4))\n",
    "sns.heatmap(conf_matrix, annot=True, fmt='d', cmap='Blues', xticklabels=['Negative', 'Positive'], yticklabels=['Negative', 'Positive'])\n",
    "plt.xlabel('Predicted')\n",
    "plt.ylabel('Actual')\n",
    "plt.title('Confusion Matrix')\n",
    "plt.show()\n",
    "\n",
    "# Compute evaluation metrics\n",
    "precision = precision_score(y_test, y_pred)\n",
    "recall = recall_score(y_test, y_pred)\n",
    "f1 = f1_score(y_test, y_pred)\n",
    "\n",
    "# Print model performance metrics\n",
    "accuracy = accuracy_score(y_test, y_pred)\n",
    "print(f\"Model Accuracy: {accuracy:.2f}\")\n",
    "print(f\"Precision: {precision:.2f}\")\n",
    "print(f\"Recall: {recall:.2f}\")\n",
    "print(f\"F1-Score: {f1:.2f}\")"
   ]
  },
  {
   "cell_type": "code",
   "execution_count": 10,
   "metadata": {},
   "outputs": [],
   "source": [
    "#14-Write a Python program to train Logistic Regression on the Titanic dataset, handle missing values, and\n",
    "#evaluate performance\n",
    "\n",
    "import pandas as pd\n",
    "import numpy as np\n",
    "import matplotlib.pyplot as plt\n",
    "import seaborn as sns\n",
    "from sklearn.model_selection import train_test_split\n",
    "from sklearn.preprocessing import StandardScaler, OneHotEncoder\n",
    "from sklearn.linear_model import LogisticRegression\n",
    "from sklearn.impute import SimpleImputer\n",
    "from sklearn.metrics import accuracy_score, confusion_matrix, precision_score, recall_score, f1_score\n",
    "from sklearn.compose import ColumnTransformer\n",
    "from sklearn.pipeline import Pipeline\n",
    "\n",
    "# Load Titanic dataset\n",
    "df = pd.read_csv(\"https://raw.githubusercontent.com/datasciencedojo/datasets/master/titanic.csv\")\n",
    "\n",
    "# Select relevant features\n",
    "features = ['Pclass', 'Sex', 'Age', 'SibSp', 'Parch', 'Fare', 'Embarked']\n",
    "target = 'Survived'\n",
    "\n",
    "# Drop rows with missing target values\n",
    "df = df.dropna(subset=[target])\n",
    "\n",
    "# Separate features and target\n",
    "X = df[features]\n",
    "y = df[target]\n"
   ]
  },
  {
   "cell_type": "code",
   "execution_count": 11,
   "metadata": {},
   "outputs": [
    {
     "data": {
      "image/png": "[encoded data removed]",
      "text/plain": [
       "<Figure size 600x400 with 2 Axes>"
      ]
     },
     "metadata": {},
     "output_type": "display_data"
    },
    {
     "name": "stdout",
     "output_type": "stream",
     "text": [
      "Model Accuracy: 0.80\n",
      "Precision: 0.79\n",
      "Recall: 0.65\n",
      "F1-Score: 0.71\n"
     ]
    }
   ],
   "source": [
    "\n",
    "# Handling missing values and categorical encoding\n",
    "num_features = ['Age', 'SibSp', 'Parch', 'Fare']\n",
    "cat_features = ['Pclass', 'Sex', 'Embarked']\n",
    "\n",
    "num_pipeline = Pipeline([\n",
    "    (\"imputer\", SimpleImputer(strategy=\"mean\")),\n",
    "    (\"scaler\", StandardScaler())\n",
    "])\n",
    "\n",
    "cat_pipeline = Pipeline([\n",
    "    (\"imputer\", SimpleImputer(strategy=\"most_frequent\")),\n",
    "    (\"encoder\", OneHotEncoder(handle_unknown=\"ignore\"))\n",
    "])\n",
    "\n",
    "preprocessor = ColumnTransformer([\n",
    "    (\"num\", num_pipeline, num_features),\n",
    "    (\"cat\", cat_pipeline, cat_features)\n",
    "])\n",
    "\n",
    "# Define pipeline with preprocessing and logistic regression\n",
    "model = Pipeline([\n",
    "    (\"preprocessing\", preprocessor),\n",
    "    (\"classifier\", LogisticRegression(max_iter=5000))\n",
    "])\n",
    "\n",
    "# Split data into training and testing sets\n",
    "X_train, X_test, y_train, y_test = train_test_split(X, y, test_size=0.2, random_state=42, stratify=y)\n",
    "\n",
    "# Train model\n",
    "model.fit(X_train, y_train)\n",
    "\n",
    "# Predict on test set\n",
    "y_pred = model.predict(X_test)\n",
    "\n",
    "# Compute confusion matrix\n",
    "conf_matrix = confusion_matrix(y_test, y_pred)\n",
    "\n",
    "# Visualize confusion matrix\n",
    "plt.figure(figsize=(6, 4))\n",
    "sns.heatmap(conf_matrix, annot=True, fmt='d', cmap='Blues', xticklabels=['Not Survived', 'Survived'], yticklabels=['Not Survived', 'Survived'])\n",
    "plt.xlabel('Predicted')\n",
    "plt.ylabel('Actual')\n",
    "plt.title('Confusion Matrix')\n",
    "plt.show()\n",
    "\n",
    "# Compute evaluation metrics\n",
    "precision = precision_score(y_test, y_pred)\n",
    "recall = recall_score(y_test, y_pred)\n",
    "f1 = f1_score(y_test, y_pred)\n",
    "\n",
    "# Print model performance metrics\n",
    "accuracy = accuracy_score(y_test, y_pred)\n",
    "print(f\"Model Accuracy: {accuracy:.2f}\")\n",
    "print(f\"Precision: {precision:.2f}\")\n",
    "print(f\"Recall: {recall:.2f}\")\n",
    "print(f\"F1-Score: {f1:.2f}\")\n"
   ]
  },
  {
   "cell_type": "code",
   "execution_count": null,
   "metadata": {},
   "outputs": [],
   "source": [
    "#15-Write a Python program to apply feature scaling (Standardization) before training a Logistic Regression\n",
    "#model. Evaluate its accuracy and compare results with and without scaling\n",
    "\n",
    "import pandas as pd\n",
    "import numpy as np\n",
    "import matplotlib.pyplot as plt\n",
    "import seaborn as sns\n",
    "from sklearn.model_selection import train_test_split\n",
    "from sklearn.preprocessing import StandardScaler\n",
    "from sklearn.linear_model import LogisticRegression\n",
    "from sklearn.metrics import accuracy_score, precision_score, recall_score, f1_score\n",
    "from sklearn.datasets import load_breast_cancer\n",
    "\n",
    "# Load dataset (Breast Cancer dataset for binary classification)\n",
    "data = load_breast_cancer()\n",
    "df = pd.DataFrame(data.data, columns=data.feature_names)\n",
    "y = data.target  # Target variable\n",
    "\n",
    "# Split data into training and testing sets\n",
    "X_train, X_test, y_train, y_test = train_test_split(df, y, test_size=0.2, random_state=42)\n",
    "\n",
    "# Train Logistic Regression model without scaling\n",
    "model_no_scaling = LogisticRegression(max_iter=5000)\n",
    "model_no_scaling.fit(X_train, y_train)\n",
    "y_pred_no_scaling = model_no_scaling.predict(X_test)\n",
    "accuracy_no_scaling = accuracy_score(y_test, y_pred_no_scaling)\n",
    "\n",
    "\n"
   ]
  },
  {
   "cell_type": "code",
   "execution_count": 13,
   "metadata": {},
   "outputs": [
    {
     "name": "stdout",
     "output_type": "stream",
     "text": [
      "Accuracy without Scaling: 0.96\n",
      "Accuracy with Scaling: 0.97\n",
      "Precision with Scaling: 0.97\n",
      "Recall with Scaling: 0.99\n",
      "F1-Score with Scaling: 0.98\n"
     ]
    }
   ],
   "source": [
    "import pandas as pd\n",
    "import numpy as np\n",
    "import matplotlib.pyplot as plt\n",
    "import seaborn as sns\n",
    "from sklearn.model_selection import train_test_split\n",
    "from sklearn.preprocessing import StandardScaler\n",
    "from sklearn.linear_model import LogisticRegression\n",
    "from sklearn.metrics import accuracy_score, precision_score, recall_score, f1_score\n",
    "from sklearn.datasets import load_breast_cancer\n",
    "\n",
    "# Load dataset (Breast Cancer dataset for binary classification)\n",
    "data = load_breast_cancer()\n",
    "df = pd.DataFrame(data.data, columns=data.feature_names)\n",
    "y = data.target  # Target variable\n",
    "\n",
    "# Split data into training and testing sets\n",
    "X_train, X_test, y_train, y_test = train_test_split(df, y, test_size=0.2, random_state=42)\n",
    "\n",
    "# Train Logistic Regression model without scaling\n",
    "model_no_scaling = LogisticRegression(max_iter=5000)\n",
    "model_no_scaling.fit(X_train, y_train)\n",
    "y_pred_no_scaling = model_no_scaling.predict(X_test)\n",
    "accuracy_no_scaling = accuracy_score(y_test, y_pred_no_scaling)\n",
    "\n",
    "# Standardize features\n",
    "scaler = StandardScaler()\n",
    "X_train_scaled = scaler.fit_transform(X_train)\n",
    "X_test_scaled = scaler.transform(X_test)\n",
    "\n",
    "# Train Logistic Regression model with scaling\n",
    "model_scaled = LogisticRegression(max_iter=5000)\n",
    "model_scaled.fit(X_train_scaled, y_train)\n",
    "y_pred_scaled = model_scaled.predict(X_test_scaled)\n",
    "accuracy_scaled = accuracy_score(y_test, y_pred_scaled)\n",
    "\n",
    "# Print model performance comparison\n",
    "print(f\"Accuracy without Scaling: {accuracy_no_scaling:.2f}\")\n",
    "print(f\"Accuracy with Scaling: {accuracy_scaled:.2f}\")\n",
    "\n",
    "# Compute additional evaluation metrics\n",
    "precision_scaled = precision_score(y_test, y_pred_scaled)\n",
    "recall_scaled = recall_score(y_test, y_pred_scaled)\n",
    "f1_scaled = f1_score(y_test, y_pred_scaled)\n",
    "\n",
    "print(f\"Precision with Scaling: {precision_scaled:.2f}\")\n",
    "print(f\"Recall with Scaling: {recall_scaled:.2f}\")\n",
    "print(f\"F1-Score with Scaling: {f1_scaled:.2f}\")\n"
   ]
  },
  {
   "cell_type": "code",
   "execution_count": 14,
   "metadata": {},
   "outputs": [],
   "source": [
    "#16- Write a Python program to train Logistic Regression and evaluate its performance using ROC-AUC score\n",
    "\n",
    "import pandas as pd\n",
    "import numpy as np\n",
    "import matplotlib.pyplot as plt\n",
    "import seaborn as sns\n",
    "from sklearn.model_selection import train_test_split\n",
    "from sklearn.preprocessing import StandardScaler\n",
    "from sklearn.linear_model import LogisticRegression\n",
    "from sklearn.metrics import accuracy_score, precision_score, recall_score, f1_score, roc_auc_score, roc_curve\n",
    "from sklearn.datasets import load_breast_cancer\n",
    "\n",
    "# Load dataset (Breast Cancer dataset for binary classification)\n",
    "data = load_breast_cancer()\n",
    "df = pd.DataFrame(data.data, columns=data.feature_names)\n",
    "y = data.target  # Target variable\n",
    "\n",
    "# Split data into training and testing sets\n",
    "X_train, X_test, y_train, y_test = train_test_split(df, y, test_size=0.2, random_state=42)\n",
    "\n",
    "\n"
   ]
  },
  {
   "cell_type": "code",
   "execution_count": 15,
   "metadata": {},
   "outputs": [
    {
     "data": {
      "image/png": "[encoded data removed]",
      "text/plain": [
       "<Figure size 600x400 with 1 Axes>"
      ]
     },
     "metadata": {},
     "output_type": "display_data"
    },
    {
     "name": "stdout",
     "output_type": "stream",
     "text": [
      "ROC-AUC Score: 1.00\n"
     ]
    }
   ],
   "source": [
    "# Standardize features\n",
    "scaler = StandardScaler()\n",
    "X_train_scaled = scaler.fit_transform(X_train)\n",
    "X_test_scaled = scaler.transform(X_test)\n",
    "\n",
    "# Train Logistic Regression model\n",
    "model = LogisticRegression(max_iter=5000)\n",
    "model.fit(X_train_scaled, y_train)\n",
    "\n",
    "# Predict probabilities\n",
    "y_prob = model.predict_proba(X_test_scaled)[:, 1]\n",
    "\n",
    "# Compute ROC-AUC score\n",
    "roc_auc = roc_auc_score(y_test, y_prob)\n",
    "\n",
    "# Compute ROC curve\n",
    "fpr, tpr, _ = roc_curve(y_test, y_prob)\n",
    "\n",
    "# Plot ROC curve\n",
    "plt.figure(figsize=(6, 4))\n",
    "plt.plot(fpr, tpr, label=f'ROC Curve (AUC = {roc_auc:.2f}')\n",
    "plt.plot([0, 1], [0, 1], linestyle='--', color='gray')\n",
    "plt.xlabel('False Positive Rate')\n",
    "plt.ylabel('True Positive Rate')\n",
    "plt.title('ROC Curve')\n",
    "plt.legend()\n",
    "plt.show()\n",
    "\n",
    "# Print model performance metrics\n",
    "print(f\"ROC-AUC Score: {roc_auc:.2f}\")"
   ]
  },
  {
   "cell_type": "code",
   "execution_count": 16,
   "metadata": {},
   "outputs": [],
   "source": [
    "#17-Write a Python program to train Logistic Regression using a custom learning rate (C=0.5) and evaluate\n",
    "#accuracy.\n",
    "\n",
    "import pandas as pd\n",
    "import numpy as np\n",
    "import matplotlib.pyplot as plt\n",
    "import seaborn as sns\n",
    "from sklearn.model_selection import train_test_split\n",
    "from sklearn.preprocessing import StandardScaler\n",
    "from sklearn.linear_model import LogisticRegression\n",
    "from sklearn.metrics import accuracy_score\n",
    "from sklearn.datasets import load_breast_cancer\n",
    "\n",
    "# Load dataset (Breast Cancer dataset for binary classification)\n",
    "data = load_breast_cancer()\n",
    "df = pd.DataFrame(data.data, columns=data.feature_names)\n",
    "y = data.target  # Target variable\n",
    "\n"
   ]
  },
  {
   "cell_type": "code",
   "execution_count": 17,
   "metadata": {},
   "outputs": [
    {
     "name": "stdout",
     "output_type": "stream",
     "text": [
      "Model Accuracy with C=0.5: 0.97\n"
     ]
    }
   ],
   "source": [
    "# Split data into training and testing sets\n",
    "X_train, X_test, y_train, y_test = train_test_split(df, y, test_size=0.2, random_state=42)\n",
    "\n",
    "# Standardize features\n",
    "scaler = StandardScaler()\n",
    "X_train_scaled = scaler.fit_transform(X_train)\n",
    "X_test_scaled = scaler.transform(X_test)\n",
    "\n",
    "# Train Logistic Regression model with custom learning rate (C=0.5)\n",
    "model = LogisticRegression(C=0.5, max_iter=5000)\n",
    "model.fit(X_train_scaled, y_train)\n",
    "\n",
    "# Predict on test set\n",
    "y_pred = model.predict(X_test_scaled)\n",
    "\n",
    "# Print model accuracy\n",
    "accuracy = accuracy_score(y_test, y_pred)\n",
    "print(f\"Model Accuracy with C=0.5: {accuracy:.2f}\")"
   ]
  },
  {
   "cell_type": "code",
   "execution_count": 18,
   "metadata": {},
   "outputs": [],
   "source": [
    "#18-Write a Python program to train Logistic Regression and identify important features based on model\n",
    "#coefficients\n",
    "import pandas as pd\n",
    "import numpy as np\n",
    "import matplotlib.pyplot as plt\n",
    "import seaborn as sns\n",
    "from sklearn.model_selection import train_test_split\n",
    "from sklearn.preprocessing import StandardScaler\n",
    "from sklearn.linear_model import LogisticRegression\n",
    "from sklearn.metrics import accuracy_score\n",
    "from sklearn.datasets import load_breast_cancer\n",
    "\n",
    "# Load dataset (Breast Cancer dataset for binary classification)\n",
    "data = load_breast_cancer()\n",
    "df = pd.DataFrame(data.data, columns=data.feature_names)\n",
    "y = data.target  # Target variable\n",
    "\n",
    "# Split data into training and testing sets\n",
    "X_train, X_test, y_train, y_test = train_test_split(df, y, test_size=0.2, random_state=42)\n",
    "\n",
    "\n"
   ]
  },
  {
   "cell_type": "code",
   "execution_count": 19,
   "metadata": {},
   "outputs": [
    {
     "name": "stdout",
     "output_type": "stream",
     "text": [
      "Model Accuracy with C=0.5: 0.97\n"
     ]
    },
    {
     "name": "stderr",
     "output_type": "stream",
     "text": [
      "C:\\Users\\Dell\\AppData\\Local\\Temp\\ipykernel_9436\\3558131805.py:23: FutureWarning: \n",
      "\n",
      "Passing `palette` without assigning `hue` is deprecated and will be removed in v0.14.0. Assign the `y` variable to `hue` and set `legend=False` for the same effect.\n",
      "\n",
      "  sns.barplot(x='Coefficient', y='Feature', data=feature_importance, palette='coolwarm')\n"
     ]
    },
    {
     "data": {
      "image/png": "[encoded data removed]",
      "text/plain": [
       "<Figure size 1000x600 with 1 Axes>"
      ]
     },
     "metadata": {},
     "output_type": "display_data"
    }
   ],
   "source": [
    "# Standardize features\n",
    "scaler = StandardScaler()\n",
    "X_train_scaled = scaler.fit_transform(X_train)\n",
    "X_test_scaled = scaler.transform(X_test)\n",
    "\n",
    "# Train Logistic Regression model\n",
    "model = LogisticRegression(C=0.5, max_iter=5000)\n",
    "model.fit(X_train_scaled, y_train)\n",
    "\n",
    "# Predict on test set\n",
    "y_pred = model.predict(X_test_scaled)\n",
    "\n",
    "# Print model accuracy\n",
    "accuracy = accuracy_score(y_test, y_pred)\n",
    "print(f\"Model Accuracy with C=0.5: {accuracy:.2f}\")\n",
    "\n",
    "# Identify important features based on model coefficients\n",
    "feature_importance = pd.DataFrame({'Feature': data.feature_names, 'Coefficient': model.coef_[0]})\n",
    "feature_importance = feature_importance.sort_values(by='Coefficient', key=abs, ascending=False)\n",
    "\n",
    "# Plot feature importance\n",
    "plt.figure(figsize=(10, 6))\n",
    "sns.barplot(x='Coefficient', y='Feature', data=feature_importance, palette='coolwarm')\n",
    "plt.xlabel('Coefficient Value')\n",
    "plt.ylabel('Feature')\n",
    "plt.title('Feature Importance Based on Logistic Regression Coefficients')\n",
    "plt.show()"
   ]
  },
  {
   "cell_type": "code",
   "execution_count": 20,
   "metadata": {},
   "outputs": [],
   "source": [
    "#19-write python program to train Logistic Regression and evaluate its performance using Cohen’s Kappa score\n",
    "\n",
    "import pandas as pd\n",
    "import numpy as np\n",
    "import matplotlib.pyplot as plt\n",
    "import seaborn as sns\n",
    "from sklearn.model_selection import train_test_split\n",
    "from sklearn.preprocessing import StandardScaler\n",
    "from sklearn.linear_model import LogisticRegression\n",
    "from sklearn.metrics import accuracy_score, cohen_kappa_score\n",
    "from sklearn.datasets import load_breast_cancer\n",
    "\n",
    "# Load dataset (Breast Cancer dataset for binary classification)\n",
    "data = load_breast_cancer()\n",
    "df = pd.DataFrame(data.data, columns=data.feature_names)\n",
    "y = data.target  # Target variable\n",
    "\n"
   ]
  },
  {
   "cell_type": "code",
   "execution_count": 22,
   "metadata": {},
   "outputs": [
    {
     "name": "stdout",
     "output_type": "stream",
     "text": [
      "Model Accuracy with C=0.5: 0.97\n",
      "Cohen's Kappa Score: 0.94\n"
     ]
    }
   ],
   "source": [
    "# Split data into training and testing sets\n",
    "X_train, X_test, y_train, y_test = train_test_split(df, y, test_size=0.2, random_state=42)\n",
    "\n",
    "# Standardize features\n",
    "scaler = StandardScaler()\n",
    "X_train_scaled = scaler.fit_transform(X_train)\n",
    "X_test_scaled = scaler.transform(X_test)\n",
    "\n",
    "# Train Logistic Regression model\n",
    "model = LogisticRegression(C=0.5, max_iter=5000)\n",
    "model.fit(X_train_scaled, y_train)\n",
    "\n",
    "# Predict on test set\n",
    "y_pred = model.predict(X_test_scaled)\n",
    "\n",
    "# Compute accuracy\n",
    "accuracy = accuracy_score(y_test, y_pred)\n",
    "print(f\"Model Accuracy with C=0.5: {accuracy:.2f}\")\n",
    "\n",
    "# Compute Cohen’s Kappa Score\n",
    "kappa_score = cohen_kappa_score(y_test, y_pred)\n",
    "print(f\"Cohen's Kappa Score: {kappa_score:.2f}\")"
   ]
  },
  {
   "cell_type": "code",
   "execution_count": 23,
   "metadata": {},
   "outputs": [],
   "source": [
    "#20-Write a Python program to train Logistic Regression and visualize the Precision-Recall Curve for binary\n",
    "#classification:\n",
    "\n",
    "import pandas as pd\n",
    "import numpy as np\n",
    "import matplotlib.pyplot as plt\n",
    "import seaborn as sns\n",
    "from sklearn.model_selection import train_test_split\n",
    "from sklearn.preprocessing import StandardScaler\n",
    "from sklearn.linear_model import LogisticRegression\n",
    "from sklearn.metrics import accuracy_score, precision_recall_curve, auc\n",
    "from sklearn.datasets import load_breast_cancer\n",
    "\n",
    "# Load dataset (Breast Cancer dataset for binary classification)\n",
    "data = load_breast_cancer()\n",
    "df = pd.DataFrame(data.data, columns=data.feature_names)\n",
    "y = data.target  # Target variable\n",
    "\n",
    "# Split data into training and testing sets\n",
    "X_train, X_test, y_train, y_test = train_test_split(df, y, test_size=0.2, random_state=42)\n",
    "\n",
    "# Standardize features\n",
    "scaler = StandardScaler()\n",
    "X_train_scaled = scaler.fit_transform(X_train)\n",
    "X_test_scaled = scaler.transform(X_test)\n",
    "\n"
   ]
  },
  {
   "cell_type": "code",
   "execution_count": 24,
   "metadata": {},
   "outputs": [
    {
     "data": {
      "image/png": "[encoded data removed]",
      "text/plain": [
       "<Figure size 600x400 with 1 Axes>"
      ]
     },
     "metadata": {},
     "output_type": "display_data"
    },
    {
     "name": "stdout",
     "output_type": "stream",
     "text": [
      "Model Accuracy with C=0.5: 0.97\n",
      "Precision-Recall AUC: 1.00\n"
     ]
    }
   ],
   "source": [
    "# Train Logistic Regression model\n",
    "model = LogisticRegression(C=0.5, max_iter=5000)\n",
    "model.fit(X_train_scaled, y_train)\n",
    "\n",
    "# Predict probabilities\n",
    "y_prob = model.predict_proba(X_test_scaled)[:, 1]\n",
    "\n",
    "# Compute Precision-Recall curve\n",
    "precision, recall, _ = precision_recall_curve(y_test, y_prob)\n",
    "pr_auc = auc(recall, precision)\n",
    "\n",
    "# Plot Precision-Recall curve\n",
    "plt.figure(figsize=(6, 4))\n",
    "plt.plot(recall, precision, label=f'PR Curve (AUC = {pr_auc:.2f}')\n",
    "plt.xlabel('Recall')\n",
    "plt.ylabel('Precision')\n",
    "plt.title('Precision-Recall Curve')\n",
    "plt.legend()\n",
    "plt.show()\n",
    "\n",
    "# Print model accuracy\n",
    "accuracy = accuracy_score(y_test, model.predict(X_test_scaled))\n",
    "print(f\"Model Accuracy with C=0.5: {accuracy:.2f}\")\n",
    "print(f\"Precision-Recall AUC: {pr_auc:.2f}\")\n"
   ]
  },
  {
   "cell_type": "code",
   "execution_count": 27,
   "metadata": {},
   "outputs": [],
   "source": [
    "#21-Write a Python program to train Logistic Regression with different solvers (liblinear, saga, lbfgs) and compare\n",
    "#their accuracy\n",
    "\n",
    "import pandas as pd\n",
    "import numpy as np\n",
    "import matplotlib.pyplot as plt\n",
    "import seaborn as sns\n",
    "from sklearn.model_selection import train_test_split\n",
    "from sklearn.preprocessing import StandardScaler\n",
    "from sklearn.linear_model import LogisticRegression\n",
    "from sklearn.metrics import accuracy_score\n",
    "from sklearn.datasets import load_breast_cancer\n",
    "\n",
    "# Load dataset (Breast Cancer dataset for binary classification)\n",
    "data = load_breast_cancer()\n",
    "df = pd.DataFrame(data.data, columns=data.feature_names)\n",
    "y = data.target  # Target variable\n",
    "\n"
   ]
  },
  {
   "cell_type": "code",
   "execution_count": 28,
   "metadata": {},
   "outputs": [
    {
     "name": "stdout",
     "output_type": "stream",
     "text": [
      "Model Accuracy with solver=liblinear: 0.97\n",
      "Model Accuracy with solver=saga: 0.97\n",
      "Model Accuracy with solver=lbfgs: 0.97\n"
     ]
    },
    {
     "data": {
      "image/png": "[encoded data removed]",
      "text/plain": [
       "<Figure size 600x400 with 1 Axes>"
      ]
     },
     "metadata": {},
     "output_type": "display_data"
    }
   ],
   "source": [
    "# Split data into training and testing sets\n",
    "X_train, X_test, y_train, y_test = train_test_split(df, y, test_size=0.2, random_state=42)\n",
    "\n",
    "# Standardize features\n",
    "scaler = StandardScaler()\n",
    "X_train_scaled = scaler.fit_transform(X_train)\n",
    "X_test_scaled = scaler.transform(X_test)\n",
    "\n",
    "# Define solvers to compare\n",
    "solvers = ['liblinear', 'saga', 'lbfgs']\n",
    "solver_accuracies = {}\n",
    "\n",
    "# Train Logistic Regression model with different solvers\n",
    "for solver in solvers:\n",
    "    model = LogisticRegression(solver=solver, max_iter=5000)\n",
    "    model.fit(X_train_scaled, y_train)\n",
    "    y_pred = model.predict(X_test_scaled)\n",
    "    accuracy = accuracy_score(y_test, y_pred)\n",
    "    solver_accuracies[solver] = accuracy\n",
    "    print(f\"Model Accuracy with solver={solver}: {accuracy:.2f}\")\n",
    "\n",
    "# Plot solver comparison\n",
    "plt.figure(figsize=(6, 4))\n",
    "plt.bar(solver_accuracies.keys(), solver_accuracies.values(), color=['blue', 'green', 'red'])\n",
    "plt.xlabel('Solver')\n",
    "plt.ylabel('Accuracy')\n",
    "plt.title('Comparison of Logistic Regression Solvers')\n",
    "plt.ylim(0.9, 1.0)\n",
    "plt.show()"
   ]
  },
  {
   "cell_type": "code",
   "execution_count": 29,
   "metadata": {},
   "outputs": [],
   "source": [
    "#22- Write a Python program to train Logistic Regression and evaluate its performance using Matthews\n",
    "#Correlation Coefficient (MCC)\n",
    "import pandas as pd\n",
    "import numpy as np\n",
    "import matplotlib.pyplot as plt\n",
    "import seaborn as sns\n",
    "from sklearn.model_selection import train_test_split\n",
    "from sklearn.preprocessing import StandardScaler\n",
    "from sklearn.linear_model import LogisticRegression\n",
    "from sklearn.metrics import accuracy_score, matthews_corrcoef\n",
    "from sklearn.datasets import load_breast_cancer\n",
    "\n",
    "# Load dataset (Breast Cancer dataset for binary classification)\n",
    "data = load_breast_cancer()\n",
    "df = pd.DataFrame(data.data, columns=data.feature_names)\n",
    "y = data.target  # Target variable\n",
    "\n"
   ]
  },
  {
   "cell_type": "code",
   "execution_count": 30,
   "metadata": {},
   "outputs": [
    {
     "name": "stdout",
     "output_type": "stream",
     "text": [
      "Model Accuracy: 0.97\n",
      "Matthews Correlation Coefficient (MCC): 0.94\n"
     ]
    }
   ],
   "source": [
    "# Split data into training and testing sets\n",
    "X_train, X_test, y_train, y_test = train_test_split(df, y, test_size=0.2, random_state=42)\n",
    "\n",
    "# Standardize features\n",
    "scaler = StandardScaler()\n",
    "X_train_scaled = scaler.fit_transform(X_train)\n",
    "X_test_scaled = scaler.transform(X_test)\n",
    "\n",
    "# Train Logistic Regression model\n",
    "model = LogisticRegression(max_iter=5000)\n",
    "model.fit(X_train_scaled, y_train)\n",
    "\n",
    "# Predict on test set\n",
    "y_pred = model.predict(X_test_scaled)\n",
    "\n",
    "# Compute accuracy\n",
    "accuracy = accuracy_score(y_test, y_pred)\n",
    "print(f\"Model Accuracy: {accuracy:.2f}\")\n",
    "\n",
    "# Compute Matthews Correlation Coefficient (MCC)\n",
    "mcc_score = matthews_corrcoef(y_test, y_pred)\n",
    "print(f\"Matthews Correlation Coefficient (MCC): {mcc_score:.2f}\")\n"
   ]
  },
  {
   "cell_type": "code",
   "execution_count": null,
   "metadata": {},
   "outputs": [],
   "source": [
    "#23-Write a Python program to train Logistic Regression on both raw and standardized data. Compare their\n",
    "#accuracy to see the impact of feature scaling\n",
    "import pandas as pd\n",
    "import numpy as np\n",
    "import matplotlib.pyplot as plt\n",
    "import seaborn as sns\n",
    "from sklearn.model_selection import train_test_split\n",
    "from sklearn.preprocessing import StandardScaler\n",
    "from sklearn.linear_model import LogisticRegression\n",
    "from sklearn.metrics import accuracy_score\n",
    "from sklearn.datasets import load_breast_cancer\n",
    "\n",
    "# Load dataset (Breast Cancer dataset for binary classification)\n",
    "data = load_breast_cancer()\n",
    "df = pd.DataFrame(data.data, columns=data.feature_names)\n",
    "y = data.target  # Target variable\n",
    "\n",
    "# Split data into training and testing sets\n",
    "X_train, X_test, y_train, y_test = train_test_split(df, y, test_size=0.2, random_state=42)\n",
    "\n",
    "# Train Logistic Regression on raw data\n",
    "model_raw = LogisticRegression(max_iter=5000)\n",
    "model_raw.fit(X_train, y_train)\n",
    "y_pred_raw = model_raw.predict(X_test)\n",
    "accuracy_raw = accuracy_score(y_test, y_pred_raw)\n",
    "\n"
   ]
  },
  {
   "cell_type": "code",
   "execution_count": 32,
   "metadata": {},
   "outputs": [
    {
     "name": "stdout",
     "output_type": "stream",
     "text": [
      "Model Accuracy on Raw Data: 0.96\n",
      "Model Accuracy on Standardized Data: 0.97\n"
     ]
    },
    {
     "data": {
      "image/png": "[encoded data removed]",
      "text/plain": [
       "<Figure size 600x400 with 1 Axes>"
      ]
     },
     "metadata": {},
     "output_type": "display_data"
    }
   ],
   "source": [
    "# Standardize features\n",
    "scaler = StandardScaler()\n",
    "X_train_scaled = scaler.fit_transform(X_train)\n",
    "X_test_scaled = scaler.transform(X_test)\n",
    "\n",
    "# Train Logistic Regression on standardized data\n",
    "model_scaled = LogisticRegression(max_iter=5000)\n",
    "model_scaled.fit(X_train_scaled, y_train)\n",
    "y_pred_scaled = model_scaled.predict(X_test_scaled)\n",
    "accuracy_scaled = accuracy_score(y_test, y_pred_scaled)\n",
    "\n",
    "# Print comparison of accuracy\n",
    "print(f\"Model Accuracy on Raw Data: {accuracy_raw:.2f}\")\n",
    "print(f\"Model Accuracy on Standardized Data: {accuracy_scaled:.2f}\")\n",
    "\n",
    "# Plot accuracy comparison\n",
    "plt.figure(figsize=(6, 4))\n",
    "plt.bar(['Raw Data', 'Standardized Data'], [accuracy_raw, accuracy_scaled], color=['red', 'blue'])\n",
    "plt.xlabel('Data Type')\n",
    "plt.ylabel('Accuracy')\n",
    "plt.title('Impact of Feature Scaling on Logistic Regression')\n",
    "plt.ylim(0.9, 1.0)\n",
    "plt.show()\n"
   ]
  },
  {
   "cell_type": "code",
   "execution_count": null,
   "metadata": {},
   "outputs": [],
   "source": []
  }
 ],
 "metadata": {
  "kernelspec": {
   "display_name": "Python 3",
   "language": "python",
   "name": "python3"
  },
  "language_info": {
   "codemirror_mode": {
    "name": "ipython",
    "version": 3
   },
   "file_extension": ".py",
   "mimetype": "text/x-python",
   "name": "python",
   "nbconvert_exporter": "python",
   "pygments_lexer": "ipython3",
   "version": "3.11.4"
  }
 },
 "nbformat": 4,
 "nbformat_minor": 2
}
