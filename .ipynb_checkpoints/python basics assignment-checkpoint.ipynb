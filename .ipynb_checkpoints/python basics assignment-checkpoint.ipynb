{
 "cells": [
  {
   "cell_type": "code",
   "execution_count": null,
   "id": "ccd57708-e29d-43a6-aafb-0bdf5f300128",
   "metadata": {},
   "outputs": [],
   "source": [
    "#A1-key features of python making it apopular choice for programming.\n",
    "\n",
    "#1-widely used in industry.\n",
    "#2-widely used in data industry.\n",
    "#3-a lot of libraries where all the optimised and well written codes are already kept.\n",
    "#4-with the help of python u can work on front end,back end and data analysis.\n",
    "#5-in automation\n",
    "#6-image processing.\n",
    "#7-databases."
   ]
  },
  {
   "cell_type": "code",
   "execution_count": 1,
   "id": "693d7ba1-8093-44ca-8a85-51afc4253c48",
   "metadata": {},
   "outputs": [
    {
     "name": "stdout",
     "output_type": "stream",
     "text": [
      "hello world!!\n"
     ]
    }
   ],
   "source": [
    "#A2-Role of predefined keywords in python and examples of how they r used in a program\n",
    "\n",
    "#1-Keywords are reserved words in Python that have special meanings and cannot be used as identifiers (variable names, function names, etc.). \n",
    "#2-Examples of keywords include if, else, while, for, def, class, import, try, except, return, True, False, None, etc.\n",
    "#3-Keywords are case-sensitive and cannot be redefined or overridden within a Python program.\n",
    "\n",
    "#examples\n",
    "\n",
    "print(\"hello world!!\")"
   ]
  },
  {
   "cell_type": "code",
   "execution_count": null,
   "id": "2cf45e21-8573-49de-aea5-75c99b156fcc",
   "metadata": {},
   "outputs": [],
   "source": [
    "#A3-Mutable and Immutable Objects in Python\n",
    "\n",
    "#In Python, objects can be either changeable (modifiable) or unchangeable (unchangeable). \n",
    "#Mutable objects, such as lists and dictionaries, can be modified after creation, while immutable objects, such as tuples and strings, cannot. \n",
    "#Mutability affects how objects are stored and manipulated in memory, impacting performance, memory usage, and concurrency in Python programs."
   ]
  },
  {
   "cell_type": "code",
   "execution_count": 2,
   "id": "ea53f1ab-0b7c-4a5d-afcf-730d51aa606b",
   "metadata": {},
   "outputs": [
    {
     "data": {
      "text/plain": [
       "5"
      ]
     },
     "execution_count": 2,
     "metadata": {},
     "output_type": "execute_result"
    }
   ],
   "source": [
    "#A4-Different types of operators in python and examples of how they are used\n",
    "\n",
    "#keywords or symbols that are used to perform operations on values or variables.\n",
    "\n",
    "#why we use them-manage data,computation of data,decision making.\n",
    "\n",
    "a=2\n",
    "b=3\n",
    "a+b\n",
    "#+,-,*,/,%,^ are all examples of aithmetic operators.\n"
   ]
  },
  {
   "cell_type": "code",
   "execution_count": 3,
   "id": "d850ba18-1b28-447d-9d7a-a7160a167926",
   "metadata": {},
   "outputs": [
    {
     "data": {
      "text/plain": [
       "int"
      ]
     },
     "execution_count": 3,
     "metadata": {},
     "output_type": "execute_result"
    }
   ],
   "source": [
    "#A5-type casting with examples.\n",
    "\n",
    "#Type casting, also referred to as type conversion,is the process of changing one data type to another in Python. \n",
    "#Python provides built-in functions for type casting, such as int(), float(), str(), list(), tuple(), dict(), etc.\n",
    "#Type casting is often necessary for performing arithmetic operations, data manipulation, and input/output operations in Python programs\n",
    "\n",
    "#examples\n",
    "\n",
    "a=2\n",
    "type(a)\n"
   ]
  },
  {
   "cell_type": "code",
   "execution_count": 6,
   "id": "a5ca9452-b0b6-47c0-8edf-cd6ea4d0cc62",
   "metadata": {},
   "outputs": [
    {
     "data": {
      "text/plain": [
       "float"
      ]
     },
     "execution_count": 6,
     "metadata": {},
     "output_type": "execute_result"
    }
   ],
   "source": [
    "a=3.4\n",
    "type(a)"
   ]
  },
  {
   "cell_type": "code",
   "execution_count": 7,
   "id": "f779664f-6ec9-4ca3-a1c1-d6f500eeaa30",
   "metadata": {},
   "outputs": [
    {
     "data": {
      "text/plain": [
       "3"
      ]
     },
     "execution_count": 7,
     "metadata": {},
     "output_type": "execute_result"
    }
   ],
   "source": [
    "#casting to int value\n",
    "int(a)"
   ]
  },
  {
   "cell_type": "code",
   "execution_count": 1,
   "id": "621e936d-3b75-4cc3-bf9a-a63c23f6ecf7",
   "metadata": {},
   "outputs": [
    {
     "name": "stdout",
     "output_type": "stream",
     "text": [
      "the no. is greater than 0\n"
     ]
    }
   ],
   "source": [
    "#A6-Conditional STATEMENTS with examples\n",
    "\n",
    "#Conditionals in Python are used to execute code based on the evaluation of one or more conditions.\n",
    "#Python supports conditional statements such as if, elif (else if), and else to control the flow of execution.\n",
    "#Conditionals can be nested to handle multiple conditions and control different branches of execution based on the outcome of logical expressions.\n",
    "\n",
    "#Examples\n",
    "#if example\n",
    "a=100\n",
    "if(a>0):#execute if block if the no is greater than 0.\n",
    "    print(\"the no. is greater than 0\")\n",
    "    \n",
    "    "
   ]
  },
  {
   "cell_type": "code",
   "execution_count": 2,
   "id": "366d6ac6-b17c-470e-889f-6c986bbee30b",
   "metadata": {},
   "outputs": [],
   "source": [
    "\n",
    "if(a<0):#execute if block if the no. is greater than 0.\n",
    "    print(\"the no. is greater than 0\")"
   ]
  },
  {
   "cell_type": "code",
   "execution_count": 3,
   "id": "cd06c86b-ca12-4546-9b85-b006db8fb3b1",
   "metadata": {},
   "outputs": [
    {
     "name": "stdout",
     "output_type": "stream",
     "text": [
      "the no. is equal to 100\n"
     ]
    }
   ],
   "source": [
    "#elif example\n",
    "a=100\n",
    "if(a>100):\n",
    "    print(\"this block will be executed if a is greater than 100\")\n",
    "elif(a<100):\n",
    "    print(\"this block will be executed if a is lesser than 100\")\n",
    "else:\n",
    "    print(\"the no. is equal to 100\")"
   ]
  },
  {
   "cell_type": "code",
   "execution_count": 4,
   "id": "775f2794-bb30-44a4-8c26-2c0585415b52",
   "metadata": {},
   "outputs": [
    {
     "name": "stdout",
     "output_type": "stream",
     "text": [
      "5\n",
      "4\n",
      "3\n",
      "2\n",
      "1\n"
     ]
    }
   ],
   "source": [
    "#A7-loops in python and their used cases with examples\n",
    "\n",
    "#In Python, loops are employed to repeat a sequence of actions or code until a specific condition is fulfilled. \n",
    "#Python offers two primary types of loops: for loops and while loops. \n",
    "#“for” loops are used for iterating over a sequence of elements, while “while” loops are used for executing code until a specified condition becomes False\n",
    "\n",
    "#examples\n",
    "#while loop\n",
    "count=5\n",
    "while(count>0):\n",
    "    print(count)\n",
    "    count=count-1"
   ]
  },
  {
   "cell_type": "code",
   "execution_count": 5,
   "id": "594a4371-4298-4e78-91e3-93eabe519bb3",
   "metadata": {},
   "outputs": [
    {
     "name": "stdout",
     "output_type": "stream",
     "text": [
      "p\n",
      "w\n",
      "s\n",
      "k\n",
      "i\n",
      "l\n",
      "l\n",
      "s\n"
     ]
    }
   ],
   "source": [
    "#for loop\n",
    "for i in \"pwskills\":\n",
    "    print(i)\n"
   ]
  },
  {
   "cell_type": "code",
   "execution_count": 6,
   "id": "36242c97-8701-4cbc-b86c-7bc90ea18ce8",
   "metadata": {},
   "outputs": [
    {
     "name": "stdout",
     "output_type": "stream",
     "text": [
      "p\n",
      "w\n",
      "s\n",
      "k\n",
      "i\n",
      "l\n",
      "l\n",
      "s\n"
     ]
    }
   ],
   "source": [
    "a=\"pwskills\"\n",
    "for i in a:\n",
    "    print(i)"
   ]
  },
  {
   "cell_type": "code",
   "execution_count": null,
   "id": "25769c00-7ae0-40dc-8fe3-939bde939a4e",
   "metadata": {},
   "outputs": [],
   "source": []
  }
 ],
 "metadata": {
  "kernelspec": {
   "display_name": "Python 3 (ipykernel)",
   "language": "python",
   "name": "python3"
  },
  "language_info": {
   "codemirror_mode": {
    "name": "ipython",
    "version": 3
   },
   "file_extension": ".py",
   "mimetype": "text/x-python",
   "name": "python",
   "nbconvert_exporter": "python",
   "pygments_lexer": "ipython3",
   "version": "3.10.8"
  }
 },
 "nbformat": 4,
 "nbformat_minor": 5
}
