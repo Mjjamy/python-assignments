{
 "cells": [
  {
   "cell_type": "code",
   "execution_count": 2,
   "metadata": {},
   "outputs": [
    {
     "name": "stdout",
     "output_type": "stream",
     "text": [
      "Original: Hello, world!\n",
      "Reversed: !dlrow ,olleH\n"
     ]
    }
   ],
   "source": [
    "#1-Write a code to reverse a string \n",
    "\n",
    "def reverse_string(s):\n",
    "    return s[::-1]\n",
    "\n",
    "\n",
    "original = \"Hello, world!\"\n",
    "reversed_str = reverse_string(original)\n",
    "print(\"Original:\", original)\n",
    "print(\"Reversed:\", reversed_str)\n"
   ]
  },
  {
   "cell_type": "code",
   "execution_count": 3,
   "metadata": {},
   "outputs": [
    {
     "name": "stdout",
     "output_type": "stream",
     "text": [
      "Number of vowels: 10\n"
     ]
    }
   ],
   "source": [
    "#2-Write a code to count the number of vowels in a string\n",
    "\n",
    "def count_vowels(s):\n",
    "    vowels = 'aeiouAEIOU'\n",
    "    return sum(1 for char in s if char in vowels)\n",
    "\n",
    "\n",
    "text = \"Hello, how many vowels are here?\"\n",
    "vowel_count = count_vowels(text)\n",
    "print(\"Number of vowels:\", vowel_count)\n"
   ]
  },
  {
   "cell_type": "code",
   "execution_count": 4,
   "metadata": {},
   "outputs": [
    {
     "name": "stdout",
     "output_type": "stream",
     "text": [
      "\"Maam\" is a palindrome.\n"
     ]
    }
   ],
   "source": [
    "#3- Write a code to check if a given string is a palindrome or not.\n",
    "\n",
    "def is_palindrome(s):\n",
    "    s = s.lower().replace(\" \", \"\") \n",
    "    return s == s[::-1]\n",
    "\n",
    "\n",
    "text = \"Maam\"\n",
    "if is_palindrome(text):\n",
    "    print(f'\"{text}\" is a palindrome.')\n",
    "else:\n",
    "    print(f'\"{text}\" is not a palindrome.')\n",
    "\n"
   ]
  },
  {
   "cell_type": "code",
   "execution_count": 5,
   "metadata": {},
   "outputs": [],
   "source": [
    "#4-Write a code to check if two given strings are anagrams of each other"
   ]
  },
  {
   "cell_type": "code",
   "execution_count": 6,
   "metadata": {},
   "outputs": [
    {
     "name": "stdout",
     "output_type": "stream",
     "text": [
      "'Python' found at positions: [0, 15]\n"
     ]
    }
   ],
   "source": [
    "#5-Write a code to find all occurrences of a given substring within another string\n",
    "\n",
    "def find_all_occurrences(text, substring):\n",
    "    indices = []\n",
    "    start = 0\n",
    "    while True:\n",
    "        index = text.find(substring, start)\n",
    "        if index == -1:\n",
    "            break\n",
    "        indices.append(index)\n",
    "        start = index + 1  \n",
    "    return indices\n",
    "\n",
    "\n",
    "main_text = \"Python is good.Python is easy to learn.\"\n",
    "sub = \"Python\"\n",
    "positions = find_all_occurrences(main_text, sub)\n",
    "print(f\"'{sub}' found at positions:\", positions)\n"
   ]
  },
  {
   "cell_type": "code",
   "execution_count": 7,
   "metadata": {},
   "outputs": [],
   "source": [
    "#6-Write a code to perform basic string compression using the counts of repeated characters."
   ]
  },
  {
   "cell_type": "code",
   "execution_count": 8,
   "metadata": {},
   "outputs": [
    {
     "name": "stdout",
     "output_type": "stream",
     "text": [
      "\"hijklm\" has all unique characters.\n"
     ]
    }
   ],
   "source": [
    "#7-Write a code to determine if a string has all unique characters\n",
    "\n",
    "def has_all_unique_chars(s):\n",
    "    return len(set(s)) == len(s)\n",
    "\n",
    "# Example usage\n",
    "text = \"hijklm\"\n",
    "if has_all_unique_chars(text):\n",
    "    print(f'\"{text}\" has all unique characters.')\n",
    "else:\n",
    "    print(f'\"{text}\" does NOT have all unique characters.')\n"
   ]
  },
  {
   "cell_type": "code",
   "execution_count": 9,
   "metadata": {},
   "outputs": [
    {
     "name": "stdout",
     "output_type": "stream",
     "text": [
      "Uppercase: HELLO, PYTHON!\n",
      "Lowercase: hello, python!\n"
     ]
    }
   ],
   "source": [
    "#8- Write a code to convert a given string to uppercase or lowercase\n",
    "\n",
    "def convert_case(s, to_upper=True):\n",
    "    return s.upper() if to_upper else s.lower()\n",
    "\n",
    "\n",
    "text = \"Hello, Python!\"\n",
    "print(\"Uppercase:\", convert_case(text, to_upper=True))\n",
    "print(\"Lowercase:\", convert_case(text, to_upper=False))\n"
   ]
  },
  {
   "cell_type": "code",
   "execution_count": 10,
   "metadata": {},
   "outputs": [
    {
     "name": "stdout",
     "output_type": "stream",
     "text": [
      "Number of words: 5\n"
     ]
    }
   ],
   "source": [
    "#9- Write a code to count the number of words in a string\n",
    "\n",
    "def count_words(s):\n",
    "    words = s.split()\n",
    "    return len(words)\n",
    "\n",
    "\n",
    "text = \"This is a simple sentence.\"\n",
    "word_count = count_words(text)\n",
    "print(\"Number of words:\", word_count)\n"
   ]
  },
  {
   "cell_type": "code",
   "execution_count": 11,
   "metadata": {},
   "outputs": [
    {
     "name": "stdout",
     "output_type": "stream",
     "text": [
      "Concatenated String: pwskills\n"
     ]
    }
   ],
   "source": [
    "#10- Write a code to concatenate two strings without using the + operator\n",
    "\n",
    "def concatenate_strings(str1, str2):\n",
    "    return ''.join([str1, str2])\n",
    "\n",
    "\n",
    "string1 = \"pw\"\n",
    "string2 = \"skills\"\n",
    "result = concatenate_strings(string1, string2)\n",
    "print(\"Concatenated String:\", result)\n"
   ]
  },
  {
   "cell_type": "code",
   "execution_count": 12,
   "metadata": {},
   "outputs": [
    {
     "name": "stdout",
     "output_type": "stream",
     "text": [
      "Updated List: [1, 2, 4, 5]\n"
     ]
    }
   ],
   "source": [
    "#11-Write a code to remove all occurrences of a specific element from a list\n",
    "\n",
    "def rem_element(lst, element):\n",
    "    return [x for x in lst if x != element]\n",
    "\n",
    "\n",
    "my_list = [1, 2, 3, 4, 3, 5, 3]\n",
    "elem_to_remove = 3\n",
    "updated_list = rem_element(my_list, elem_to_remove)\n",
    "print(\"Updated List:\", updated_list)\n"
   ]
  },
  {
   "cell_type": "code",
   "execution_count": 13,
   "metadata": {},
   "outputs": [],
   "source": [
    "#12- Implement a code to find the second largest number in a given list of integers"
   ]
  },
  {
   "cell_type": "code",
   "execution_count": 14,
   "metadata": {},
   "outputs": [
    {
     "name": "stdout",
     "output_type": "stream",
     "text": [
      "counts: {1: 1, 2: 1, 3: 2, 4: 3}\n"
     ]
    }
   ],
   "source": [
    "#13-Create a code to count the occurrences of each element in a list and return a dictionary with elements as\n",
    "#keys and their counts as values\n",
    "\n",
    "def count_occurr(lst):\n",
    "    count_dict = {}\n",
    "    for element in lst:\n",
    "        if element in count_dict:\n",
    "            count_dict[element] += 1\n",
    "        else:\n",
    "            count_dict[element] = 1\n",
    "    return count_dict\n",
    "\n",
    "\n",
    "my_list = [1, 2, 3, 3, 4, 4, 4]\n",
    "occurr = count_occurr(my_list)\n",
    "print(\"counts:\", occurr)\n"
   ]
  },
  {
   "cell_type": "code",
   "execution_count": 15,
   "metadata": {},
   "outputs": [
    {
     "name": "stdout",
     "output_type": "stream",
     "text": [
      "Reversed List: [10, 9, 8, 7, 6]\n"
     ]
    }
   ],
   "source": [
    "#14-Write a code to reverse a list in-place without using any built-in reverse functions\n",
    "\n",
    "def rev_list_inplace(lst):\n",
    "    start = 0\n",
    "    end = len(lst) - 1\n",
    "    while start < end:\n",
    "        \n",
    "        lst[start], lst[end] = lst[end], lst[start]\n",
    "        start += 1\n",
    "        end -= 1\n",
    "\n",
    "\n",
    "my_list = [6,7,8,9,10]\n",
    "rev_list_inplace(my_list)\n",
    "print(\"Reversed List:\", my_list)\n"
   ]
  },
  {
   "cell_type": "code",
   "execution_count": 16,
   "metadata": {},
   "outputs": [
    {
     "name": "stdout",
     "output_type": "stream",
     "text": [
      "List after removing duplicates: [1, 2, 3, 4, 5, 6]\n"
     ]
    }
   ],
   "source": [
    "#15-Implement a code to find and remove duplicates from a list while preserving the original order of\n",
    "\n",
    "#elements\n",
    "\n",
    "def rem_dup(lst):\n",
    "    seen = set()\n",
    "    result = []\n",
    "    for element in lst:\n",
    "        if element not in seen:\n",
    "            result.append(element)\n",
    "            seen.add(element)\n",
    "    return result\n",
    "\n",
    "\n",
    "my_list = [1, 2, 3, 4, 5,6,6, 1]\n",
    "upd_list = rem_dup(my_list)\n",
    "print(\"List after removing duplicates:\", upd_list)\n"
   ]
  },
  {
   "cell_type": "code",
   "execution_count": 17,
   "metadata": {},
   "outputs": [
    {
     "name": "stdout",
     "output_type": "stream",
     "text": [
      "The list is sorted in: Ascending\n"
     ]
    }
   ],
   "source": [
    "#16-Create a code to check if a given list is sorted (either in ascending or descending order) or not\n",
    "def is_sort(lst):\n",
    "    \n",
    "    if lst == sorted(lst):\n",
    "        return \"Ascending\"\n",
    "    \n",
    "    elif lst == sorted(lst, reverse=True):\n",
    "        return \"Descending\"\n",
    "    else:\n",
    "        return \"Not sorted\"\n",
    "\n",
    "# Example usage\n",
    "my_list = [1, 2, 3, 4, 5]\n",
    "result = is_sort(my_list)\n",
    "print(f\"The list is sorted in: {result}\")\n"
   ]
  },
  {
   "cell_type": "code",
   "execution_count": 18,
   "metadata": {},
   "outputs": [],
   "source": [
    "#17-Write a code to merge two sorted lists into a single sorted list"
   ]
  },
  {
   "cell_type": "code",
   "execution_count": 19,
   "metadata": {},
   "outputs": [
    {
     "name": "stdout",
     "output_type": "stream",
     "text": [
      "Intersection of lists: [2, 3]\n"
     ]
    }
   ],
   "source": [
    "#18-Implement a code to find the intersection of two given lists\n",
    "\n",
    "def list_inter(list1, list2):\n",
    "    return list(set(list1) & set(list2))\n",
    "\n",
    "\n",
    "list1 = [1, 2, 3, 4, 5]\n",
    "list2 = [2,3, 6, 7, 8]\n",
    "intersection = list_inter(list1, list2)\n",
    "print(\"Intersection of lists:\", intersection)\n"
   ]
  },
  {
   "cell_type": "code",
   "execution_count": 20,
   "metadata": {},
   "outputs": [
    {
     "name": "stdout",
     "output_type": "stream",
     "text": [
      "Union of lists (no duplicates): [1, 2, 3, 4, 5, 6, 7]\n"
     ]
    }
   ],
   "source": [
    "#19- Create a code to find the union of two lists without duplicates\n",
    "\n",
    "def list_un(list1, list2):\n",
    "    return list(set(list1) | set(list2))\n",
    "\n",
    "\n",
    "list1 = [1, 2, 3, 4]\n",
    "list2 = [1, 4, 5, 6,7]\n",
    "union = list_un(list1, list2)\n",
    "print(\"Union of lists (no duplicates):\", union)\n"
   ]
  },
  {
   "cell_type": "code",
   "execution_count": 21,
   "metadata": {},
   "outputs": [],
   "source": [
    "#20-Write a code to shuffle a given list randomly without using any built-in shuffle functions"
   ]
  },
  {
   "cell_type": "code",
   "execution_count": 22,
   "metadata": {},
   "outputs": [
    {
     "name": "stdout",
     "output_type": "stream",
     "text": [
      "Common elements: (2, 3)\n"
     ]
    }
   ],
   "source": [
    "#21-Write a code that takes two tuples as input and returns a new tuple containing elements that are\n",
    "#common to both input tuples\n",
    "\n",
    "def common_el(tuple1, tuple2):\n",
    "    return tuple(set(tuple1) & set(tuple2))\n",
    "\n",
    "tuple_a = (1, 2, 3, 4, 5)\n",
    "tuple_b = (2,3, 6, 7, 8)\n",
    "common = common_el(tuple_a, tuple_b)\n",
    "print(\"Common elements:\", common)\n"
   ]
  },
  {
   "cell_type": "code",
   "execution_count": 23,
   "metadata": {},
   "outputs": [],
   "source": [
    "#22-Create a code that prompts the user to enter two sets of integers separated by commas"
   ]
  },
  {
   "cell_type": "code",
   "execution_count": 24,
   "metadata": {},
   "outputs": [
    {
     "name": "stdout",
     "output_type": "stream",
     "text": [
      "Concatenated Tuple: (1, 2, 3, 4, 5, 6)\n"
     ]
    }
   ],
   "source": [
    "#23-Write a code to concatenate two tuples\n",
    "def concatenate_tuples(t1, t2):\n",
    "    return t1 + t2\n",
    "\n",
    "\n",
    "tuple1 = (1, 2, 3)\n",
    "tuple2 = (4, 5, 6)\n",
    "result = concatenate_tuples(tuple1, tuple2)\n",
    "print(\"Concatenated Tuple:\", result)\n"
   ]
  }
 ],
 "metadata": {
  "kernelspec": {
   "display_name": "Python 3",
   "language": "python",
   "name": "python3"
  },
  "language_info": {
   "codemirror_mode": {
    "name": "ipython",
    "version": 3
   },
   "file_extension": ".py",
   "mimetype": "text/x-python",
   "name": "python",
   "nbconvert_exporter": "python",
   "pygments_lexer": "ipython3",
   "version": "3.11.4"
  }
 },
 "nbformat": 4,
 "nbformat_minor": 2
}
