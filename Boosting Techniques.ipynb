{
 "cells": [
  {
   "cell_type": "code",
   "execution_count": 1,
   "metadata": {},
   "outputs": [],
   "source": [
    "#1-What is Boosting in Machine Learning\n",
    "\n",
    "#Boosting is an ensemble technique that combines multiple weak learners sequentially, \n",
    "\n",
    "# where each new model focuses on correcting the errors made by the previous ones. It aims to convert weak models into a strong overall predictor"
   ]
  },
  {
   "cell_type": "code",
   "execution_count": 2,
   "metadata": {},
   "outputs": [],
   "source": [
    "#2-How does Boosting differ from Bagging\n",
    "\n",
    "#Boosting trains models sequentially, with each model learning from the mistakes of the previous ones\n",
    "\n",
    "#  while Bagging trains models independently in parallel. Boosting reduces bias, whereas Bagging primarily reduces variance."
   ]
  },
  {
   "cell_type": "code",
   "execution_count": 3,
   "metadata": {},
   "outputs": [],
   "source": [
    "#3-What is the key idea behind AdaBoost\n",
    "\n",
    "#The key idea behind AdaBoost is to combine multiple weak learners, typically decision stumps\n",
    "\n",
    "# by assigning higher weights to misclassified instances in each round. This way, each subsequent model focuses more on the harder-to-classify samples."
   ]
  },
  {
   "cell_type": "code",
   "execution_count": null,
   "metadata": {},
   "outputs": [],
   "source": [
    "#4-Explain the working of AdaBoost with an example\n",
    "\n",
    "#AdaBoost starts by training a weak learner (like a decision stump) on the full dataset\n",
    "\n",
    "#  then increases the weights of misclassified samples. For example, if a model misclassifies class A\n",
    "#  the next model focuses more on class A, and all models are combined for the final prediction."
   ]
  },
  {
   "cell_type": "code",
   "execution_count": 5,
   "metadata": {},
   "outputs": [],
   "source": [
    "#5-What is Gradient Boosting, and how is it different from AdaBoost\n",
    "\n",
    "#Gradient Boosting builds models sequentially by minimizing a loss function using gradient descent,\n",
    "\n",
    "#  focusing on residual errors.\n",
    "\n",
    "#  Unlike AdaBoost, which adjusts sample weights, Gradient Boosting fits new models to correct the previous model’s residuals"
   ]
  },
  {
   "cell_type": "code",
   "execution_count": 6,
   "metadata": {},
   "outputs": [],
   "source": [
    "#6-What is the loss function in Gradient Boosting\n",
    "\n",
    "#The loss function in Gradient Boosting measures the difference between the actual and predicted values, guiding model improvement.\n",
    "\n",
    "#  Common examples include Mean Squared Error for regression and Log Loss for classification tasks."
   ]
  },
  {
   "cell_type": "code",
   "execution_count": 7,
   "metadata": {},
   "outputs": [],
   "source": [
    "#7- How does XGBoost improve over traditional Gradient Boosting\n",
    "\n",
    "#XGBoost improves traditional Gradient Boosting by using optimized gradient computation,\n",
    "\n",
    "#  regularization to prevent overfitting, and parallel processing for speed.\n",
    "\n",
    "#  It also handles missing values and supports early stopping for better performance."
   ]
  },
  {
   "cell_type": "code",
   "execution_count": 8,
   "metadata": {},
   "outputs": [],
   "source": [
    "#8-What is the difference between XGBoost and CatBoost\n",
    "\n",
    "#XGBoost is highly efficient and customizable but requires manual preprocessing of categorical features.\n",
    "\n",
    "#  CatBoost automatically handles categorical variables and reduces overfitting with advanced techniques like ordered boosting"
   ]
  },
  {
   "cell_type": "code",
   "execution_count": 9,
   "metadata": {},
   "outputs": [],
   "source": [
    "#9-What are some real-world applications of Boosting techniques\n",
    "\n",
    "#Boosting techniques are widely used in fraud detection, credit scoring, and customer churn prediction.\n",
    "\n",
    "#  They're also popular in image classification, recommendation systems, and search ranking"
   ]
  },
  {
   "cell_type": "code",
   "execution_count": 10,
   "metadata": {},
   "outputs": [],
   "source": [
    "#10- How does regularization help in XGBoost\n",
    "\n",
    "\n",
    "#Regularization in XGBoost penalizes model complexity by adding terms to the loss function, helping to prevent overfitting. \n",
    "\n",
    "# It controls the depth and number of leaves in trees, promoting simpler, more generalizable models."
   ]
  },
  {
   "cell_type": "code",
   "execution_count": 11,
   "metadata": {},
   "outputs": [],
   "source": [
    "#11-What are some hyperparameters to tune in Gradient Boosting models\n",
    "\n",
    "#Some key hyperparameters to tune in Gradient Boosting models include:\n",
    "\n",
    "#n_estimators: Number of boosting rounds (trees).\n",
    "\n",
    "#learning_rate: Step size for each iteration, controlling the model's contribution.\n",
    "\n",
    "#max_depth: Maximum depth of individual trees.\n",
    "\n",
    "#min_samples_split: Minimum samples required to split an internal node.\n",
    "\n",
    "#subsample: Fraction of samples used for fitting each tree (controls overfitting).\n",
    "\n",
    "#loss: Type of loss function (e.g., 'ls' for least squares, 'deviance' for logistic regression)"
   ]
  },
  {
   "cell_type": "code",
   "execution_count": 12,
   "metadata": {},
   "outputs": [],
   "source": [
    "#12-What is the concept of Feature Importance in Boosting\n",
    "\n",
    "#Feature importance in Boosting models measures the contribution of each feature in making accurate predictions.\n",
    "\n",
    "#  It is typically calculated by evaluating the decrease in the model's loss function when a feature is used in the decision trees"
   ]
  },
  {
   "cell_type": "code",
   "execution_count": 13,
   "metadata": {},
   "outputs": [],
   "source": [
    "#13-Why is CatBoost efficient for categorical data\n",
    "\n",
    "#CatBoost is efficient for categorical data because it automatically handles categorical features by using techniques like ordered boosting and target encoding.\n",
    "\n",
    "#  This reduces the need for manual preprocessing and avoids overfitting by properly dealing with the inherent structure of categorical variables."
   ]
  },
  {
   "cell_type": "code",
   "execution_count": 14,
   "metadata": {},
   "outputs": [],
   "source": [
    "#PRACTICAL\n",
    "\n",
    "#14-Train an AdaBoost Classifier on a sample dataset and print model accuracy\n",
    "\n",
    "from sklearn.ensemble import AdaBoostClassifier\n",
    "from sklearn.datasets import load_iris\n",
    "from sklearn.model_selection import train_test_split\n",
    "from sklearn.metrics import accuracy_score\n",
    "\n",
    "\n",
    "data = load_iris()\n",
    "X = data.data\n",
    "y = data.target\n",
    "\n",
    "\n",
    "X_train, X_test, y_train, y_test = train_test_split(X, y, test_size=0.3, random_state=1)\n",
    "\n",
    "\n",
    "ada_boost = AdaBoostClassifier(n_estimators=50, random_state=1)\n",
    "\n",
    "\n"
   ]
  },
  {
   "cell_type": "code",
   "execution_count": 15,
   "metadata": {},
   "outputs": [
    {
     "name": "stderr",
     "output_type": "stream",
     "text": [
      "c:\\Users\\Dell\\AppData\\Local\\Programs\\Python\\Python311\\Lib\\site-packages\\sklearn\\ensemble\\_weight_boosting.py:519: FutureWarning: The SAMME.R algorithm (the default) is deprecated and will be removed in 1.6. Use the SAMME algorithm to circumvent this warning.\n",
      "  warnings.warn(\n"
     ]
    },
    {
     "name": "stdout",
     "output_type": "stream",
     "text": [
      "Accuracy of AdaBoost Classifier: 95.56%\n"
     ]
    }
   ],
   "source": [
    "ada_boost.fit(X_train, y_train)\n",
    "\n",
    "\n",
    "y_pred = ada_boost.predict(X_test)\n",
    "\n",
    "\n",
    "accuracy = accuracy_score(y_test, y_pred)\n",
    "\n",
    "\n",
    "print(f\"Accuracy of AdaBoost Classifier: {accuracy * 100:.2f}%\")\n"
   ]
  },
  {
   "cell_type": "code",
   "execution_count": 16,
   "metadata": {},
   "outputs": [],
   "source": [
    "#15-Train an AdaBoost Regressor and evaluate performance using Mean Absolute Error (MAE)\n",
    "\n",
    "from sklearn.ensemble import AdaBoostRegressor\n",
    "from sklearn.datasets import fetch_california_housing\n",
    "from sklearn.model_selection import train_test_split\n",
    "from sklearn.metrics import mean_absolute_error\n",
    "\n",
    "\n",
    "data = fetch_california_housing()\n",
    "X = data.data\n",
    "y = data.target\n",
    "\n",
    "\n",
    "X_train, X_test, y_train, y_test = train_test_split(X, y, test_size=0.3, random_state=1)\n",
    "\n",
    "\n",
    "\n",
    "\n"
   ]
  },
  {
   "cell_type": "code",
   "execution_count": 17,
   "metadata": {},
   "outputs": [
    {
     "name": "stdout",
     "output_type": "stream",
     "text": [
      "Mean Absolute Error (MAE) of AdaBoost Regressor: 0.84\n"
     ]
    }
   ],
   "source": [
    "ada_boost_regressor = AdaBoostRegressor(n_estimators=50, random_state=1)\n",
    "\n",
    "ada_boost_regressor.fit(X_train, y_train)\n",
    "\n",
    "y_pred = ada_boost_regressor.predict(X_test)\n",
    "\n",
    "mae = mean_absolute_error(y_test, y_pred)\n",
    "\n",
    "print(f\"Mean Absolute Error (MAE) of AdaBoost Regressor: {mae:.2f}\")"
   ]
  },
  {
   "cell_type": "code",
   "execution_count": 18,
   "metadata": {},
   "outputs": [],
   "source": [
    "#16-Train a Gradient Boosting Classifier on the Breast Cancer dataset and print feature importance\n",
    "\n",
    "from sklearn.ensemble import GradientBoostingClassifier\n",
    "from sklearn.datasets import load_breast_cancer\n",
    "from sklearn.model_selection import train_test_split\n",
    "import matplotlib.pyplot as plt\n",
    "\n",
    "\n",
    "data = load_breast_cancer()\n",
    "X = data.data\n",
    "y = data.target\n",
    "\n",
    "X_train, X_test, y_train, y_test = train_test_split(X, y, test_size=0.3, random_state=1)\n",
    "\n",
    "\n",
    "gb_classifier = GradientBoostingClassifier(n_estimators=100, random_state=1)\n",
    "\n",
    "\n"
   ]
  },
  {
   "cell_type": "code",
   "execution_count": 19,
   "metadata": {},
   "outputs": [
    {
     "name": "stdout",
     "output_type": "stream",
     "text": [
      "Feature Importance:\n",
      "mean radius: 0.0033\n",
      "mean texture: 0.0082\n",
      "mean perimeter: 0.0010\n",
      "mean area: 0.0001\n",
      "mean smoothness: 0.0002\n",
      "mean compactness: 0.0006\n",
      "mean concavity: 0.0023\n",
      "mean concave points: 0.0311\n",
      "mean symmetry: 0.0022\n",
      "mean fractal dimension: 0.0000\n",
      "radius error: 0.0023\n",
      "texture error: 0.0005\n",
      "perimeter error: 0.0008\n",
      "area error: 0.0058\n",
      "smoothness error: 0.0002\n",
      "compactness error: 0.0003\n",
      "concavity error: 0.0002\n",
      "concave points error: 0.0063\n",
      "symmetry error: 0.0019\n",
      "fractal dimension error: 0.0036\n",
      "worst radius: 0.0886\n",
      "worst texture: 0.0651\n",
      "worst perimeter: 0.6641\n",
      "worst area: 0.0377\n",
      "worst smoothness: 0.0119\n",
      "worst compactness: 0.0064\n",
      "worst concavity: 0.0119\n",
      "worst concave points: 0.0418\n",
      "worst symmetry: 0.0012\n",
      "worst fractal dimension: 0.0003\n"
     ]
    },
    {
     "data": {
      "image/png": "[encoded data removed]",
      "text/plain": [
       "<Figure size 1000x600 with 1 Axes>"
      ]
     },
     "metadata": {},
     "output_type": "display_data"
    }
   ],
   "source": [
    "gb_classifier.fit(X_train, y_train)\n",
    "\n",
    "feature_importance = gb_classifier.feature_importances_\n",
    "\n",
    "print(\"Feature Importance:\")\n",
    "for i, feature in enumerate(data.feature_names):\n",
    "    print(f\"{feature}: {feature_importance[i]:.4f}\")\n",
    "\n",
    "plt.figure(figsize=(10, 6))\n",
    "plt.barh(data.feature_names, feature_importance, color='skyblue')\n",
    "plt.xlabel('Feature Importance')\n",
    "plt.title('Feature Importance - Gradient Boosting Classifier')\n",
    "plt.show()\n"
   ]
  },
  {
   "cell_type": "code",
   "execution_count": 20,
   "metadata": {},
   "outputs": [],
   "source": [
    "#17-Train a Gradient Boosting Regressor and evaluate using R-Squared Score\n",
    "from sklearn.ensemble import GradientBoostingRegressor\n",
    "from sklearn.datasets import fetch_california_housing\n",
    "from sklearn.model_selection import train_test_split\n",
    "from sklearn.metrics import r2_score\n",
    "\n",
    "\n",
    "data = fetch_california_housing()\n",
    "X = data.data\n",
    "y = data.target\n",
    "\n",
    "\n",
    "X_train, X_test, y_train, y_test = train_test_split(X, y, test_size=0.3, random_state=1)\n",
    "\n",
    "\n",
    "gb_regressor = GradientBoostingRegressor(n_estimators=100, random_state=1)\n",
    "\n",
    "\n"
   ]
  },
  {
   "cell_type": "code",
   "execution_count": 21,
   "metadata": {},
   "outputs": [
    {
     "name": "stdout",
     "output_type": "stream",
     "text": [
      "R-Squared Score of Gradient Boosting Regressor: 0.7847\n"
     ]
    }
   ],
   "source": [
    "\n",
    "gb_regressor.fit(X_train, y_train)\n",
    "\n",
    "y_pred = gb_regressor.predict(X_test)\n",
    "\n",
    "\n",
    "r2 = r2_score(y_test, y_pred)\n",
    "\n",
    "\n",
    "print(f\"R-Squared Score of Gradient Boosting Regressor: {r2:.4f}\")"
   ]
  },
  {
   "cell_type": "code",
   "execution_count": 22,
   "metadata": {},
   "outputs": [],
   "source": [
    "#18-Train an XGBoost Classifier on a dataset and compare accuracy with Gradient Boosting\n",
    "\n",
    "from sklearn.ensemble import GradientBoostingClassifier\n",
    "from sklearn.datasets import load_breast_cancer\n",
    "from sklearn.model_selection import train_test_split\n",
    "from sklearn.metrics import accuracy_score\n",
    "import xgboost as xgb\n",
    "\n",
    "data = load_breast_cancer()\n",
    "X = data.data\n",
    "y = data.target\n",
    "\n",
    "\n",
    "X_train, X_test, y_train, y_test = train_test_split(X, y, test_size=0.3, random_state=1)\n",
    "\n",
    "gb_classifier = GradientBoostingClassifier(n_estimators=100, random_state=1)\n",
    "gb_classifier.fit(X_train, y_train)\n",
    "\n",
    "y_pred_gb = gb_classifier.predict(X_test)\n",
    "\n",
    "accuracy_gb = accuracy_score(y_test, y_pred_gb)\n"
   ]
  },
  {
   "cell_type": "code",
   "execution_count": 23,
   "metadata": {},
   "outputs": [
    {
     "name": "stdout",
     "output_type": "stream",
     "text": [
      "Accuracy of Gradient Boosting Classifier: 96.49%\n",
      "Accuracy of XGBoost Classifier: 94.15%\n"
     ]
    }
   ],
   "source": [
    "\n",
    "\n",
    "xg_classifier = xgb.XGBClassifier(n_estimators=100, random_state=1)\n",
    "xg_classifier.fit(X_train, y_train)\n",
    "\n",
    "\n",
    "y_pred_xg = xg_classifier.predict(X_test)\n",
    "\n",
    "\n",
    "accuracy_xg = accuracy_score(y_test, y_pred_xg)\n",
    "\n",
    "\n",
    "print(f\"Accuracy of Gradient Boosting Classifier: {accuracy_gb * 100:.2f}%\")\n",
    "print(f\"Accuracy of XGBoost Classifier: {accuracy_xg * 100:.2f}%\")\n"
   ]
  },
  {
   "cell_type": "code",
   "execution_count": null,
   "metadata": {},
   "outputs": [],
   "source": [
    "#19-Train a CatBoost Classifier and evaluate using F1-Score\n",
    "\n",
    "from catboost import CatBoostClassifier\n",
    "from sklearn.datasets import load_breast_cancer\n",
    "from sklearn.model_selection import train_test_split\n",
    "from sklearn.metrics import f1_score\n",
    "\n",
    "\n",
    "data = load_breast_cancer()\n",
    "X = data.data\n",
    "y = data.target\n",
    "\n",
    "X_train, X_test, y_train, y_test = train_test_split(X, y, test_size=0.3, random_state=1)\n",
    "\n",
    "\n",
    "catboost_classifier = CatBoostClassifier(n_estimators=100, random_state=1, silent=True)"
   ]
  },
  {
   "cell_type": "code",
   "execution_count": null,
   "metadata": {},
   "outputs": [],
   "source": [
    "\n",
    "\n",
    "catboost_classifier.fit(X_train, y_train)\n",
    "\n",
    "\n",
    "y_pred = catboost_classifier.predict(X_test)\n",
    "\n",
    "\n",
    "f1 = f1_score(y_test, y_pred)\n",
    "\n",
    "\n",
    "print(f\"F1-Score of CatBoost Classifier: {f1:.4f}\")\n"
   ]
  },
  {
   "cell_type": "code",
   "execution_count": 25,
   "metadata": {},
   "outputs": [],
   "source": [
    "#20-Train an XGBoost Regressor and evaluate using Mean Squared Error (MSE)\n",
    "\n",
    "import xgboost as xgb\n",
    "from sklearn.datasets import fetch_california_housing\n",
    "from sklearn.model_selection import train_test_split\n",
    "from sklearn.metrics import mean_squared_error\n",
    "\n",
    "data = fetch_california_housing()\n",
    "X = data.data\n",
    "y = data.target\n",
    "\n",
    "X_train, X_test, y_train, y_test = train_test_split(X, y, test_size=0.3, random_state=1)\n",
    "\n",
    "\n",
    "xg_regressor = xgb.XGBRegressor(n_estimators=100, random_state=1)\n",
    "\n"
   ]
  },
  {
   "cell_type": "code",
   "execution_count": 26,
   "metadata": {},
   "outputs": [
    {
     "name": "stdout",
     "output_type": "stream",
     "text": [
      "Mean Squared Error (MSE) of XGBoost Regressor: 0.2239\n"
     ]
    }
   ],
   "source": [
    "\n",
    "xg_regressor.fit(X_train, y_train)\n",
    "\n",
    "y_pred = xg_regressor.predict(X_test)\n",
    "\n",
    "\n",
    "mse = mean_squared_error(y_test, y_pred)\n",
    "\n",
    "\n",
    "print(f\"Mean Squared Error (MSE) of XGBoost Regressor: {mse:.4f}\")\n"
   ]
  },
  {
   "cell_type": "code",
   "execution_count": 27,
   "metadata": {},
   "outputs": [
    {
     "name": "stderr",
     "output_type": "stream",
     "text": [
      "c:\\Users\\Dell\\AppData\\Local\\Programs\\Python\\Python311\\Lib\\site-packages\\sklearn\\ensemble\\_weight_boosting.py:519: FutureWarning: The SAMME.R algorithm (the default) is deprecated and will be removed in 1.6. Use the SAMME algorithm to circumvent this warning.\n",
      "  warnings.warn(\n"
     ]
    },
    {
     "name": "stdout",
     "output_type": "stream",
     "text": [
      "Feature Importance:\n",
      "mean radius: 0.0000\n",
      "mean texture: 0.0200\n",
      "mean perimeter: 0.0400\n",
      "mean area: 0.0100\n",
      "mean smoothness: 0.0300\n",
      "mean compactness: 0.0300\n",
      "mean concavity: 0.0100\n",
      "mean concave points: 0.0500\n",
      "mean symmetry: 0.0500\n",
      "mean fractal dimension: 0.0300\n",
      "radius error: 0.0200\n",
      "texture error: 0.0300\n",
      "perimeter error: 0.0600\n",
      "area error: 0.0400\n",
      "smoothness error: 0.0000\n",
      "compactness error: 0.0500\n",
      "concavity error: 0.0100\n",
      "concave points error: 0.0200\n",
      "symmetry error: 0.0000\n",
      "fractal dimension error: 0.0400\n",
      "worst radius: 0.0300\n",
      "worst texture: 0.1200\n",
      "worst perimeter: 0.0400\n",
      "worst area: 0.0800\n",
      "worst smoothness: 0.0300\n",
      "worst compactness: 0.0100\n",
      "worst concavity: 0.0200\n",
      "worst concave points: 0.0600\n",
      "worst symmetry: 0.0400\n",
      "worst fractal dimension: 0.0300\n"
     ]
    }
   ],
   "source": [
    "#21-Train an AdaBoost Classifier and visualize feature importance\n",
    "\n",
    "from sklearn.ensemble import AdaBoostClassifier\n",
    "from sklearn.datasets import load_breast_cancer\n",
    "from sklearn.model_selection import train_test_split\n",
    "import matplotlib.pyplot as plt\n",
    "\n",
    "\n",
    "data = load_breast_cancer()\n",
    "X = data.data\n",
    "y = data.target\n",
    "\n",
    "\n",
    "X_train, X_test, y_train, y_test = train_test_split(X, y, test_size=0.3, random_state=1)\n",
    "\n",
    "ada_boost_classifier = AdaBoostClassifier(n_estimators=100, random_state=1)\n",
    "\n",
    "\n",
    "ada_boost_classifier.fit(X_train, y_train)\n",
    "\n",
    "\n",
    "feature_importance = ada_boost_classifier.feature_importances_\n",
    "\n",
    "\n",
    "print(\"Feature Importance:\")\n",
    "for i, feature in enumerate(data.feature_names):\n",
    "    print(f\"{feature}: {feature_importance[i]:.4f}\")\n",
    "\n"
   ]
  },
  {
   "cell_type": "code",
   "execution_count": 28,
   "metadata": {},
   "outputs": [],
   "source": [
    "#22-Train a Gradient Boosting Regressor and plot learning curves\n",
    "\n",
    "import numpy as np\n",
    "import matplotlib.pyplot as plt\n",
    "from sklearn.ensemble import GradientBoostingRegressor\n",
    "from sklearn.datasets import fetch_california_housing\n",
    "from sklearn.model_selection import train_test_split, learning_curve\n",
    "\n",
    "\n",
    "data = fetch_california_housing()\n",
    "X = data.data\n",
    "y = data.target\n",
    "\n",
    "\n",
    "X_train, X_test, y_train, y_test = train_test_split(X, y, test_size=0.3, random_state=1)\n",
    "\n",
    "gb_regressor = GradientBoostingRegressor(n_estimators=100, random_state=1)\n",
    "\n",
    "\n",
    "train_sizes, train_scores, test_scores = learning_curve(\n",
    "    gb_regressor, X_train, y_train, train_sizes=np.linspace(0.1, 1.0, 10), cv=5, scoring='neg_mean_squared_error', n_jobs=-1)\n",
    "\n",
    "\n",
    "train_mean = -train_scores.mean(axis=1) \n",
    "test_mean = -test_scores.mean(axis=1)    \n",
    "train_std = train_scores.std(axis=1)\n",
    "test_std = test_scores.std(axis=1)"
   ]
  },
  {
   "cell_type": "code",
   "execution_count": null,
   "metadata": {},
   "outputs": [],
   "source": [
    "#23-Train an XGBoost Classifier and visualize feature importance\n",
    "\n",
    "import xgboost as xgb\n",
    "from sklearn.datasets import load_breast_cancer\n",
    "from sklearn.model_selection import train_test_split\n",
    "from sklearn.metrics import accuracy_score\n",
    "\n",
    "\n",
    "data = load_breast_cancer()\n",
    "X = data.data\n",
    "y = data.target\n",
    "\n",
    "\n",
    "X_train, X_test, y_train, y_test = train_test_split(X, y, test_size=0.3, random_state=1)\n",
    "\n",
    "xg_classifier = xgb.XGBClassifier(n_estimators=100, random_state=1)\n",
    "\n"
   ]
  },
  {
   "cell_type": "code",
   "execution_count": 30,
   "metadata": {},
   "outputs": [
    {
     "name": "stdout",
     "output_type": "stream",
     "text": [
      "Accuracy of XGBoost Classifier: 94.15%\n"
     ]
    }
   ],
   "source": [
    "\n",
    "\n",
    "xg_classifier.fit(X_train, y_train)\n",
    "\n",
    "y_pred = xg_classifier.predict(X_test)\n",
    "\n",
    "accuracy = accuracy_score(y_test, y_pred)\n",
    "\n",
    "print(f\"Accuracy of XGBoost Classifier: {accuracy * 100:.2f}%\")"
   ]
  },
  {
   "cell_type": "code",
   "execution_count": null,
   "metadata": {},
   "outputs": [],
   "source": [
    "#24- Train a CatBoost Classifier and plot the confusion matrix\n",
    "\n",
    "from catboost import CatBoostClassifier\n",
    "from sklearn.datasets import load_breast_cancer\n",
    "from sklearn.model_selection import train_test_split\n",
    "from sklearn.metrics import confusion_matrix, ConfusionMatrixDisplay\n",
    "import matplotlib.pyplot as plt\n",
    "\n",
    "\n",
    "data = load_breast_cancer()\n",
    "X = data.data\n",
    "y = data.target\n",
    "\n",
    "\n",
    "X_train, X_test, y_train, y_test = train_test_split(X, y, test_size=0.3, random_state=1)\n",
    "\n",
    "catboost_classifier = CatBoostClassifier(n_estimators=100, random_state=1, silent=True)\n",
    "\n",
    "catboost_classifier.fit(X_train, y_train)\n",
    "\n",
    "\n",
    "y_pred = catboost_classifier.predict(X_test)\n",
    "\n",
    "\n",
    "cm = confusion_matrix(y_test, y_pred)\n",
    "\n",
    "\n",
    "disp = ConfusionMatrixDisplay(confusion_matrix=cm, display_labels=data.target_names)\n",
    "disp.plot(cmap='Blues')\n",
    "plt.title('Confusion Matrix - CatBoost Classifier')\n",
    "plt.show()\n"
   ]
  },
  {
   "cell_type": "code",
   "execution_count": 32,
   "metadata": {},
   "outputs": [
    {
     "name": "stderr",
     "output_type": "stream",
     "text": [
      "c:\\Users\\Dell\\AppData\\Local\\Programs\\Python\\Python311\\Lib\\site-packages\\sklearn\\ensemble\\_weight_boosting.py:519: FutureWarning: The SAMME.R algorithm (the default) is deprecated and will be removed in 1.6. Use the SAMME algorithm to circumvent this warning.\n",
      "  warnings.warn(\n",
      "c:\\Users\\Dell\\AppData\\Local\\Programs\\Python\\Python311\\Lib\\site-packages\\sklearn\\ensemble\\_weight_boosting.py:519: FutureWarning: The SAMME.R algorithm (the default) is deprecated and will be removed in 1.6. Use the SAMME algorithm to circumvent this warning.\n",
      "  warnings.warn(\n",
      "c:\\Users\\Dell\\AppData\\Local\\Programs\\Python\\Python311\\Lib\\site-packages\\sklearn\\ensemble\\_weight_boosting.py:519: FutureWarning: The SAMME.R algorithm (the default) is deprecated and will be removed in 1.6. Use the SAMME algorithm to circumvent this warning.\n",
      "  warnings.warn(\n",
      "c:\\Users\\Dell\\AppData\\Local\\Programs\\Python\\Python311\\Lib\\site-packages\\sklearn\\ensemble\\_weight_boosting.py:519: FutureWarning: The SAMME.R algorithm (the default) is deprecated and will be removed in 1.6. Use the SAMME algorithm to circumvent this warning.\n",
      "  warnings.warn(\n",
      "c:\\Users\\Dell\\AppData\\Local\\Programs\\Python\\Python311\\Lib\\site-packages\\sklearn\\ensemble\\_weight_boosting.py:519: FutureWarning: The SAMME.R algorithm (the default) is deprecated and will be removed in 1.6. Use the SAMME algorithm to circumvent this warning.\n",
      "  warnings.warn(\n"
     ]
    }
   ],
   "source": [
    "#25-Train an AdaBoost Classifier with different numbers of estimators and compare accuracy\n",
    "\n",
    "from sklearn.ensemble import AdaBoostClassifier\n",
    "from sklearn.datasets import load_breast_cancer\n",
    "from sklearn.model_selection import train_test_split\n",
    "from sklearn.metrics import accuracy_score\n",
    "import matplotlib.pyplot as plt\n",
    "\n",
    "data = load_breast_cancer()\n",
    "X = data.data\n",
    "y = data.target\n",
    "\n",
    "X_train, X_test, y_train, y_test = train_test_split(X, y, test_size=0.3, random_state=1)\n",
    "\n",
    "\n",
    "n_estimators_list = [50, 100, 150, 200, 250]\n",
    "accuracies = []\n",
    "\n",
    "\n",
    "for n_estimators in n_estimators_list:\n",
    "    ada_boost_classifier = AdaBoostClassifier(n_estimators=n_estimators, random_state=1)\n",
    "    ada_boost_classifier.fit(X_train, y_train)\n",
    "    y_pred = ada_boost_classifier.predict(X_test)\n",
    "    accuracy = accuracy_score(y_test, y_pred)\n",
    "    accuracies.append(accuracy)\n",
    "\n"
   ]
  },
  {
   "cell_type": "code",
   "execution_count": null,
   "metadata": {},
   "outputs": [],
   "source": []
  }
 ],
 "metadata": {
  "kernelspec": {
   "display_name": "Python 3",
   "language": "python",
   "name": "python3"
  },
  "language_info": {
   "codemirror_mode": {
    "name": "ipython",
    "version": 3
   },
   "file_extension": ".py",
   "mimetype": "text/x-python",
   "name": "python",
   "nbconvert_exporter": "python",
   "pygments_lexer": "ipython3",
   "version": "3.11.4"
  }
 },
 "nbformat": 4,
 "nbformat_minor": 2
}
