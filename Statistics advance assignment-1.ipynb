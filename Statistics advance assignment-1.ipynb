{
 "cells": [
  {
   "cell_type": "code",
   "execution_count": 1,
   "metadata": {},
   "outputs": [],
   "source": [
    "#Statistics Advance Asssignment\n",
    "\n",
    "#1-Explain the properties of the F-distribution\n",
    "\n",
    "#Here are 3 key properties of the F-distribution:\n",
    "\n",
    "#Right-Skewed & Non-Negative:\n",
    "#The F-distribution is not symmetric and is right-skewed, meaning it has a long tail on the right. \n",
    "# Also, F-values are always greater than or equal to zero.\n",
    "\n",
    "#Used to Compare Variances:\n",
    "#It's primarily used in ANOVA and regression to compare two variances (ratio of two chi-square distributions divided by their degrees of freedom).\n",
    "\n",
    "#Shape Depends on Degrees of Freedom:\n",
    "#The shape of the distribution is determined by two parameters: numerator (df₁) and denominator (df₂) degrees of freedom. \n",
    "# As df increases, the distribution becomes more symmetric and approaches a normal distribution"
   ]
  },
  {
   "cell_type": "code",
   "execution_count": 2,
   "metadata": {},
   "outputs": [],
   "source": [
    "#2-In which types of statistical tests is the F-distribution used, and why is it appropriate for these tests\n",
    "\n",
    "#Here are 3 types of statistical tests where the F-distribution is used, and why it's appropriate:\n",
    "\n",
    "#ANOVA (Analysis of Variance):\n",
    "\n",
    "#Why: To compare means of 3 or more groups by analyzing variance between and within groups.\n",
    "\n",
    "#F-distribution is used because it tests whether the ratios of variances are significantly different.\n",
    "\n",
    "#Regression Analysis (Overall Model Fit):\n",
    "\n",
    "\n",
    "#Why: To test whether the explained variance by the regression model is significantly greater than the unexplained variance.\n",
    "\n",
    "#F-test evaluates if at least one predictor variable has a non-zero coefficient.\n",
    "\n",
    "#Equality of Two Variances:\n",
    "\n",
    "#Why: To directly compare the variances of two independent samples.\n",
    "\n",
    "#The F-ratio (variance₁ / variance₂) follows the F-distribution under the null hypothesis of equal variances."
   ]
  },
  {
   "cell_type": "code",
   "execution_count": 3,
   "metadata": {},
   "outputs": [],
   "source": [
    "#3- What are the key assumptions required for conducting an F-test to compare the variances of two\n",
    "#populations\n",
    "\n",
    "#Here are 3 key assumptions for conducting an F-test to compare the variances of two populations:\n",
    "\n",
    "#Independence:\n",
    "#The two samples must be independent of each other (no overlap or pairing).\n",
    "\n",
    "#Normality:\n",
    "#Both populations should be normally distributed. The F-test is sensitive to departures from normality.\n",
    "\n",
    "#Random Sampling:\n",
    "#The data should be collected through random sampling to ensure unbiased and representative results"
   ]
  },
  {
   "cell_type": "code",
   "execution_count": 4,
   "metadata": {},
   "outputs": [],
   "source": [
    "#4-What is the purpose of ANOVA, and how does it differ from a t-test?\n",
    "\n",
    "#Purpose of ANOVA: To test if there are significant differences between the means of three or more groups.\n",
    "\n",
    "#Difference from t-test: A t-test compares means between two groups, while ANOVA handles three or more simultaneously.\n",
    "\n",
    "#Why ANOVA: It controls Type I error better than doing multiple t-tests"
   ]
  },
  {
   "cell_type": "code",
   "execution_count": 5,
   "metadata": {},
   "outputs": [],
   "source": [
    "#5- Explain when and why you would use a one-way ANOVA instead of multiple t-tests when comparing more\n",
    "#than two groups\n",
    "\n",
    "#Use one-way ANOVA when comparing three or more group means based on one independent variable.\n",
    "\n",
    "#It’s preferred over multiple t-tests because it reduces the risk of Type I error (false positives).\n",
    "\n",
    "#ANOVA gives a single overall test for group differences instead of many separate ones."
   ]
  },
  {
   "cell_type": "code",
   "execution_count": 7,
   "metadata": {},
   "outputs": [],
   "source": [
    "#6-. Explain how variance is partitioned in ANOVA into between-group variance and within-group variance.\n",
    "#How does this partitioning contribute to the calculation of the F-statistic?\n",
    "\n",
    "#ANOVA splits total variance into between-group variance (differences among group means) and within-group variance (variability inside each group).\n",
    "\n",
    "#The F-statistic is calculated as the ratio:\n",
    "#F = (Between-group variance) / (Within-group variance).\n",
    "\n",
    "#A higher F-value suggests that group means differ more than expected by chance."
   ]
  },
  {
   "cell_type": "code",
   "execution_count": 8,
   "metadata": {},
   "outputs": [],
   "source": [
    "#7-Compare the classical (frequentist) approach to ANOVA with the Bayesian approach. What are the key\n",
    "#differences in terms of how they handle uncertainty, parameter estimation, and hypothesis testing\n",
    "\n",
    "#Frequentist ANOVA uses p-values and assumes fixed parameters, handling uncertainty via long-run frequencies of data.\n",
    "\n",
    "#Bayesian ANOVA treats parameters as random variables and handles uncertainty using probability distributions.\n",
    "\n",
    "#Frequentists use F-tests for hypotheses; Bayesians use posterior probabilities and credible intervals.\n",
    "\n"
   ]
  },
  {
   "cell_type": "code",
   "execution_count": 9,
   "metadata": {},
   "outputs": [],
   "source": [
    "#8-. Question: You have two sets of data representing the incomes of two different professions1\n",
    "#V Profession A: [48, 52, 55, 60, 62'\n",
    "#V Profession B: [45, 50, 55, 52, 47] Perform an F-test to determine if the variances of the two professions'\n",
    "#incomes are equal. What are your conclusions based on the F-test?\n",
    "\n",
    "#Task: Use Python to calculate the F-statistic and p-value for the given data.\n",
    "\n",
    "#Objective: Gain experience in performing F-tests and interpreting the results in terms of variance comparison"
   ]
  },
  {
   "cell_type": "code",
   "execution_count": 10,
   "metadata": {},
   "outputs": [
    {
     "data": {
      "text/plain": [
       "(2.089171974522293, 0.24652429950266966)"
      ]
     },
     "execution_count": 10,
     "metadata": {},
     "output_type": "execute_result"
    }
   ],
   "source": [
    "#ans-\n",
    "import numpy as np\n",
    "import scipy.stats as stats\n",
    "\n",
    "# Income data for Profession A and B\n",
    "profession_a = [48, 52, 55, 60, 62]\n",
    "profession_b = [45, 50, 55, 52, 47]\n",
    "\n",
    "# Calculate sample variances\n",
    "var_a = np.var(profession_a, ddof=1)\n",
    "var_b = np.var(profession_b, ddof=1)\n",
    "\n",
    "# Calculate F-statistic: larger variance / smaller variance\n",
    "if var_a > var_b:\n",
    "    f_statistic = var_a / var_b\n",
    "    dfn, dfd = len(profession_a) - 1, len(profession_b) - 1\n",
    "else:\n",
    "    f_statistic = var_b / var_a\n",
    "    dfn, dfd = len(profession_b) - 1, len(profession_a) - 1\n",
    "\n",
    "# Calculate p-value using the survival function\n",
    "p_value = stats.f.sf(f_statistic, dfn, dfd)\n",
    "\n",
    "f_statistic, p_value\n",
    "\n"
   ]
  },
  {
   "cell_type": "code",
   "execution_count": 11,
   "metadata": {},
   "outputs": [],
   "source": [
    "#F-Test Results:\n",
    "#F-statistic: 2.09\n",
    "\n",
    "#p-value: 0.25\n",
    "\n",
    "#Conclusion:\n",
    "#Since the p-value (0.25) > 0.05, we fail to reject the null hypothesis.\n",
    "\n",
    "#This means there is no significant difference in the variances of incomes between Profession A and Profession B."
   ]
  },
  {
   "cell_type": "code",
   "execution_count": 12,
   "metadata": {},
   "outputs": [],
   "source": [
    "#9-Question: Conduct a one-way ANOVA to test whether there are any statistically significant differences in\n",
    "#average heights between three different regions with the following data1\n",
    "#V Region A: [160, 162, 165, 158, 164'\n",
    "#V Region B: [172, 175, 170, 168, 174'\n",
    "#V Region C: [180, 182, 179, 185, 183'\n",
    "#V Task: Write Python code to perform the one-way ANOVA and interpret the results\n",
    "#V Objective: Learn how to perform one-way ANOVA using Python and interpret F-statistic and p-value"
   ]
  },
  {
   "cell_type": "code",
   "execution_count": 13,
   "metadata": {},
   "outputs": [
    {
     "data": {
      "text/plain": [
       "(67.87330316742101, 2.8706641879370266e-07)"
      ]
     },
     "execution_count": 13,
     "metadata": {},
     "output_type": "execute_result"
    }
   ],
   "source": [
    "# Heights data for three regions\n",
    "region_a = [160, 162, 165, 158, 164]\n",
    "region_b = [172, 175, 170, 168, 174]\n",
    "region_c = [180, 182, 179, 185, 183]\n",
    "\n",
    "# Perform one-way ANOVA\n",
    "f_statistic, p_value = stats.f_oneway(region_a, region_b, region_c)\n",
    "\n",
    "f_statistic, p_value\n",
    "\n"
   ]
  },
  {
   "cell_type": "code",
   "execution_count": 14,
   "metadata": {},
   "outputs": [],
   "source": [
    "#One-Way ANOVA Results:\n",
    "#F-statistic: 67.87\n",
    "\n",
    "#p-value: 2.87 × 10⁻⁷ (very close to 0)\n",
    "\n",
    "#Conclusion:\n",
    "#Since the p-value is much less than 0.05, we reject the null hypothesis.\n",
    "\n",
    "#This means there are statistically significant differences in average heights among the three regions"
   ]
  },
  {
   "cell_type": "code",
   "execution_count": null,
   "metadata": {},
   "outputs": [],
   "source": []
  }
 ],
 "metadata": {
  "kernelspec": {
   "display_name": "Python 3",
   "language": "python",
   "name": "python3"
  },
  "language_info": {
   "codemirror_mode": {
    "name": "ipython",
    "version": 3
   },
   "file_extension": ".py",
   "mimetype": "text/x-python",
   "name": "python",
   "nbconvert_exporter": "python",
   "pygments_lexer": "ipython3",
   "version": "3.11.4"
  }
 },
 "nbformat": 4,
 "nbformat_minor": 2
}
